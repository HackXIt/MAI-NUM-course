{
 "cells": [
  {
   "cell_type": "markdown",
   "metadata": {},
   "source": [
    "# Exercise A-3: Construction of a Matrix Corresponding to a Linear Mapping\n",
    "\n",
    "Find a $( 3 \\times 3 )$ matrix $( A )$ such that the mapping $( \\mathbf{x} \\to A\\mathbf{x} )$ has each of the following properties. Provide the matrix $( A )$ for all three cases.\n",
    "\n",
    "#### (a)\n",
    "\n",
    "**Requirement:**\n",
    "$\n",
    "[\n",
    "A \\begin{pmatrix} 1 \\\\ 0 \\\\ 0 \\end{pmatrix} = \\begin{pmatrix} 0 \\\\ 1 \\\\ 0 \\end{pmatrix}, \\quad\n",
    "A \\begin{pmatrix} 0 \\\\ 1 \\\\ 0 \\end{pmatrix} = \\begin{pmatrix} 0 \\\\ 0 \\\\ 1 \\end{pmatrix}, \\quad\n",
    "A \\begin{pmatrix} 0 \\\\ 0 \\\\ 1 \\end{pmatrix} = \\begin{pmatrix} 1 \\\\ 0 \\\\ 0 \\end{pmatrix}.\n",
    "]\n",
    "$\n",
    "\n",
    "**Additional Questions:**\n",
    "- Is $( A )$ orthogonal?\n",
    "- What is the inverse $( A^{-1} )$?\n",
    "- What is the matrix $( A^3 )$?\n",
    "\n",
    "#### (b)\n",
    "**Requirement:**\n",
    "$\n",
    "[\n",
    "A \\begin{pmatrix} 1 \\\\ 0 \\\\ 0 \\end{pmatrix} = \\begin{pmatrix} 1 \\\\ 0 \\\\ 0 \\end{pmatrix}, \\quad\n",
    "A \\begin{pmatrix} 0 \\\\ 1 \\\\ 0 \\end{pmatrix} = \\begin{pmatrix} 0 \\\\ 1 \\\\ 0 \\end{pmatrix}, \\quad\n",
    "A \\begin{pmatrix} 0 \\\\ 0 \\\\ 1 \\end{pmatrix} = \\begin{pmatrix} 0 \\\\ 0 \\\\ 0 \\end{pmatrix}.\n",
    "]\n",
    "$\n",
    "\n",
    "**Additional Questions:**\n",
    "- What type of mapping is this?\n",
    "- What is the transpose matrix $( A^T )$?\n",
    "- What is the matrix $( A^2 )$?\n",
    "\n",
    "#### (c) (Somewhat Advanced: Symmetric Matrices)\n",
    "Assume that for a matrix $( A )$, you only know pairwise orthonormal vectors $( \\mathbf{u}, \\mathbf{v}, \\mathbf{w} )$ and real numbers $( \\lambda, \\mu, \\omega )$ such that:\n",
    "$\n",
    "[\n",
    "A\\mathbf{u} = \\lambda \\mathbf{u}, \\quad A\\mathbf{v} = \\mu \\mathbf{v}, \\quad A\\mathbf{w} = \\omega \\mathbf{w}.\n",
    "]\n",
    "$\n",
    "\n",
    "1. **Reconstruct $( A )$ from this information.**  \n",
    "   *Hint:* Consider the matrix $( U = \\begin{bmatrix} \\mathbf{u} & \\mathbf{v} & \\mathbf{w} \\end{bmatrix} )$. What is $( U^{-1} )$?  \n",
    "\n",
    "2. **Show that $( A )$ is symmetric, i.e., $( A = A^T )$.**\n",
    "\n",
    "3. **Provide a specific numerical example.**\n",
    "\n",
    "**Note:** The vectors $( \\mathbf{u}, \\mathbf{v}, \\mathbf{w} )$ are called eigenvectors, and the scalars $( \\lambda, \\mu, \\omega )$ are called eigenvalues of the mapping.\n"
   ]
  },
  {
   "cell_type": "markdown",
   "metadata": {},
   "source": [
    "---"
   ]
  },
  {
   "cell_type": "code",
   "execution_count": 1,
   "metadata": {},
   "outputs": [],
   "source": [
    "# Imports\n",
    "import numpy as np\n",
    "import matplotlib.pyplot as plt\n",
    "from sympy import Matrix, Identity, Transpose, Eq, init_printing, symbols, latex, det, pi, cos, sin\n",
    "from sympy.abc import A\n",
    "from IPython.display import display, Math"
   ]
  },
  {
   "cell_type": "code",
   "execution_count": 2,
   "metadata": {},
   "outputs": [],
   "source": [
    "# Pre-requisites for pretty printing\n",
    "init_printing()"
   ]
  },
  {
   "cell_type": "code",
   "execution_count": 3,
   "metadata": {},
   "outputs": [],
   "source": [
    "# Function to format matrices dynamically for LaTeX\n",
    "def format_matrix(name, matrix):\n",
    "    return f\"{name} = \" + latex(matrix)\n",
    "# Function to format determinants dynamically for LaTeX\n",
    "def format_determinant(name, determinant):\n",
    "    return f\"\\\\det({name}) = \" + latex(determinant)\n",
    "# Function to format vectors dynamically for LaTeX\n",
    "def format_vector(name, vector):\n",
    "    return f\"{name} = \" + latex(vector)"
   ]
  },
  {
   "cell_type": "markdown",
   "metadata": {},
   "source": [
    "# Solution for a)\n",
    "\n",
    "**Requirement:**\n",
    "$\n",
    "[\n",
    "A \\begin{pmatrix} 1 \\\\ 0 \\\\ 0 \\end{pmatrix} = \\begin{pmatrix} 0 \\\\ 1 \\\\ 0 \\end{pmatrix}, \\quad\n",
    "A \\begin{pmatrix} 0 \\\\ 1 \\\\ 0 \\end{pmatrix} = \\begin{pmatrix} 0 \\\\ 0 \\\\ 1 \\end{pmatrix}, \\quad\n",
    "A \\begin{pmatrix} 0 \\\\ 0 \\\\ 1 \\end{pmatrix} = \\begin{pmatrix} 1 \\\\ 0 \\\\ 0 \\end{pmatrix}.\n",
    "]\n",
    "$\n",
    "\n",
    "**Additional Questions:**\n",
    "- Is $( A )$ orthogonal?\n",
    "- What is the inverse $( A^{-1} )$?\n",
    "- What is the matrix $( A^3 )$?"
   ]
  },
  {
   "cell_type": "code",
   "execution_count": 4,
   "metadata": {},
   "outputs": [
    {
     "data": {
      "text/latex": [
       "$\\displaystyle A = \\left[\\begin{matrix}0 & 0 & 1\\\\1 & 0 & 0\\\\0 & 1 & 0\\end{matrix}\\right]$"
      ],
      "text/plain": [
       "<IPython.core.display.Math object>"
      ]
     },
     "metadata": {},
     "output_type": "display_data"
    },
    {
     "data": {
      "text/latex": [
       "$\\displaystyle A^T = \\left[\\begin{matrix}0 & 1 & 0\\\\0 & 0 & 1\\\\1 & 0 & 0\\end{matrix}\\right]$"
      ],
      "text/plain": [
       "<IPython.core.display.Math object>"
      ]
     },
     "metadata": {},
     "output_type": "display_data"
    },
    {
     "data": {
      "text/latex": [
       "$\\displaystyle \\det(A) = 1$"
      ],
      "text/plain": [
       "<IPython.core.display.Math object>"
      ]
     },
     "metadata": {},
     "output_type": "display_data"
    },
    {
     "data": {
      "text/latex": [
       "$\\displaystyle A \\cdot A^T = \\left[\\begin{matrix}0 & 1 & 0\\\\0 & 0 & 1\\\\1 & 0 & 0\\end{matrix}\\right]\\cdot\\left[\\begin{matrix}0 & 0 & 1\\\\1 & 0 & 0\\\\0 & 1 & 0\\end{matrix}\\right] = \\left[\\begin{matrix}1 & 0 & 0\\\\0 & 1 & 0\\\\0 & 0 & 1\\end{matrix}\\right]$"
      ],
      "text/plain": [
       "<IPython.core.display.Math object>"
      ]
     },
     "metadata": {},
     "output_type": "display_data"
    },
    {
     "data": {
      "text/latex": [
       "$\\displaystyle A \\text{ is orthogonal }: A \\cdot A^T =\\mathbb{I}\\Rightarrow True$"
      ],
      "text/plain": [
       "<IPython.core.display.Math object>"
      ]
     },
     "metadata": {},
     "output_type": "display_data"
    },
    {
     "data": {
      "text/latex": [
       "$\\displaystyle A^{-1} = \\left[\\begin{matrix}0 & 1 & 0\\\\0 & 0 & 1\\\\1 & 0 & 0\\end{matrix}\\right]$"
      ],
      "text/plain": [
       "<IPython.core.display.Math object>"
      ]
     },
     "metadata": {},
     "output_type": "display_data"
    },
    {
     "data": {
      "text/latex": [
       "$\\displaystyle A^3 = \\left[\\begin{matrix}1 & 0 & 0\\\\0 & 1 & 0\\\\0 & 0 & 1\\end{matrix}\\right]$"
      ],
      "text/plain": [
       "<IPython.core.display.Math object>"
      ]
     },
     "metadata": {},
     "output_type": "display_data"
    }
   ],
   "source": [
    "# Requirement: Construct matrix A\n",
    "A_a = Matrix([\n",
    "    [0, 0, 1],\n",
    "    [1, 0, 0],\n",
    "    [0, 1, 0]\n",
    "])\n",
    "\n",
    "# Check if A is orthogonal\n",
    "A_a_T = A_a.transpose()\n",
    "orthogonal_condition = A_a_T * A_a\n",
    "I = Identity(3)\n",
    "is_orthogonal = orthogonal_condition.equals(I)\n",
    "is_orthogonal_str = \"=\" if is_orthogonal else \"\\\\neq\"\n",
    "\n",
    "# Compute the inverse of A\n",
    "A_a_inv = A_a.inv()\n",
    "\n",
    "# Compute A^3\n",
    "A_a_3 = A_a**3\n",
    "\n",
    "# Display results\n",
    "display(Math(format_matrix(\"A\", A_a)))\n",
    "display(Math(format_matrix(\"A^T\", A_a_T)))\n",
    "display(Math(format_determinant(\"A\", det(A_a))))\n",
    "display(Math(\"A \\\\cdot A^T = \" + latex(A_a_T) + \"\\\\cdot\" + latex(A_a) + \" = \" + latex(orthogonal_condition)))\n",
    "display(Math(f\"A \\\\text{{ is orthogonal }}: A \\\\cdot A^T {is_orthogonal_str}\" + latex(I) + f\"\\\\Rightarrow {is_orthogonal}\"))\n",
    "display(Math(format_matrix(\"A^{-1}\", A_a_inv)))\n",
    "display(Math(format_matrix(\"A^3\", A_a_3)))"
   ]
  },
  {
   "cell_type": "markdown",
   "metadata": {},
   "source": [
    "# Solution for b)\n",
    "\n",
    "**Requirement:**\n",
    "$\n",
    "[\n",
    "A \\begin{pmatrix} 1 \\\\ 0 \\\\ 0 \\end{pmatrix} = \\begin{pmatrix} 1 \\\\ 0 \\\\ 0 \\end{pmatrix}, \\quad\n",
    "A \\begin{pmatrix} 0 \\\\ 1 \\\\ 0 \\end{pmatrix} = \\begin{pmatrix} 0 \\\\ 1 \\\\ 0 \\end{pmatrix}, \\quad\n",
    "A \\begin{pmatrix} 0 \\\\ 0 \\\\ 1 \\end{pmatrix} = \\begin{pmatrix} 0 \\\\ 0 \\\\ 0 \\end{pmatrix}.\n",
    "]\n",
    "$\n",
    "\n",
    "**Additional Questions:**\n",
    "- What type of mapping is this?\n",
    "- What is the transpose matrix $( A^T )$?\n",
    "- What is the matrix $( A^2 )$?"
   ]
  },
  {
   "cell_type": "code",
   "execution_count": 5,
   "metadata": {},
   "outputs": [
    {
     "data": {
      "text/latex": [
       "$\\displaystyle A = \\left[\\begin{matrix}1 & 0 & 0\\\\0 & 1 & 0\\\\0 & 0 & 0\\end{matrix}\\right]$"
      ],
      "text/plain": [
       "<IPython.core.display.Math object>"
      ]
     },
     "metadata": {},
     "output_type": "display_data"
    },
    {
     "data": {
      "text/latex": [
       "$\\displaystyle A^T = \\left[\\begin{matrix}1 & 0 & 0\\\\0 & 1 & 0\\\\0 & 0 & 0\\end{matrix}\\right]$"
      ],
      "text/plain": [
       "<IPython.core.display.Math object>"
      ]
     },
     "metadata": {},
     "output_type": "display_data"
    },
    {
     "data": {
      "text/latex": [
       "$\\displaystyle A^2 = \\left[\\begin{matrix}1 & 0 & 0\\\\0 & 1 & 0\\\\0 & 0 & 0\\end{matrix}\\right]$"
      ],
      "text/plain": [
       "<IPython.core.display.Math object>"
      ]
     },
     "metadata": {},
     "output_type": "display_data"
    },
    {
     "data": {
      "text/latex": [
       "$\\displaystyle A \\text{ mapping type }: Projection mapping$"
      ],
      "text/plain": [
       "<IPython.core.display.Math object>"
      ]
     },
     "metadata": {},
     "output_type": "display_data"
    }
   ],
   "source": [
    "# Requirement: Construct matrix A\n",
    "A_b = Matrix([\n",
    "    [1, 0, 0],\n",
    "    [0, 1, 0],\n",
    "    [0, 0, 0]\n",
    "])\n",
    "\n",
    "# Transpose of A\n",
    "A_b_T = A_b.transpose()\n",
    "\n",
    "# Compute A^2\n",
    "A_b_2 = A_b**2\n",
    "\n",
    "# Type of mapping: Projection mapping\n",
    "mapping_type = \"Projection mapping\"\n",
    "\n",
    "# Display results\n",
    "display(Math(format_matrix(\"A\", A_b)))\n",
    "display(Math(format_matrix(\"A^T\", A_b_T)))\n",
    "display(Math(format_matrix(\"A^2\", A_b_2)))\n",
    "display(Math(f\"A \\\\text{{ mapping type }}: {mapping_type}\"))"
   ]
  },
  {
   "cell_type": "markdown",
   "metadata": {},
   "source": [
    "# Solution for c)\n",
    "\n",
    "Assume that for a matrix $( A )$, you only know pairwise orthonormal vectors $( \\mathbf{u}, \\mathbf{v}, \\mathbf{w} )$ and real numbers $( \\lambda, \\mu, \\omega )$ such that:\n",
    "$\n",
    "[\n",
    "A\\mathbf{u} = \\lambda \\mathbf{u}, \\quad A\\mathbf{v} = \\mu \\mathbf{v}, \\quad A\\mathbf{w} = \\omega \\mathbf{w}.\n",
    "]\n",
    "$\n",
    "\n",
    "1. **Reconstruct $( A )$ from this information.**  \n",
    "   *Hint:* Consider the matrix $( U = \\begin{bmatrix} \\mathbf{u} & \\mathbf{v} & \\mathbf{w} \\end{bmatrix} )$. What is $( U^{-1} )$?  \n",
    "\n",
    "2. **Show that $( A )$ is symmetric, i.e., $( A = A^T )$.**\n",
    "\n",
    "3. **Provide a specific numerical example.**\n",
    "\n",
    "**Note:** The vectors $( \\mathbf{u}, \\mathbf{v}, \\mathbf{w} )$ are called eigenvectors, and the scalars $( \\lambda, \\mu, \\omega )$ are called eigenvalues of the mapping."
   ]
  },
  {
   "cell_type": "code",
   "execution_count": 6,
   "metadata": {},
   "outputs": [
    {
     "data": {
      "text/latex": [
       "$\\displaystyle U = \\left[\\begin{matrix}1 & 0 & 0\\\\0 & 1 & 0\\\\0 & 0 & 1\\end{matrix}\\right]$"
      ],
      "text/plain": [
       "<IPython.core.display.Math object>"
      ]
     },
     "metadata": {},
     "output_type": "display_data"
    },
    {
     "data": {
      "text/latex": [
       "$\\displaystyle \\Lambda = \\left[\\begin{matrix}\\lambda & 0 & 0\\\\0 & \\mu & 0\\\\0 & 0 & \\omega\\end{matrix}\\right] = \\left[\\begin{matrix}2 & 0 & 0\\\\0 & 3 & 0\\\\0 & 0 & 5\\end{matrix}\\right]$"
      ],
      "text/plain": [
       "<IPython.core.display.Math object>"
      ]
     },
     "metadata": {},
     "output_type": "display_data"
    },
    {
     "data": {
      "text/latex": [
       "$\\displaystyle A_\\text{numerical} = U \\cdot \\Lambda \\cdot U^T = \\left[\\begin{matrix}1 & 0 & 0\\\\0 & 1 & 0\\\\0 & 0 & 1\\end{matrix}\\right]\\cdot\\left[\\begin{matrix}2 & 0 & 0\\\\0 & 3 & 0\\\\0 & 0 & 5\\end{matrix}\\right]\\cdot\\left[\\begin{matrix}1 & 0 & 0\\\\0 & 1 & 0\\\\0 & 0 & 1\\end{matrix}\\right] = \\left[\\begin{matrix}2 & 0 & 0\\\\0 & 3 & 0\\\\0 & 0 & 5\\end{matrix}\\right]$"
      ],
      "text/plain": [
       "<IPython.core.display.Math object>"
      ]
     },
     "metadata": {},
     "output_type": "display_data"
    }
   ],
   "source": [
    "# Given eigenvectors and eigenvalues\n",
    "u = Matrix([1, 0, 0])\n",
    "v = Matrix([0, 1, 0])\n",
    "w = Matrix([0, 0, 1])\n",
    "lambda_, mu, omega = symbols(\"lambda mu omega\")\n",
    "\n",
    "# Construct U and Λ\n",
    "U = Matrix.hstack(u, v, w)\n",
    "Lambda = Matrix.diag(lambda_, mu, omega)\n",
    "\n",
    "# Reconstruct A symbolically\n",
    "A_c = U * Lambda * U.transpose()\n",
    "\n",
    "# Numerical example\n",
    "lambda_val, mu_val, omega_val = 2, 3, 5\n",
    "lambda_matrix = Matrix.diag(lambda_val, mu_val, omega_val)\n",
    "\n",
    "A = U * lambda_matrix * U.transpose()\n",
    "\n",
    "# Display results\n",
    "display(Math(format_matrix(\"U\", U)))\n",
    "display(Math(format_matrix(\"\\\\Lambda\", Lambda) + f\" = \" + latex(lambda_matrix)))\n",
    "# Display numerical reconstruction equation and results\n",
    "display(Math(f\"A_\\\\text{{numerical}} = U \\\\cdot \\\\Lambda \\\\cdot U^T = \" \n",
    "             + latex(U) + \"\\\\cdot\" + latex(lambda_matrix) + \"\\\\cdot\" + latex(U.transpose()) \n",
    "             + f\" = \" + latex(A)))\n"
   ]
  }
 ],
 "metadata": {
  "kernelspec": {
   "display_name": ".venv",
   "language": "python",
   "name": "python3"
  },
  "language_info": {
   "codemirror_mode": {
    "name": "ipython",
    "version": 3
   },
   "file_extension": ".py",
   "mimetype": "text/x-python",
   "name": "python",
   "nbconvert_exporter": "python",
   "pygments_lexer": "ipython3",
   "version": "3.12.0"
  }
 },
 "nbformat": 4,
 "nbformat_minor": 2
}
