{
 "cells": [
  {
   "cell_type": "markdown",
   "metadata": {},
   "source": [
    "# Exercise A-6: Numerical instability caused by cancellation\n",
    "\n",
    "We aim to evaluate the function\n",
    "$$f(x) = exp(x) − 1$$\n",
    "on a computer (in double precision arithmetic) for very small values of $|x|$, i.e., $0 < |x| ≪ 1$.\n",
    "\n",
    "1. Experiment on the computer using double precision arithmetic (you\n",
    "   may assume that the exp function is implemented correctly in double\n",
    "   precision). Choose $x = 10^{−k}, k = 1, 2, 3, 4, 5, . . ..$\n",
    "   \n",
    "   For comparison, you can obtain an “almost exact” value of the function\n",
    "   $f$ using the Taylor expansion of $exp(x)$ about $x = 0$, for example, up to the $10^{\\text{th}}$ degree (this is a brute-force method).\n",
    "   \n",
    "   For comparison of the results, plot the relative error between the two\n",
    "   evaluation methods on a logarithmic scale.\n",
    "2. By comparing the two methods, you will see that the direct evaluation\n",
    "   of $f(x)$ in its given form is numerically unstable, i.e., it yields very inaccurate results for $|x| \\Rightarrow 0$. Can you explain this observation?"
   ]
  },
  {
   "cell_type": "code",
   "execution_count": null,
   "metadata": {},
   "outputs": [],
   "source": [
    "# Imports\n",
    "import numpy as np\n",
    "import matplotlib.pyplot as plt\n",
    "from sympy import Matrix, Identity, Transpose, Eq, init_printing, symbols, latex, det, pi, cos, sin\n",
    "from sympy.abc import A\n",
    "from IPython.display import display, Math"
   ]
  },
  {
   "cell_type": "code",
   "execution_count": null,
   "metadata": {},
   "outputs": [],
   "source": [
    "# Pre-requisites for pretty printing\n",
    "init_printing()"
   ]
  },
  {
   "cell_type": "code",
   "execution_count": null,
   "metadata": {},
   "outputs": [],
   "source": [
    "# Function to format matrices dynamically for LaTeX\n",
    "def format_matrix(name, matrix):\n",
    "    return f\"{name} = \" + latex(matrix)\n",
    "# Function to format determinants dynamically for LaTeX\n",
    "def format_determinant(name, determinant):\n",
    "    return f\"\\\\det({name}) = \" + latex(determinant)\n",
    "# Function to format vectors dynamically for LaTeX\n",
    "def format_vector(name, vector):\n",
    "    return f\"{name} = \" + latex(vector)\n",
    "def format_dot_product(name, matrix1: Matrix, matrix2: Matrix):\n",
    "    result = matrix1 * matrix2\n",
    "    # Start LaTeX formatting\n",
    "    latex_str = f\"{name} = \\\\begin{{bmatrix}}\\n\"\n",
    "    # Iterate over the result matrix to format each cell\n",
    "    for i in range(result.rows):\n",
    "        row_operations = []\n",
    "        for j in range(result.cols):\n",
    "            terms = []\n",
    "            for k in range(matrix1.cols):\n",
    "                terms.append(f\"{latex(matrix1[i, k])} \\\\cdot {latex(matrix2[k, j]) if matrix2.shape[1] > 1 else latex(matrix2[k])}\")\n",
    "            operation = \" + \".join(terms)\n",
    "            row_operations.append(f\"({operation})\")\n",
    "        latex_str += \" & \".join(row_operations) + \" \\\\\\\\\\n\"\n",
    "\n",
    "    latex_str += \"\\\\end{bmatrix} = \" + latex(result)\n",
    "    return result, latex_str"
   ]
  },
  {
   "cell_type": "markdown",
   "metadata": {},
   "source": [
    "# Solution for 1)\n",
    "\n",
    "Experiment on the computer using double precision arithmetic (you may assume that the exp function is implemented correctly in double\n",
    "precision). Choose $x = 10^{−k}, k = 1, 2, 3, 4, 5, . . ..$\n",
    "\n",
    "For comparison, you can obtain an “almost exact” value of the function\n",
    "$f$ using the Taylor expansion of $exp(x)$ about $x = 0$, for example, up to the $10^{\\text{th}}$ degree (this is a brute-force method).\n",
    "\n",
    "For comparison of the results, plot the relative error between the two\n",
    "evaluation methods on a logarithmic scale."
   ]
  },
  {
   "cell_type": "code",
   "execution_count": null,
   "metadata": {},
   "outputs": [],
   "source": []
  },
  {
   "cell_type": "markdown",
   "metadata": {},
   "source": [
    "# Solution for 2)\n",
    "\n",
    "By comparing the two methods, you will see that the direct evaluation\n",
    "   of $f(x)$ in its given form is numerically unstable, i.e., it yields very inaccurate results for $|x| \\Rightarrow 0$. Can you explain this observation?"
   ]
  },
  {
   "cell_type": "code",
   "execution_count": null,
   "metadata": {},
   "outputs": [],
   "source": []
  }
 ],
 "metadata": {
  "language_info": {
   "name": "python"
  }
 },
 "nbformat": 4,
 "nbformat_minor": 2
}
