{
 "cells": [
  {
   "cell_type": "markdown",
   "metadata": {},
   "source": [
    "# Exercise B-4: Justification of the approach in Exercise B-3\n",
    "\n",
    "The equation $f(x, y) = \\text{const}$. describes a curve in the plane implicitly. Under suitable conditions, such a curve can also be described explicitly, for example in the form $(x(t), y(t))$ with a parameter $t$. One can think of this as a trajectory of an object at time $t$. Then $(x′(t), y′(t))^T$ is the tangent vector (specifically: velocity vector) to the curve at the point $(x(t), y(t))^T$ . \n",
    "\n",
    "Refer to Exercise 3.a):\n",
    "\n",
    "Prove by using the chain rule that the gradient $(fx, fy)$ is indeed orthogonal to the tangent vector $(x′, y′)$."
   ]
  }
 ],
 "metadata": {
  "language_info": {
   "name": "python"
  }
 },
 "nbformat": 4,
 "nbformat_minor": 2
}
