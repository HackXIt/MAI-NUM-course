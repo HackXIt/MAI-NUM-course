{
 "cells": [
  {
   "cell_type": "markdown",
   "metadata": {},
   "source": [
    "# Description B-3: Gradient descent (reference)\n",
    "\n",
    "Suppose we are given a function $f(x, y)$ in two real variables. Assume that this function is convex. A simple example would be the function\n",
    "$$f (x, y) = x2 + y2$$\n",
    "which has a unique minimum at $(x, y) = (0, 0)$. Imagine that the function $z = f (x, y)$ describes a landscape (with $x$, $y$ in the plane, and $z$ as the vertical\n",
    "coordinate). The gradient vector\n",
    "$$\\Delta{f(x, y)} = (fx, fy)$$\n",
    "describes the direction in which the function $f$ increases the most at the point $(x, y)$ , (or the direction of maximum decrease for $−\\Delta{f(x, y)}$) .\n",
    "\n",
    "- Consider this fact for the simple function $f(x, y) = x^2 + y^2$. Sketch the *contour lines* $x^2 + y^2 =$ const and verify that the gradient vector $\\Delta{f}$ is orthogonal to the contour lines at each point (sketch!). This property forms the basis for the gradient descent method, see also Exercise 4 below.\n",
    "    \n",
    "    To find a minimum in general, we proceed iteratively, starting from an initial approximation $(x0, y0)$ :\n",
    "    $$(x_1, y_1) := (x_0, y_0) − \\gamma \\Delta f(x_0, y_0)$$\n",
    "\n",
    "    Here, $\\gamma > 0$ is a parameter that needs to be chosen appropriately. Choosing $\\gamma = 1$ might cause the iteration step to ’overshoot’.\n",
    "    \n",
    "    In this case, one might choose $\\gamma = 1/2$ and repeat the process, etc.\n",
    "\n",
    "- Implement and test this strategy for the model problem $f(x, y) = x^2 + y^2$.\n",
    "\n",
    "----"
   ]
  },
  {
   "cell_type": "markdown",
   "metadata": {},
   "source": [
    "# Exercise B-4: Justification of the approach in Exercise B-3\n",
    "\n",
    "The equation $f(x, y) = \\text{const}$. describes a curve in the plane implicitly. Under suitable conditions, such a curve can also be described explicitly, for example in the form $(x(t), y(t))$ with a parameter $t$. One can think of this as a trajectory of an object at time $t$. Then $(x^{′}(t), y^{′}(t))^T$ is the tangent vector (specifically: velocity vector) to the curve at the point $(x(t), y(t))^T$ . \n",
    "\n",
    "Refer to Exercise 3.a):\n",
    "\n",
    "Prove by using the chain rule that the gradient $(fx, fy)$ is indeed orthogonal to the tangent vector $(x^{′}, y^{′})$ ."
   ]
  },
  {
   "cell_type": "markdown",
   "metadata": {},
   "source": [
    "# Solution\n",
    "\n",
    "Consider the level curve defined by the equation\n",
    "$f(x, y) = \\text{const}.$\n",
    "\n",
    "Without loss of generality, let this constant be some fixed value $c$. Thus, the level curve is given by\n",
    "$$f(x, y) = c.$$\n",
    "\n",
    "Under suitable smoothness conditions, we can represent the curve implicitly defined by $f(x, y) = c$ in a parametric form. That is, we assume there exists a differentiable parametrization \n",
    "$$x = x(t), \\quad y = y(t),$$\n",
    "so that for all values of the parameter $t$,\n",
    "$$f(x(t), y(t)) = c.$$\n",
    "\n",
    "Since the right-hand side $c$ is a constant, we can differentiate both sides of the equation $f(x(t), y(t)) = c$ with respect to $t$ and set the derivative equal to zero:\n",
    "$$\\frac{d}{dt} f(x(t), y(t)) = 0.$$\n",
    "\n",
    "By the chain rule for multivariable functions, the left-hand side expands as:\n",
    "$$\\frac{\\partial f}{\\partial x}(x(t), y(t)) \\cdot \\frac{dx}{dt} + \\frac{\\partial f}{\\partial y}(x(t), y(t)) \\cdot \\frac{dy}{dt} = 0$$\n",
    "\n",
    "For brevity, let $f_x = \\frac{\\partial f}{\\partial x}(x(t), y(t))$ and $f_y = \\frac{\\partial f}{\\partial y}(x(t), y(t))$\n",
    "\n",
    "Similarly, let $x'(t) = \\frac{dx}{dt}$ and $y'(t) = \\frac{dy}{dt}$.\n",
    "\n",
    "Then the equation becomes:\n",
    "$$f_x x'(t) + f_y y'(t) = 0$$\n",
    "\n",
    "This can be interpreted as the dot product of the gradient vector of $f$ at the point $(x(t), y(t))$ with the tangent (velocity) vector of the curve:\n",
    "$$(f_x, f_y) \\cdot (x', y') = 0$$\n",
    "\n",
    "In vector form:\n",
    "$$\\nabla f(x(t), y(t)) \\cdot \\begin{pmatrix} x'(t) \\\\ y'(t) \\end{pmatrix} = 0$$\n",
    "\n",
    "The dot product being zero implies that the two vectors are orthogonal. Therefore, the gradient vector $\\nabla f = (f_x, f_y)$ is orthogonal to the tangent vector $(x', y')$ of the level curve $f(x, y) = c$ at every point on the curve.\n",
    "\n",
    "**Conclusion:**\n",
    "\n",
    "By applying the chain rule and differentiating along a parametric representation of the level curve, we have shown that the gradient vector $\\nabla f$ is orthogonal to any tangent vector of the curve defined by $f(x, y) = \\text{const}.$"
   ]
  },
  {
   "cell_type": "markdown",
   "metadata": {},
   "source": [
    "# Programmatic solution\n",
    "\n",
    "1. We pick a function $f(x, y)$. For simplicity, let's use $f(x, y) = x^2 + y^2$.\n",
    "2. Choose a level curve $f(x, y) = c$. For instance, $c = 1$ gives $x^2 + y^2 = 1$, which is the unit circle.\n",
    "3. Parametrize this level curve. For the unit circle, a natural parametrization is $x(t) = \\cos(t), y(t) = \\sin(t)$.\n",
    "4. Compute the gradient $\\nabla f(x(t), y(t))$.\n",
    "5. Compute the tangent vector $(x'(t), y'(t))$ to the curve.\n",
    "6. Verify numerically that the dot product $\\nabla f \\cdot (x', y')$ is approximately zero for various values of $t$.\n",
    "\n",
    "# Explanation\n",
    "\n",
    "- We choose $f(x, y) = x^2 + y^2$. Its level curve $f(x, y) = 1$ is the unit circle.\n",
    "- The parametrization $x(t) = \\cos(t), y(t) = \\sin(t)$ satisfies $\\cos^2(t) + \\sin^2(t) = 1$ for all $t$.\n",
    "- The gradient of $f$ at $ (x, y)$ is $(2x, 2y)$.\n",
    "- On the unit circle, at $(x\\_t, y\\_t) = (\\cos(t), \\sin(t))$, the gradient is $(2\\cos(t), 2\\sin(t))$.\n",
    "- The tangent vector of the circle’s parametrization is $(x'(t), y'(t)) = (-\\sin(t), \\cos(t))$.\n",
    "- We verify that $\\nabla f(x(t), y(t)) \\cdot (x'(t), y'(t)) = 2\\cos(t)(-\\sin(t)) + 2\\sin(t)\\cos(t) = 0$."
   ]
  },
  {
   "cell_type": "code",
   "execution_count": 1,
   "metadata": {},
   "outputs": [],
   "source": [
    "# Imports\n",
    "import numpy as np"
   ]
  },
  {
   "cell_type": "code",
   "execution_count": 2,
   "metadata": {},
   "outputs": [],
   "source": [
    "def f(x, y):\n",
    "    return x**2 + y**2\n",
    "\n",
    "def grad_f(x, y):\n",
    "    return 2*x, 2*y"
   ]
  },
  {
   "cell_type": "code",
   "execution_count": 3,
   "metadata": {},
   "outputs": [
    {
     "name": "stdout",
     "output_type": "stream",
     "text": [
      "t = 0.00 | grad = [2. 0.], tangent = [-0.  1.], dot = 0.000000\n",
      "t = 0.70 | grad = [1.53208889 1.28557522], tangent = [-0.64278761  0.76604444], dot = 0.000000\n",
      "t = 1.40 | grad = [0.34729636 1.96961551], tangent = [-0.98480775  0.17364818], dot = 0.000000\n",
      "t = 2.09 | grad = [-1.          1.73205081], tangent = [-0.8660254 -0.5      ], dot = 0.000000\n",
      "t = 2.79 | grad = [-1.87938524  0.68404029], tangent = [-0.34202014 -0.93969262], dot = 0.000000\n",
      "t = 3.49 | grad = [-1.87938524 -0.68404029], tangent = [ 0.34202014 -0.93969262], dot = 0.000000\n",
      "t = 4.19 | grad = [-1.         -1.73205081], tangent = [ 0.8660254 -0.5      ], dot = 0.000000\n",
      "t = 4.89 | grad = [ 0.34729636 -1.96961551], tangent = [0.98480775 0.17364818], dot = 0.000000\n",
      "t = 5.59 | grad = [ 1.53208889 -1.28557522], tangent = [0.64278761 0.76604444], dot = 0.000000\n",
      "t = 6.28 | grad = [ 2.0000000e+00 -4.8985872e-16], tangent = [2.4492936e-16 1.0000000e+00], dot = 0.000000\n"
     ]
    }
   ],
   "source": [
    "# Level curve: f(x, y) = 1 -> x^2 + y^2 = 1\n",
    "# Parametrization: x(t) = cos(t), y(t) = sin(t)\n",
    "# Thus, x'(t) = -sin(t), y'(t) = cos(t)\n",
    "\n",
    "# We'll sample several points along the circle and check the dot product\n",
    "t_values = np.linspace(0, 2*np.pi, 10)\n",
    "\n",
    "for t in t_values:\n",
    "    x_t = np.cos(t)\n",
    "    y_t = np.sin(t)\n",
    "    \n",
    "    # Compute gradient at (x_t, y_t)\n",
    "    fx, fy = grad_f(x_t, y_t)\n",
    "    grad_vec = np.array([fx, fy])\n",
    "    \n",
    "    # Compute tangent vector\n",
    "    # Parametric derivative: \n",
    "    # dx/dt = -sin(t), dy/dt = cos(t)\n",
    "    # This is exactly tangent to x(t), y(t) = (cos(t), sin(t))\n",
    "    tangent_vec = np.array([-np.sin(t), np.cos(t)])\n",
    "    \n",
    "    # Dot product\n",
    "    dot_product = np.dot(grad_vec, tangent_vec)\n",
    "    \n",
    "    print(f\"t = {t:.2f} | grad = {grad_vec}, tangent = {tangent_vec}, dot = {dot_product:.6f}\")\n"
   ]
  }
 ],
 "metadata": {
  "kernelspec": {
   "display_name": ".venv",
   "language": "python",
   "name": "python3"
  },
  "language_info": {
   "codemirror_mode": {
    "name": "ipython",
    "version": 3
   },
   "file_extension": ".py",
   "mimetype": "text/x-python",
   "name": "python",
   "nbconvert_exporter": "python",
   "pygments_lexer": "ipython3",
   "version": "3.12.8"
  }
 },
 "nbformat": 4,
 "nbformat_minor": 2
}
