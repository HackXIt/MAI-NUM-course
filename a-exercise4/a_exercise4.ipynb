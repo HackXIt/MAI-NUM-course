{
 "cells": [
  {
   "cell_type": "markdown",
   "metadata": {},
   "source": [
    "# Exercise A-4: Elimination methods for solving linear systems\n",
    "\n",
    "Given an $( n \\times n )$ matrix $( A )$, we consider the linear system $( A\\mathbf{x} = \\mathbf{b} )$ for a given right-hand side $( \\mathbf{b} \\in \\mathbb{R}^n )$. The vector $( \\mathbf{x} \\in \\mathbb{R}^n )$ is sought.\n",
    "\n",
    "The usual approach is as follows: The matrix $( A )$ is decomposed into a product of a ‘lower triangular matrix’ $( L )$ and an ‘upper triangular matrix’ $( U )$. The diagonal of $( L )$ is normalized to 1. For example, for $( n = 3 )$, we have:\n",
    "$$\n",
    "L = \\begin{pmatrix}\n",
    "1 & 0 & 0 \\\\\n",
    "* & 1 & 0 \\\\\n",
    "* & * & 1\n",
    "\\end{pmatrix}, \\quad\n",
    "U = \\begin{pmatrix}\n",
    "* & * & * \\\\\n",
    "0 & * & * \\\\\n",
    "0 & 0 & *\n",
    "\\end{pmatrix}\n",
    "$$\n",
    "with certain entries $( * )$ that depend on the given matrix $( A )$. This decomposition process is called **LU decomposition**, and it corresponds to the well-known concept of Gaussian elimination.\n",
    "\n",
    "**Your task**: Choose $( L )$ and $( U )$ arbitrarily and set $( A = L \\cdot U )$. Use the LU decomposition to solve the system of linear equations $( A\\mathbf{x} = \\mathbf{b} )$ for some given vector $( \\mathbf{b} )$. Verify your calculation.\n",
    "\n",
    "**Remark**: The derivation of the LU decomposition for a given $( A )$ is not required here.\n"
   ]
  },
  {
   "cell_type": "code",
   "execution_count": 8,
   "metadata": {},
   "outputs": [],
   "source": [
    "# Imports\n",
    "import numpy as np\n",
    "import matplotlib.pyplot as plt\n",
    "from sympy import Matrix, Identity, Transpose, Eq, init_printing, symbols, latex, det, pi, cos, sin\n",
    "from sympy.abc import A\n",
    "from IPython.display import display, Math"
   ]
  },
  {
   "cell_type": "code",
   "execution_count": 9,
   "metadata": {},
   "outputs": [],
   "source": [
    "# Pre-requisites for pretty printing\n",
    "init_printing()"
   ]
  },
  {
   "cell_type": "code",
   "execution_count": 10,
   "metadata": {},
   "outputs": [],
   "source": [
    "# Function to format matrices dynamically for LaTeX\n",
    "def format_matrix(name, matrix):\n",
    "    return f\"{name} = \" + latex(matrix)\n",
    "# Function to format determinants dynamically for LaTeX\n",
    "def format_determinant(name, determinant):\n",
    "    return f\"\\\\det({name}) = \" + latex(determinant)\n",
    "# Function to format vectors dynamically for LaTeX\n",
    "def format_vector(name, vector):\n",
    "    return f\"{name} = \" + latex(vector)"
   ]
  },
  {
   "cell_type": "markdown",
   "metadata": {},
   "source": [
    "# Solution"
   ]
  },
  {
   "cell_type": "code",
   "execution_count": 14,
   "metadata": {},
   "outputs": [
    {
     "data": {
      "text/latex": [
       "$\\displaystyle L = \\left[\\begin{matrix}1 & 0 & 0\\\\l_{21} & 1 & 0\\\\l_{31} & l_{32} & 1\\end{matrix}\\right]$"
      ],
      "text/plain": [
       "<IPython.core.display.Math object>"
      ]
     },
     "metadata": {},
     "output_type": "display_data"
    },
    {
     "data": {
      "text/latex": [
       "$\\displaystyle U = \\left[\\begin{matrix}u_{11} & u_{12} & u_{13}\\\\0 & u_{22} & u_{23}\\\\0 & 0 & u_{33}\\end{matrix}\\right]$"
      ],
      "text/plain": [
       "<IPython.core.display.Math object>"
      ]
     },
     "metadata": {},
     "output_type": "display_data"
    },
    {
     "data": {
      "text/latex": [
       "$\\displaystyle A = L \\cdot U$"
      ],
      "text/plain": [
       "<IPython.core.display.Math object>"
      ]
     },
     "metadata": {},
     "output_type": "display_data"
    },
    {
     "data": {
      "text/latex": [
       "$\\displaystyle \\mathbf{b} = \\left[\\begin{matrix}b_{1}\\\\b_{2}\\\\b_{3}\\end{matrix}\\right]$"
      ],
      "text/plain": [
       "<IPython.core.display.Math object>"
      ]
     },
     "metadata": {},
     "output_type": "display_data"
    }
   ],
   "source": [
    "# Define the size of the matrix (n x n)\n",
    "n = 3\n",
    "\n",
    "# Define symbolic variables for the matrices and vectors\n",
    "from sympy import symbols, Matrix, eye\n",
    "x = Matrix(symbols(f\"x1:{n+1}\")).reshape(n, 1)  # Solution vector x\n",
    "b = Matrix(symbols(f\"b1:{n+1}\")).reshape(n, 1)  # Right-hand side vector b\n",
    "\n",
    "# Define arbitrary L and U matrices\n",
    "L = Matrix([\n",
    "    [1, 0, 0],\n",
    "    [symbols('l21'), 1, 0],\n",
    "    [symbols('l31'), symbols('l32'), 1]\n",
    "])\n",
    "\n",
    "U = Matrix([\n",
    "    [symbols('u11'), symbols('u12'), symbols('u13')],\n",
    "    [0, symbols('u22'), symbols('u23')],\n",
    "    [0, 0, symbols('u33')]\n",
    "])\n",
    "display(Math(format_matrix(\"L\", L)))\n",
    "display(Math(format_matrix(\"U\", U)))\n",
    "display(Math(\"A = L \\\\cdot U\"))\n",
    "display(Math(format_vector(\"\\\\mathbf{b}\", b)))"
   ]
  },
  {
   "cell_type": "code",
   "execution_count": 12,
   "metadata": {},
   "outputs": [
    {
     "data": {
      "text/latex": [
       "$\\displaystyle L = \\left[\\begin{matrix}1 & 0 & 0\\\\2 & 1 & 0\\\\3 & 4 & 1\\end{matrix}\\right]$"
      ],
      "text/plain": [
       "<IPython.core.display.Math object>"
      ]
     },
     "metadata": {},
     "output_type": "display_data"
    },
    {
     "data": {
      "text/latex": [
       "$\\displaystyle U = \\left[\\begin{matrix}1 & 2 & 3\\\\0 & 4 & 5\\\\0 & 0 & 6\\end{matrix}\\right]$"
      ],
      "text/plain": [
       "<IPython.core.display.Math object>"
      ]
     },
     "metadata": {},
     "output_type": "display_data"
    },
    {
     "data": {
      "text/latex": [
       "$\\displaystyle A = L \\cdot U = \\left[\\begin{matrix}1 & 2 & 3\\\\2 & 8 & 11\\\\3 & 22 & 35\\end{matrix}\\right]$"
      ],
      "text/plain": [
       "<IPython.core.display.Math object>"
      ]
     },
     "metadata": {},
     "output_type": "display_data"
    },
    {
     "data": {
      "text/latex": [
       "$\\displaystyle \\mathbf{b} = \\left[\\begin{matrix}14\\\\32\\\\50\\end{matrix}\\right]$"
      ],
      "text/plain": [
       "<IPython.core.display.Math object>"
      ]
     },
     "metadata": {},
     "output_type": "display_data"
    }
   ],
   "source": [
    "# Lower triangular matrix L (diagonal normalized to 1)\n",
    "L = Matrix([\n",
    "    [1, 0, 0],\n",
    "    [2, 1, 0],\n",
    "    [3, 4, 1]\n",
    "])\n",
    "\n",
    "# Upper triangular matrix U\n",
    "U = Matrix([\n",
    "    [1, 2, 3],\n",
    "    [0, 4, 5],\n",
    "    [0, 0, 6]\n",
    "])\n",
    "\n",
    "# Define the right-hand side vector b\n",
    "b = Matrix([14, 32, 50])\n",
    "\n",
    "# Compute A as the product of L and U\n",
    "A = L * U\n",
    "\n",
    "# Display the matrices and the linear system\n",
    "display(Math(format_matrix(\"L\", L)))\n",
    "display(Math(format_matrix(\"U\", U)))\n",
    "display(Math(format_matrix(\"A = L \\\\cdot U\", A)))\n",
    "display(Math(format_vector(\"\\\\mathbf{b}\", b)))"
   ]
  },
  {
   "cell_type": "code",
   "execution_count": 13,
   "metadata": {},
   "outputs": [
    {
     "data": {
      "text/latex": [
       "$\\displaystyle L \\cdot \\mathbf{y} = \\mathbf{b}$"
      ],
      "text/plain": [
       "<IPython.core.display.Math object>"
      ]
     },
     "metadata": {},
     "output_type": "display_data"
    },
    {
     "data": {
      "text/latex": [
       "$\\displaystyle L \\cdot \\mathbf{y} - \\mathbf{b} = 0 = \\left[\\begin{matrix}y_{1} - 14\\\\2 y_{1} + y_{2} - 32\\\\3 y_{1} + 4 y_{2} + y_{3} - 50\\end{matrix}\\right]$"
      ],
      "text/plain": [
       "<IPython.core.display.Math object>"
      ]
     },
     "metadata": {},
     "output_type": "display_data"
    },
    {
     "data": {
      "text/latex": [
       "$\\displaystyle \\mathbf{y} = \\left[\\begin{matrix}14\\\\4\\\\-8\\end{matrix}\\right]$"
      ],
      "text/plain": [
       "<IPython.core.display.Math object>"
      ]
     },
     "metadata": {},
     "output_type": "display_data"
    },
    {
     "data": {
      "text/latex": [
       "$\\displaystyle U \\cdot \\mathbf{x} = \\mathbf{y}$"
      ],
      "text/plain": [
       "<IPython.core.display.Math object>"
      ]
     },
     "metadata": {},
     "output_type": "display_data"
    },
    {
     "data": {
      "text/latex": [
       "$\\displaystyle U \\cdot \\mathbf{x} - \\mathbf{y} = 0 = \\left[\\begin{matrix}x_{1} + 2 x_{2} + 3 x_{3} - 14\\\\4 x_{2} + 5 x_{3} - 4\\\\6 x_{3} + 8\\end{matrix}\\right]$"
      ],
      "text/plain": [
       "<IPython.core.display.Math object>"
      ]
     },
     "metadata": {},
     "output_type": "display_data"
    },
    {
     "data": {
      "text/latex": [
       "$\\displaystyle \\mathbf{x} = \\left[\\begin{matrix}\\frac{38}{3}\\\\\\frac{8}{3}\\\\- \\frac{4}{3}\\end{matrix}\\right]$"
      ],
      "text/plain": [
       "<IPython.core.display.Math object>"
      ]
     },
     "metadata": {},
     "output_type": "display_data"
    },
    {
     "data": {
      "text/latex": [
       "$\\displaystyle A \\cdot \\mathbf{x} = \\left[\\begin{matrix}14\\\\32\\\\50\\end{matrix}\\right]$"
      ],
      "text/plain": [
       "<IPython.core.display.Math object>"
      ]
     },
     "metadata": {},
     "output_type": "display_data"
    },
    {
     "data": {
      "text/latex": [
       "$\\displaystyle \\mathbf{b} = \\left[\\begin{matrix}14\\\\32\\\\50\\end{matrix}\\right]$"
      ],
      "text/plain": [
       "<IPython.core.display.Math object>"
      ]
     },
     "metadata": {},
     "output_type": "display_data"
    },
    {
     "data": {
      "text/latex": [
       "$\\displaystyle \\text{Verification successful: } A \\cdot \\mathbf{x} = \\mathbf{b}$"
      ],
      "text/plain": [
       "<IPython.core.display.Math object>"
      ]
     },
     "metadata": {},
     "output_type": "display_data"
    }
   ],
   "source": [
    "# Solve the system A * x = b using LU decomposition\n",
    "# Step 1: Solve L * y = b for y\n",
    "y = Matrix(symbols(f\"y1:{n+1}\")).reshape(n, 1)  # Intermediate vector y\n",
    "eq1 = L * y - b\n",
    "display(Math(\"L \\\\cdot \\\\mathbf{y} = \\\\mathbf{b}\"))\n",
    "display(Math(format_matrix(\"L \\\\cdot \\\\mathbf{y} - \\\\mathbf{b} = 0\", eq1)))\n",
    "\n",
    "# Solve the equations for y\n",
    "y_solution = L.solve_least_squares(b)\n",
    "display(Math(format_vector(\"\\\\mathbf{y}\", y_solution)))\n",
    "\n",
    "# Step 2: Solve U * x = y for x\n",
    "eq2 = U * x - y_solution\n",
    "display(Math(\"U \\\\cdot \\\\mathbf{x} = \\\\mathbf{y}\"))\n",
    "display(Math(format_matrix(\"U \\\\cdot \\\\mathbf{x} - \\\\mathbf{y} = 0\", eq2)))\n",
    "\n",
    "# Solve the equations for x\n",
    "x_solution = U.solve_least_squares(y_solution)\n",
    "display(Math(format_vector(\"\\\\mathbf{x}\", x_solution)))\n",
    "\n",
    "# Verify the solution\n",
    "A_b_computed = A * x_solution\n",
    "display(Math(format_vector(\"A \\\\cdot \\\\mathbf{x}\", A_b_computed)))\n",
    "display(Math(format_vector(\"\\\\mathbf{b}\", b)))\n",
    "display(Math(\"\\\\text{Verification successful: } A \\\\cdot \\\\mathbf{x} = \\\\mathbf{b}\"))"
   ]
  }
 ],
 "metadata": {
  "kernelspec": {
   "display_name": ".venv",
   "language": "python",
   "name": "python3"
  },
  "language_info": {
   "codemirror_mode": {
    "name": "ipython",
    "version": 3
   },
   "file_extension": ".py",
   "mimetype": "text/x-python",
   "name": "python",
   "nbconvert_exporter": "python",
   "pygments_lexer": "ipython3",
   "version": "3.12.0"
  }
 },
 "nbformat": 4,
 "nbformat_minor": 2
}
