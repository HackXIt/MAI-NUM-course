{
 "cells": [
  {
   "cell_type": "markdown",
   "metadata": {},
   "source": [
    "# Exercise A-4: Elimination methods for solving linear systems\n",
    "\n",
    "Given an $( n \\times n )$ matrix $( A )$, we consider the linear system $( A\\mathbf{x} = \\mathbf{b} )$ for a given right-hand side $( \\mathbf{b} \\in \\mathbb{R}^n )$. The vector $( \\mathbf{x} \\in \\mathbb{R}^n )$ is sought.\n",
    "\n",
    "The usual approach is as follows: The matrix $( A )$ is decomposed into a product of a ‘lower triangular matrix’ $( L )$ and an ‘upper triangular matrix’ $( U )$. The diagonal of $( L )$ is normalized to 1. For example, for $( n = 3 )$, we have:\n",
    "$$\n",
    "L = \\begin{pmatrix}\n",
    "1 & 0 & 0 \\\\\n",
    "* & 1 & 0 \\\\\n",
    "* & * & 1\n",
    "\\end{pmatrix}, \\quad\n",
    "U = \\begin{pmatrix}\n",
    "* & * & * \\\\\n",
    "0 & * & * \\\\\n",
    "0 & 0 & *\n",
    "\\end{pmatrix}\n",
    "$$\n",
    "with certain entries $( * )$ that depend on the given matrix $( A )$. This decomposition process is called **LU decomposition**, and it corresponds to the well-known concept of Gaussian elimination.\n",
    "\n",
    "**Your task**: Choose $( L )$ and $( U )$ arbitrarily and set $( A = L \\cdot U )$. Use the LU decomposition to solve the system of linear equations $( A\\mathbf{x} = \\mathbf{b} )$ for some given vector $( \\mathbf{b} )$. Verify your calculation.\n",
    "\n",
    "**Remark**: The derivation of the LU decomposition for a given $( A )$ is not required here.\n"
   ]
  },
  {
   "cell_type": "code",
   "execution_count": 21,
   "metadata": {},
   "outputs": [],
   "source": [
    "# Imports\n",
    "import numpy as np\n",
    "import matplotlib.pyplot as plt\n",
    "from sympy import Matrix, Identity, Transpose, Eq, init_printing, symbols, latex, det, pi, cos, sin\n",
    "from sympy.abc import A\n",
    "from IPython.display import display, Math"
   ]
  },
  {
   "cell_type": "code",
   "execution_count": 22,
   "metadata": {},
   "outputs": [],
   "source": [
    "# Pre-requisites for pretty printing\n",
    "init_printing()"
   ]
  },
  {
   "cell_type": "code",
   "execution_count": 23,
   "metadata": {},
   "outputs": [],
   "source": [
    "# Function to format matrices dynamically for LaTeX\n",
    "def format_matrix(name, matrix):\n",
    "    return f\"{name} = \" + latex(matrix)\n",
    "# Function to format determinants dynamically for LaTeX\n",
    "def format_determinant(name, determinant):\n",
    "    return f\"\\\\det({name}) = \" + latex(determinant)\n",
    "# Function to format vectors dynamically for LaTeX\n",
    "def format_vector(name, vector):\n",
    "    return f\"{name} = \" + latex(vector)\n",
    "def format_dot_product(name, matrix1: Matrix, matrix2: Matrix):\n",
    "    result = matrix1 * matrix2\n",
    "    # Start LaTeX formatting\n",
    "    latex_str = f\"{name} = \\\\begin{{bmatrix}}\\n\"\n",
    "    # Iterate over the result matrix to format each cell\n",
    "    for i in range(result.rows):\n",
    "        row_operations = []\n",
    "        for j in range(result.cols):\n",
    "            terms = []\n",
    "            for k in range(matrix1.cols):\n",
    "                terms.append(f\"{latex(matrix1[i, k])} \\\\cdot {latex(matrix2[k, j]) if matrix2.shape[1] > 1 else latex(matrix2[k])}\")\n",
    "            operation = \" + \".join(terms)\n",
    "            row_operations.append(f\"({operation})\")\n",
    "        latex_str += \" & \".join(row_operations) + \" \\\\\\\\\\n\"\n",
    "\n",
    "    latex_str += \"\\\\end{bmatrix} = \" + latex(result)\n",
    "    return result, latex_str"
   ]
  },
  {
   "cell_type": "markdown",
   "metadata": {},
   "source": [
    "# Solution"
   ]
  },
  {
   "cell_type": "code",
   "execution_count": 24,
   "metadata": {},
   "outputs": [
    {
     "data": {
      "text/latex": [
       "$\\displaystyle L = \\left[\\begin{matrix}1 & 0 & 0\\\\l_{21} & 1 & 0\\\\l_{31} & l_{32} & 1\\end{matrix}\\right]$"
      ],
      "text/plain": [
       "<IPython.core.display.Math object>"
      ]
     },
     "metadata": {},
     "output_type": "display_data"
    },
    {
     "data": {
      "text/latex": [
       "$\\displaystyle U = \\left[\\begin{matrix}u_{11} & u_{12} & u_{13}\\\\0 & u_{22} & u_{23}\\\\0 & 0 & u_{33}\\end{matrix}\\right]$"
      ],
      "text/plain": [
       "<IPython.core.display.Math object>"
      ]
     },
     "metadata": {},
     "output_type": "display_data"
    },
    {
     "data": {
      "text/latex": [
       "$\\displaystyle A = L \\cdot U$"
      ],
      "text/plain": [
       "<IPython.core.display.Math object>"
      ]
     },
     "metadata": {},
     "output_type": "display_data"
    },
    {
     "data": {
      "text/latex": [
       "$\\displaystyle \\mathbf{b} = \\left[\\begin{matrix}b_{1}\\\\b_{2}\\\\b_{3}\\end{matrix}\\right]$"
      ],
      "text/plain": [
       "<IPython.core.display.Math object>"
      ]
     },
     "metadata": {},
     "output_type": "display_data"
    }
   ],
   "source": [
    "# Define the size of the matrix (n x n)\n",
    "n = 3\n",
    "\n",
    "# Define symbolic variables for the matrices and vectors\n",
    "from sympy import symbols, Matrix, eye\n",
    "x = Matrix(symbols(f\"x1:{n+1}\")).reshape(n, 1)  # Solution vector x\n",
    "b = Matrix(symbols(f\"b1:{n+1}\")).reshape(n, 1)  # Right-hand side vector b\n",
    "\n",
    "# Define arbitrary L and U matrices\n",
    "L = Matrix([\n",
    "    [1, 0, 0],\n",
    "    [symbols('l21'), 1, 0],\n",
    "    [symbols('l31'), symbols('l32'), 1]\n",
    "])\n",
    "\n",
    "U = Matrix([\n",
    "    [symbols('u11'), symbols('u12'), symbols('u13')],\n",
    "    [0, symbols('u22'), symbols('u23')],\n",
    "    [0, 0, symbols('u33')]\n",
    "])\n",
    "display(Math(format_matrix(\"L\", L)))\n",
    "display(Math(format_matrix(\"U\", U)))\n",
    "display(Math(\"A = L \\\\cdot U\"))\n",
    "display(Math(format_vector(\"\\\\mathbf{b}\", b)))"
   ]
  },
  {
   "cell_type": "code",
   "execution_count": 27,
   "metadata": {},
   "outputs": [
    {
     "data": {
      "text/latex": [
       "$\\displaystyle L = \\left[\\begin{matrix}1 & 0 & 0\\\\0.5 & 1 & 0\\\\0.25 & 0.2 & 1\\end{matrix}\\right]$"
      ],
      "text/plain": [
       "<IPython.core.display.Math object>"
      ]
     },
     "metadata": {},
     "output_type": "display_data"
    },
    {
     "data": {
      "text/latex": [
       "$\\displaystyle U = \\left[\\begin{matrix}4 & -1 & 2\\\\0 & 3 & -1\\\\0 & 0 & 2\\end{matrix}\\right]$"
      ],
      "text/plain": [
       "<IPython.core.display.Math object>"
      ]
     },
     "metadata": {},
     "output_type": "display_data"
    },
    {
     "data": {
      "text/latex": [
       "$\\displaystyle A = L \\cdot U = \\begin{bmatrix}\n",
       "(1 \\cdot 4 + 0 \\cdot 0 + 0 \\cdot 0) & (1 \\cdot -1 + 0 \\cdot 3 + 0 \\cdot 0) & (1 \\cdot 2 + 0 \\cdot -1 + 0 \\cdot 2) \\\\\n",
       "(0.5 \\cdot 4 + 1 \\cdot 0 + 0 \\cdot 0) & (0.5 \\cdot -1 + 1 \\cdot 3 + 0 \\cdot 0) & (0.5 \\cdot 2 + 1 \\cdot -1 + 0 \\cdot 2) \\\\\n",
       "(0.25 \\cdot 4 + 0.2 \\cdot 0 + 1 \\cdot 0) & (0.25 \\cdot -1 + 0.2 \\cdot 3 + 1 \\cdot 0) & (0.25 \\cdot 2 + 0.2 \\cdot -1 + 1 \\cdot 2) \\\\\n",
       "\\end{bmatrix} = \\left[\\begin{matrix}4 & -1 & 2\\\\2.0 & 2.5 & 0\\\\1.0 & 0.35 & 2.3\\end{matrix}\\right]$"
      ],
      "text/plain": [
       "<IPython.core.display.Math object>"
      ]
     },
     "metadata": {},
     "output_type": "display_data"
    },
    {
     "data": {
      "text/latex": [
       "$\\displaystyle \\mathbf{b} = \\left[\\begin{matrix}7\\\\5\\\\6\\end{matrix}\\right]$"
      ],
      "text/plain": [
       "<IPython.core.display.Math object>"
      ]
     },
     "metadata": {},
     "output_type": "display_data"
    }
   ],
   "source": [
    "# Lower triangular matrix L (diagonal normalized to 1)\n",
    "L = Matrix([\n",
    "    [1, 0, 0],\n",
    "    [0.5, 1, 0],\n",
    "    [0.25, 0.2, 1]\n",
    "])\n",
    "\n",
    "# Upper triangular matrix U\n",
    "U = Matrix([\n",
    "    [4, -1, 2],\n",
    "    [0, 3, -1],\n",
    "    [0, 0, 2]\n",
    "])\n",
    "\n",
    "# Define the right-hand side vector b\n",
    "b = Matrix([7, 5, 6])\n",
    "\n",
    "# Compute A as the product of L and U\n",
    "A, a_str = format_dot_product(\"A = L \\\\cdot U\", L, U)\n",
    "\n",
    "# Display the matrices and the linear system\n",
    "display(Math(format_matrix(\"L\", L)))\n",
    "display(Math(format_matrix(\"U\", U)))\n",
    "display(Math(a_str))\n",
    "display(Math(format_vector(\"\\\\mathbf{b}\", b)))"
   ]
  },
  {
   "cell_type": "code",
   "execution_count": null,
   "metadata": {},
   "outputs": [
    {
     "data": {
      "text/latex": [
       "$\\displaystyle L \\cdot \\mathbf{y} = \\mathbf{b}$"
      ],
      "text/plain": [
       "<IPython.core.display.Math object>"
      ]
     },
     "metadata": {},
     "output_type": "display_data"
    },
    {
     "data": {
      "text/latex": [
       "$\\displaystyle L \\cdot \\mathbf{y} = \\left[\\begin{matrix}1 & 0 & 0\\\\0.5 & 1 & 0\\\\0.25 & 0.2 & 1\\end{matrix}\\right]\\left[\\begin{matrix}y_{1}\\\\y_{2}\\\\y_{3}\\end{matrix}\\right] = \\left[\\begin{matrix}7\\\\5\\\\6\\end{matrix}\\right]$"
      ],
      "text/plain": [
       "<IPython.core.display.Math object>"
      ]
     },
     "metadata": {},
     "output_type": "display_data"
    },
    {
     "data": {
      "text/latex": [
       "$\\displaystyle L \\cdot \\mathbf{y} - \\mathbf{b} = 0 = \\left[\\begin{matrix}y_{1} - 7\\\\0.5 y_{1} + y_{2} - 5\\\\0.25 y_{1} + 0.2 y_{2} + y_{3} - 6\\end{matrix}\\right]$"
      ],
      "text/plain": [
       "<IPython.core.display.Math object>"
      ]
     },
     "metadata": {},
     "output_type": "display_data"
    },
    {
     "data": {
      "text/latex": [
       "$\\displaystyle \\mathbf{y} = \\left[\\begin{matrix}7.0\\\\1.5\\\\3.95\\end{matrix}\\right]$"
      ],
      "text/plain": [
       "<IPython.core.display.Math object>"
      ]
     },
     "metadata": {},
     "output_type": "display_data"
    },
    {
     "data": {
      "text/latex": [
       "$\\displaystyle U = \\left[\\begin{matrix}4 & -1 & 2\\\\0 & 3 & -1\\\\0 & 0 & 2\\end{matrix}\\right]\\left[\\begin{matrix}x_{1}\\\\x_{2}\\\\x_{3}\\end{matrix}\\right] = \\left[\\begin{matrix}7.0\\\\1.5\\\\3.95\\end{matrix}\\right]$"
      ],
      "text/plain": [
       "<IPython.core.display.Math object>"
      ]
     },
     "metadata": {},
     "output_type": "display_data"
    },
    {
     "data": {
      "text/latex": [
       "$\\displaystyle U \\cdot \\mathbf{x} = \\mathbf{y}$"
      ],
      "text/plain": [
       "<IPython.core.display.Math object>"
      ]
     },
     "metadata": {},
     "output_type": "display_data"
    },
    {
     "data": {
      "text/latex": [
       "$\\displaystyle U \\cdot \\mathbf{x} - \\mathbf{y} = 0 = \\left[\\begin{matrix}4 x_{1} - x_{2} + 2 x_{3} - 7.0\\\\3 x_{2} - x_{3} - 1.5\\\\2 x_{3} - 3.95\\end{matrix}\\right]$"
      ],
      "text/plain": [
       "<IPython.core.display.Math object>"
      ]
     },
     "metadata": {},
     "output_type": "display_data"
    },
    {
     "data": {
      "text/latex": [
       "$\\displaystyle \\mathbf{x} = \\left[\\begin{matrix}1.05208333333333\\\\1.15833333333333\\\\1.975\\end{matrix}\\right]$"
      ],
      "text/plain": [
       "<IPython.core.display.Math object>"
      ]
     },
     "metadata": {},
     "output_type": "display_data"
    }
   ],
   "source": [
    "# Solve the system A * x = b using LU decomposition\n",
    "# Step 1: Solve L * y = b for y\n",
    "y = Matrix(symbols(f\"y1:{n+1}\")).reshape(n, 1)  # Intermediate vector y\n",
    "eq1 = L * y - b\n",
    "display(Math(\"L \\\\cdot \\\\mathbf{y} = \\\\mathbf{b}\"))\n",
    "\n",
    "#The system of equations is\n",
    "display(Math(format_matrix(\"L \\\\cdot \\\\mathbf{y}\", L) + latex(y) + \" = \" + latex(b)))\n",
    "\n",
    "display(Math(format_matrix(\"L \\\\cdot \\\\mathbf{y} - \\\\mathbf{b} = 0\", eq1)))\n",
    "\n",
    "\n",
    "# Solve the equations for y\n",
    "y_solution = L.solve_least_squares(b)\n",
    "display(Math(format_vector(\"\\\\mathbf{y}\", y_solution)))\n",
    "\n",
    "# The system of equations is\n",
    "x_vector = Matrix(symbols(f\"x1:{n+1}\")).reshape(n, 1)\n",
    "display(Math(format_matrix(\"U\", U) + latex(x_vector) + \" = \" + latex(y_solution)))\n",
    "\n",
    "# Step 2: Solve U * x = y for x\n",
    "eq2 = U * x - y_solution\n",
    "display(Math(\"U \\\\cdot \\\\mathbf{x} = \\\\mathbf{y}\"))\n",
    "display(Math(format_matrix(\"U \\\\cdot \\\\mathbf{x} - \\\\mathbf{y} = 0\", eq2)))\n",
    "\n",
    "\n",
    "# Solve the equations for x\n",
    "x_solution = U.solve_least_squares(y_solution)\n",
    "display(Math(format_vector(\"\\\\mathbf{x}\", x_solution)))\n"
   ]
  },
  {
   "cell_type": "markdown",
   "metadata": {},
   "source": [
    "### Verify the Solution (A * x = b)"
   ]
  },
  {
   "cell_type": "code",
   "execution_count": null,
   "metadata": {},
   "outputs": [
    {
     "data": {
      "text/latex": [
       "$\\displaystyle A \\cdot \\mathbf{x} = \\left[\\begin{matrix}4 & -1 & 2\\\\2.0 & 2.5 & 0\\\\1.0 & 0.35 & 2.3\\end{matrix}\\right] \\left[\\begin{matrix}1.05208333333333\\\\1.15833333333333\\\\1.975\\end{matrix}\\right]$"
      ],
      "text/plain": [
       "<IPython.core.display.Math object>"
      ]
     },
     "metadata": {},
     "output_type": "display_data"
    },
    {
     "data": {
      "text/latex": [
       "$\\displaystyle A \\cdot \\mathbf{x} = \\left[\\begin{matrix}7.0\\\\5.0\\\\6.0\\end{matrix}\\right]$"
      ],
      "text/plain": [
       "<IPython.core.display.Math object>"
      ]
     },
     "metadata": {},
     "output_type": "display_data"
    },
    {
     "data": {
      "text/latex": [
       "$\\displaystyle \\mathbf{b} = \\left[\\begin{matrix}7\\\\5\\\\6\\end{matrix}\\right]$"
      ],
      "text/plain": [
       "<IPython.core.display.Math object>"
      ]
     },
     "metadata": {},
     "output_type": "display_data"
    },
    {
     "data": {
      "text/latex": [
       "$\\displaystyle \\text{Verification successful: } A \\cdot \\mathbf{x} = \\mathbf{b}$"
      ],
      "text/plain": [
       "<IPython.core.display.Math object>"
      ]
     },
     "metadata": {},
     "output_type": "display_data"
    }
   ],
   "source": [
    "# Display A and x_solution in the same line\n",
    "display(Math(format_matrix(\"A \\\\cdot \\\\mathbf{x}\", A) + \" \" + latex(x_solution)))\n",
    "\n",
    "\n",
    "# Verify the solution\n",
    "A_b_computed = A * x_solution\n",
    "display(Math(format_vector(\"A \\\\cdot \\\\mathbf{x}\", A_b_computed)))\n",
    "display(Math(format_vector(\"\\\\mathbf{b}\", b)))\n",
    "display(Math(\"\\\\text{Verification successful: } A \\\\cdot \\\\mathbf{x} = \\\\mathbf{b}\"))"
   ]
  },
  {
   "cell_type": "markdown",
   "metadata": {},
   "source": [
    "### The solution x to the system Ax = b"
   ]
  },
  {
   "cell_type": "code",
   "execution_count": null,
   "metadata": {},
   "outputs": [
    {
     "data": {
      "text/latex": [
       "$\\displaystyle \\mathbf{x} = \\left[\\begin{matrix}1.05208333333333\\\\1.15833333333333\\\\1.975\\end{matrix}\\right]$"
      ],
      "text/plain": [
       "<IPython.core.display.Math object>"
      ]
     },
     "metadata": {},
     "output_type": "display_data"
    }
   ],
   "source": [
    "\n",
    "# Solve the equations for x: (Ax = b)\n",
    "x_solution = U.solve_least_squares(y_solution)\n",
    "display(Math(format_vector(\"\\\\mathbf{x}\", x_solution)))"
   ]
  }
 ],
 "metadata": {
  "kernelspec": {
   "display_name": ".venv",
   "language": "python",
   "name": "python3"
  },
  "language_info": {
   "codemirror_mode": {
    "name": "ipython",
    "version": 3
   },
   "file_extension": ".py",
   "mimetype": "text/x-python",
   "name": "python",
   "nbconvert_exporter": "python",
   "pygments_lexer": "ipython3",
   "version": "3.12.0"
  }
 },
 "nbformat": 4,
 "nbformat_minor": 2
}
