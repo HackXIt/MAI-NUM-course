{
 "cells": [
  {
   "cell_type": "markdown",
   "metadata": {},
   "source": [
    "# Exercise A-2: Linear Mappings and Least Squares\n",
    "\n",
    "1. A linear mapping: $\\mathbb{R}^n \\to \\mathbb{R}^m$ is not always given in practice by explicitly specifying its coefficient matrix $A \\in \\mathbb{R}^{m \\times n}$, but simply by a function procedure that returns the value $Ax \\in \\mathbb{R}^m$ for a given vector $x \\in \\mathbb{R}^n$. \n",
    "\n",
    "    Assume that such an evaluation procedure $x \\to Ax$ is provided. \n",
    "    \n",
    "    Use such a procedure to explicitly reconstruct the coefficient matrix $A$. Implement and test a concrete example (e.g., for $n = 4$).\n",
    "\n",
    "2. Given data values $\\{(t_j, \\tilde{y}_j), \\, j = 1, \\ldots, m\\}$, determine a quadratic function:\n",
    "\n",
    "    $\\alpha + \\beta t + \\gamma t^2$\n",
    "\n",
    "    such that\n",
    "\n",
    "    $\\phi(\\alpha, \\beta, \\gamma) = \\dots$\n",
    "    \n",
    "    is minimized in the least-squares sense. Details are intentionally not specified here. \n",
    "    \n",
    "    Your task is to implement this and solve a specific example. \n",
    "    \n",
    "    This task is analogous to the problem of determining the \"best fit line\" (with only two parameters $\\alpha, \\beta$ to be determined). \n",
    "    \n",
    "    Notation as in the lecture notes, particularly regarding the function $\\phi$ to be minimized.\n",
    "\n",
    "    This task leads to a linear $3 \\times 3$ system (Gaussian normal equations, see the lecture notes). \n",
    "    \n",
    "    Solve this system using an elimination method, e.g., by hand or using available numerical software, most easily Matlab (see Exercise 8).\n",
    "\n",
    "3. Also, create a graphical visualization of your solution."
   ]
  },
  {
   "cell_type": "code",
   "execution_count": 30,
   "metadata": {},
   "outputs": [],
   "source": [
    "# Imports\n",
    "import numpy as np\n",
    "import matplotlib.pyplot as plt\n",
    "from sympy import Matrix, Identity, Transpose, Eq, init_printing, symbols, latex, det, pi, cos, sin\n",
    "from sympy.abc import A\n",
    "from IPython.display import display, Math"
   ]
  },
  {
   "cell_type": "code",
   "execution_count": 31,
   "metadata": {},
   "outputs": [],
   "source": [
    "# Pre-requisites for pretty printing\n",
    "init_printing()"
   ]
  },
  {
   "cell_type": "code",
   "execution_count": 32,
   "metadata": {},
   "outputs": [],
   "source": [
    "# Function to format matrices dynamically for LaTeX\n",
    "def format_matrix(name, matrix):\n",
    "    return f\"{name} = \" + latex(matrix)\n",
    "# Function to format determinants dynamically for LaTeX\n",
    "def format_determinant(name, determinant):\n",
    "    return f\"\\\\det({name}) = \" + latex(determinant)\n",
    "# Function to format vectors dynamically for LaTeX\n",
    "def format_vector(name, vector):\n",
    "    return f\"{name} = \" + latex(vector)\n",
    "def format_dot_product(name, matrix1: Matrix, matrix2: Matrix):\n",
    "    result = matrix1 * matrix2\n",
    "    # Start LaTeX formatting\n",
    "    latex_str = f\"{name} = \\\\begin{{bmatrix}}\\n\"\n",
    "    # Iterate over the result matrix to format each cell\n",
    "    for i in range(result.rows):\n",
    "        row_operations = []\n",
    "        for j in range(result.cols):\n",
    "            terms = []\n",
    "            for k in range(matrix1.cols):\n",
    "                terms.append(f\"{matrix1[i, k]} \\\\cdot {matrix2[k, j] if matrix2.shape[1] > 1 else matrix2[k]}\")\n",
    "            operation = \" + \".join(terms)\n",
    "            row_operations.append(f\"({operation})\")\n",
    "        latex_str += \" & \".join(row_operations) + \" \\\\\\\\\\n\"\n",
    "\n",
    "    latex_str += \"\\\\end{bmatrix} = \" + latex(result)\n",
    "    return latex_str"
   ]
  },
  {
   "cell_type": "markdown",
   "metadata": {},
   "source": [
    "# Solution for 1)\n",
    "\n",
    "A linear mapping: $\\mathbb{R}^n \\to \\mathbb{R}^m$ is not always given in practice by explicitly specifying its coefficient matrix $A \\in \\mathbb{R}^{m \\times n}$, but simply by a function procedure that returns the value $Ax \\in \\mathbb{R}^m$ for a given vector $x \\in \\mathbb{R}^n$. \n",
    "\n",
    "Assume that such an evaluation procedure $x \\to Ax$ is provided. \n",
    "\n",
    "Use such a procedure to explicitly reconstruct the coefficient matrix $A$. Implement and test a concrete example (e.g., for $n = 4$).\n"
   ]
  },
  {
   "cell_type": "markdown",
   "metadata": {},
   "source": [
    "$\n",
    "\\textbf{Step 1: Setup}\n",
    "$\n",
    "\n",
    "Assume we have a linear mapping\n",
    "$\n",
    "f: \\mathbb{R}^n \\to \\mathbb{R}^m,\n",
    "$\n",
    "and that for any $ x \\in \\mathbb{R}^n $, we can compute $ f(x) \\in \\mathbb{R}^m $. \n",
    "\n",
    "We know $ f $ is linear, i.e.,\n",
    "$\n",
    "f(x+y) = f(x) + f(y), \\quad f(\\alpha x) = \\alpha f(x), \\quad \\forall x,y \\in \\mathbb{R}^n,, \\alpha \\in \\mathbb{R}.\n",
    "$\n",
    "\n",
    "There exists a matrix $ A \\in \\mathbb{R}^{m \\times n} $ such that\n",
    "$\n",
    "f(x) = A x.\n",
    "$\n",
    "\n",
    "$\n",
    "\\textbf{Step 2: Standard Basis and Matrix Reconstruction}\n",
    "$\n",
    "\n",
    "Let $ { e_1, e_2, \\dots, e_n } $ denote the standard basis of $\\mathbb{R}^n$, where\n",
    "$\n",
    "e_j = (0, \\dots, 0, 1, 0, \\dots, 0)^T,\n",
    "$\n",
    "with the $1$ in the $j$-th position and zeros elsewhere.\n",
    "\n",
    "Since $ f $ is linear and $ f(x) = A x $, we have\n",
    "$\n",
    "f(e_j) = A e_j.\n",
    "$\n",
    "\n",
    "But the matrix-vector product $ A e_j $ simply extracts the $ j $-th column of $ A $. Thus, if we evaluate $ f $ at each of the standard basis vectors, we obtain all the columns of $ A $:\n",
    "$\n",
    "A = \\bigl[ f(e_1) \\mid f(e_2) \\mid \\cdots \\mid f(e_n) \\bigr].\n",
    "$\n",
    "\n",
    "$\n",
    "\\textbf{Step 3: Implementation Details}\n",
    "$\n",
    "\n",
    "1. Define a function that given $ x \\in \\mathbb{R}^n $, returns $ f(x) \\in \\mathbb{R}^m $.\n",
    "2. Construct the standard basis vectors $ e_1, e_2, \\dots, e_n $.\n",
    "3. Evaluate $ f(e_j) $ for each $ j = 1, 2, \\dots, n $.\n",
    "4. Assemble the results into the columns of a matrix $ A $.\n",
    "\n",
    "$\n",
    "\\textbf{Example: } n = 4, m = 3\n",
    "$\n",
    "\n",
    "For example, let\n",
    "$\n",
    "A = \\begin{pmatrix}\n",
    "1 & 2 & 3 & 4 \\\\\n",
    "0 & -1 & 5 & 2 \\\\\n",
    "2 & 1 & 0 & 7\n",
    "\\end{pmatrix}.\n",
    "$\n",
    "\n",
    "If the only access we have to $ A $ is through a function $ f(x) = A x $, then by evaluating:\n",
    "$\n",
    "f(e_1) = \\begin{pmatrix} 1 \\ 0 \\ 2 \\end{pmatrix}, \\quad\n",
    "f(e_2) = \\begin{pmatrix} 2 \\ -1 \\ 1 \\end{pmatrix}, \\quad\n",
    "f(e_3) = \\begin{pmatrix} 3 \\ 5 \\ 0 \\end{pmatrix}, \\quad\n",
    "f(e_4) = \\begin{pmatrix} 4 \\ 2 \\ 7 \\end{pmatrix}.\n",
    "$\n",
    "\n",
    "Thus, reconstructing $ A $:\n",
    "$\n",
    "A = \\bigl[f(e_1) \\mid f(e_2) \\mid f(e_3) \\mid f(e_4)\\bigr]\n",
    "= \\begin{pmatrix}\n",
    "1 & 2 & 3 & 4 \\\\\n",
    "0 & -1 & 5 & 2 \\\\\n",
    "2 & 1 & 0 & 7\n",
    "\\end{pmatrix}.\n",
    "$\n"
   ]
  },
  {
   "cell_type": "code",
   "execution_count": 33,
   "metadata": {},
   "outputs": [
    {
     "data": {
      "text/latex": [
       "$\\displaystyle A = \\left[\\begin{matrix}1 & 2 & 3 & 4\\\\0 & -1 & 5 & 2\\\\2 & 1 & 0 & 7\\end{matrix}\\right]$"
      ],
      "text/plain": [
       "<IPython.core.display.Math object>"
      ]
     },
     "metadata": {},
     "output_type": "display_data"
    },
    {
     "data": {
      "text/latex": [
       "$\\displaystyle e_{1} = \\left[\\begin{matrix}1\\\\0\\\\0\\\\0\\end{matrix}\\right]$"
      ],
      "text/plain": [
       "<IPython.core.display.Math object>"
      ]
     },
     "metadata": {},
     "output_type": "display_data"
    },
    {
     "data": {
      "text/latex": [
       "$\\displaystyle e_{2} = \\left[\\begin{matrix}0\\\\1\\\\0\\\\0\\end{matrix}\\right]$"
      ],
      "text/plain": [
       "<IPython.core.display.Math object>"
      ]
     },
     "metadata": {},
     "output_type": "display_data"
    },
    {
     "data": {
      "text/latex": [
       "$\\displaystyle e_{3} = \\left[\\begin{matrix}0\\\\0\\\\1\\\\0\\end{matrix}\\right]$"
      ],
      "text/plain": [
       "<IPython.core.display.Math object>"
      ]
     },
     "metadata": {},
     "output_type": "display_data"
    },
    {
     "data": {
      "text/latex": [
       "$\\displaystyle e_{4} = \\left[\\begin{matrix}0\\\\0\\\\0\\\\1\\end{matrix}\\right]$"
      ],
      "text/plain": [
       "<IPython.core.display.Math object>"
      ]
     },
     "metadata": {},
     "output_type": "display_data"
    },
    {
     "data": {
      "text/latex": [
       "$\\displaystyle f(e_{1}) = A e_{1} = \\left[\\begin{matrix}1\\\\0\\\\2\\end{matrix}\\right]$"
      ],
      "text/plain": [
       "<IPython.core.display.Math object>"
      ]
     },
     "metadata": {},
     "output_type": "display_data"
    },
    {
     "data": {
      "text/latex": [
       "$\\displaystyle f(e_{2}) = A e_{2} = \\left[\\begin{matrix}2\\\\-1\\\\1\\end{matrix}\\right]$"
      ],
      "text/plain": [
       "<IPython.core.display.Math object>"
      ]
     },
     "metadata": {},
     "output_type": "display_data"
    },
    {
     "data": {
      "text/latex": [
       "$\\displaystyle f(e_{3}) = A e_{3} = \\left[\\begin{matrix}3\\\\5\\\\0\\end{matrix}\\right]$"
      ],
      "text/plain": [
       "<IPython.core.display.Math object>"
      ]
     },
     "metadata": {},
     "output_type": "display_data"
    },
    {
     "data": {
      "text/latex": [
       "$\\displaystyle f(e_{4}) = A e_{4} = \\left[\\begin{matrix}4\\\\2\\\\7\\end{matrix}\\right]$"
      ],
      "text/plain": [
       "<IPython.core.display.Math object>"
      ]
     },
     "metadata": {},
     "output_type": "display_data"
    },
    {
     "data": {
      "text/latex": [
       "$\\displaystyle \\text{Reconstructed } A = \\left[\\begin{matrix}1 & 2 & 3 & 4\\\\0 & -1 & 5 & 2\\\\2 & 1 & 0 & 7\\end{matrix}\\right]$"
      ],
      "text/plain": [
       "<IPython.core.display.Math object>"
      ]
     },
     "metadata": {},
     "output_type": "display_data"
    }
   ],
   "source": [
    "# Define dimensions\n",
    "m, n = 3, 4  # for example\n",
    "\n",
    "# Define a specific matrix A (which we pretend we do not know explicitly in practice)\n",
    "A = Matrix([\n",
    "    [1,   2,  3,  4],\n",
    "    [0,  -1,  5,  2],\n",
    "    [2,   1,  0,  7]\n",
    "])\n",
    "\n",
    "# Define the linear mapping f: R^n -> R^m as f(x) = A*x\n",
    "def f(x):\n",
    "    # x is assumed to be an n-dimensional column vector (Sympy Matrix)\n",
    "    return A*x\n",
    "\n",
    "# Display the original A for reference\n",
    "display(Math(r\"A = \" + latex(A)))\n",
    "\n",
    "# Step-by-step reconstruction:\n",
    "# 1. Construct standard basis vectors e_1, e_2, ..., e_n in R^n\n",
    "e_vectors = []\n",
    "for j in range(n):\n",
    "    # Create a vector of length n with a 1 in the j-th position and 0 elsewhere\n",
    "    e = Matrix([1 if i == j else 0 for i in range(n)])\n",
    "    display(Math(r\"e_{%d} = \" % (j+1) + latex(e)))\n",
    "    e_vectors.append(e)\n",
    "\n",
    "# 2. Apply f to each standard basis vector to get columns of A\n",
    "reconstructed_cols = []\n",
    "for j, e in enumerate(e_vectors, start=1):\n",
    "    fe = f(e)\n",
    "    # Display the calculation: f(e_j)\n",
    "    display(Math(r\"f(e_{%d}) = A e_{%d} = \" % (j, j) + latex(fe)))\n",
    "    reconstructed_cols.append(fe)\n",
    "\n",
    "# 3. Form the reconstructed matrix\n",
    "A_reconstructed = Matrix.hstack(*reconstructed_cols)\n",
    "\n",
    "# Display the reconstructed matrix\n",
    "display(Math(r\"\\text{Reconstructed } A = \" + latex(A_reconstructed)))"
   ]
  },
  {
   "cell_type": "code",
   "execution_count": 34,
   "metadata": {},
   "outputs": [
    {
     "data": {
      "text/latex": [
       "$\\displaystyle E = \\left[\\begin{matrix}1.0 & 0.0 & 0.0 & 0.0\\\\0.0 & 1.0 & 0.0 & 0.0\\\\0.0 & 0.0 & 1.0 & 0.0\\\\0.0 & 0.0 & 0.0 & 1.0\\end{matrix}\\right]$"
      ],
      "text/plain": [
       "<IPython.core.display.Math object>"
      ]
     },
     "metadata": {},
     "output_type": "display_data"
    },
    {
     "data": {
      "text/latex": [
       "$\\displaystyle Ax_{1} = \\left[\\begin{matrix}1.0\\\\5.0\\\\9.0\\end{matrix}\\right]$"
      ],
      "text/plain": [
       "<IPython.core.display.Math object>"
      ]
     },
     "metadata": {},
     "output_type": "display_data"
    },
    {
     "data": {
      "text/latex": [
       "$\\displaystyle Ax_{2} = \\left[\\begin{matrix}2.0\\\\6.0\\\\10.0\\end{matrix}\\right]$"
      ],
      "text/plain": [
       "<IPython.core.display.Math object>"
      ]
     },
     "metadata": {},
     "output_type": "display_data"
    },
    {
     "data": {
      "text/latex": [
       "$\\displaystyle Ax_{3} = \\left[\\begin{matrix}3.0\\\\7.0\\\\11.0\\end{matrix}\\right]$"
      ],
      "text/plain": [
       "<IPython.core.display.Math object>"
      ]
     },
     "metadata": {},
     "output_type": "display_data"
    },
    {
     "data": {
      "text/latex": [
       "$\\displaystyle Ax_{4} = \\left[\\begin{matrix}4.0\\\\8.0\\\\12.0\\end{matrix}\\right]$"
      ],
      "text/plain": [
       "<IPython.core.display.Math object>"
      ]
     },
     "metadata": {},
     "output_type": "display_data"
    },
    {
     "data": {
      "text/latex": [
       "$\\displaystyle A_{reconstructed} = \\left[\\begin{matrix}1.0 & 2.0 & 3.0 & 4.0\\\\5.0 & 6.0 & 7.0 & 8.0\\\\9.0 & 10.0 & 11.0 & 12.0\\end{matrix}\\right]$"
      ],
      "text/plain": [
       "<IPython.core.display.Math object>"
      ]
     },
     "metadata": {},
     "output_type": "display_data"
    },
    {
     "data": {
      "text/latex": [
       "$\\displaystyle A = \\left[\\begin{matrix}1.0 & 2.0 & 3.0 & 4.0\\\\5.0 & 6.0 & 7.0 & 8.0\\\\9.0 & 10.0 & 11.0 & 12.0\\end{matrix}\\right]$"
      ],
      "text/plain": [
       "<IPython.core.display.Math object>"
      ]
     },
     "metadata": {},
     "output_type": "display_data"
    }
   ],
   "source": [
    "def linear_map(x):\n",
    "    \"\"\"Simulated linear mapping x -> Ax.\"\"\"\n",
    "    A = np.array([[1, 2, 3, 4],\n",
    "                  [5, 6, 7, 8],\n",
    "                  [9, 10, 11, 12]])  # Predefined matrix\n",
    "    return A @ x\n",
    "\n",
    "def reconstruct_matrix(linear_map, n):\n",
    "    \"\"\"Reconstructs matrix A using the linear mapping procedure.\"\"\"\n",
    "    # Create standard basis vectors\n",
    "    basis_vectors = np.eye(n)\n",
    "    display(Math(format_matrix(\"E\", Matrix(basis_vectors))))\n",
    "    \n",
    "    # Map each basis vector through the linear mapping\n",
    "    mapped_columns = []\n",
    "    for i in range(n):\n",
    "        mapped_column = linear_map(basis_vectors[:, i])\n",
    "        display(Math(f\"Ax_{{{i+1}}} = {latex(Matrix(mapped_column))}\"))\n",
    "        mapped_columns.append(mapped_column)\n",
    "    \n",
    "    # Stack the mapped columns to form the matrix\n",
    "    A_reconstructed = np.column_stack(mapped_columns)\n",
    "    display(Math(format_matrix(\"A_{reconstructed}\", Matrix(A_reconstructed))))\n",
    "    return A_reconstructed\n",
    "\n",
    "n = 4\n",
    "A_reconstructed = reconstruct_matrix(linear_map, n)\n",
    "A_reconstructed_sympy = Matrix(A_reconstructed)\n",
    "\n",
    "display(Math(format_matrix(\"A\", A_reconstructed_sympy)))"
   ]
  },
  {
   "cell_type": "markdown",
   "metadata": {},
   "source": [
    "# Solution for 2)\n",
    "\n",
    "Given data values $\\{(t_j, \\tilde{y}_j), \\, j = 1, \\ldots, m\\}$, determine a quadratic function:\n",
    "\n",
    "$\\alpha + \\beta t + \\gamma t^2$\n",
    "\n",
    "such that\n",
    "\n",
    "$\\phi(\\alpha, \\beta, \\gamma) = \\dots$\n",
    "\n",
    "is minimized in the least-squares sense. Details are intentionally not specified here. \n",
    "\n",
    "Your task is to implement this and solve a specific example. \n",
    "\n",
    "This task is analogous to the problem of determining the \"best fit line\" (with only two parameters $\\alpha, \\beta$ to be determined). \n",
    "\n",
    "Notation as in the lecture notes, particularly regarding the function $\\phi$ to be minimized.\n",
    "\n",
    "This task leads to a linear $3 \\times 3$ system (Gaussian normal equations, see the lecture notes). \n",
    "\n",
    "Solve this system using an elimination method, e.g., by hand or using available numerical software, most easily Matlab (see Exercise 8)."
   ]
  },
  {
   "cell_type": "markdown",
   "metadata": {},
   "source": [
    "$\n",
    "\\textbf{Step 1: Problem Setup}\n",
    "$\n",
    "\n",
    "We are given data points $(t_j, \\tilde{y}*j)$ for $ j = 1, \\ldots, m $. We want to find parameters $\\alpha, \\beta, \\gamma \\in \\mathbb{R}$ such that the quadratic model\n",
    "$\n",
    "y(t) = \\alpha + \\beta t + \\gamma t^2\n",
    "$\n",
    "best fits the data in a least-squares sense. That is, we want to minimize the objective function\n",
    "$\n",
    "\\phi(\\alpha, \\beta, \\gamma) = \\sum*{j=1}^m \\bigl( \\tilde{y}_j - (\\alpha + \\beta t_j + \\gamma t_j^2) \\bigr)^2.\n",
    "$\n",
    "\n",
    "$\n",
    "\\textbf{Step 2: Least Squares Formulation}\n",
    "$\n",
    "\n",
    "To find the minimizing parameters, we set the partial derivatives of $\\phi$ with respect to $\\alpha, \\beta, \\gamma$ to zero. Let\n",
    "$\n",
    "r_j(\\alpha, \\beta, \\gamma) = \\tilde{y}*j - (\\alpha + \\beta t_j + \\gamma t_j^2)\n",
    "$\n",
    "be the residual for the $j$-th data point. Then\n",
    "$\n",
    "\\phi(\\alpha, \\beta, \\gamma) = \\sum*{j=1}^m r_j(\\alpha,\\beta,\\gamma)^2.\n",
    "$\n",
    "\n",
    "The normal equations are derived as follows:\n",
    "\n",
    "$\n",
    "\\frac{\\partial \\phi}{\\partial \\alpha} = \\sum_{j=1}^m 2r_j(-1) = 0, \\quad\n",
    "\\frac{\\partial \\phi}{\\partial \\beta} = \\sum_{j=1}^m 2r_j(-t_j) = 0, \\quad\n",
    "\\frac{\\partial \\phi}{\\partial \\gamma} = \\sum_{j=1}^m 2r_j(-t_j^2) = 0.\n",
    "$\n",
    "\n",
    "Eliminating the factor 2, we have the system:\n",
    "$\n",
    "\\sum_{j=1}^m (\\tilde{y}*j - (\\alpha + \\beta t_j + \\gamma t_j^2)) = 0,\n",
    "$\n",
    "$\n",
    "\\sum*{j=1}^m t_j(\\tilde{y}*j - (\\alpha + \\beta t_j + \\gamma t_j^2)) = 0,\n",
    "$\n",
    "$\n",
    "\\sum*{j=1}^m t_j^2(\\tilde{y}_j - (\\alpha + \\beta t_j + \\gamma t_j^2)) = 0.\n",
    "$\n",
    "\n",
    "Expanding these equations and grouping by $\\alpha, \\beta, \\gamma$:\n",
    "\n",
    "1. For the $\\alpha$-equation:\n",
    "   $\n",
    "   \\sum_{j=1}^m \\tilde{y}*j = \\alpha \\sum*{j=1}^m 1 + \\beta \\sum_{j=1}^m t_j + \\gamma \\sum_{j=1}^m t_j^2.\n",
    "   $\n",
    "\n",
    "2. For the $\\beta$-equation:\n",
    "   $\n",
    "   \\sum_{j=1}^m t_j \\tilde{y}*j = \\alpha \\sum*{j=1}^m t_j + \\beta \\sum_{j=1}^m t_j^2 + \\gamma \\sum_{j=1}^m t_j^3.\n",
    "   $\n",
    "\n",
    "3. For the $\\gamma$-equation:\n",
    "   $\n",
    "   \\sum_{j=1}^m t_j^2 \\tilde{y}*j = \\alpha \\sum*{j=1}^m t_j^2 + \\beta \\sum_{j=1}^m t_j^3 + \\gamma \\sum_{j=1}^m t_j^4.\n",
    "   $\n",
    "\n",
    "In matrix form, let:\n",
    "$\n",
    "S_0 = \\sum_{j=1}^m 1 = m,\\quad\n",
    "S_1 = \\sum_{j=1}^m t_j,\\quad\n",
    "S_2 = \\sum_{j=1}^m t_j^2,\\quad\n",
    "S_3 = \\sum_{j=1}^m t_j^3,\\quad\n",
    "S_4 = \\sum_{j=1}^m t_j^4,\n",
    "$\n",
    "\n",
    "and\n",
    "$\n",
    "T_0 = \\sum_{j=1}^m \\tilde{y}*j,\\quad\n",
    "T_1 = \\sum*{j=1}^m t_j \\tilde{y}*j,\\quad\n",
    "T_2 = \\sum*{j=1}^m t_j^2 \\tilde{y}_j.\n",
    "$\n",
    "\n",
    "Then the normal equations become:\n",
    "$$\n",
    "\\begin{pmatrix}\n",
    "S_0 & S_1 & S_2 \\\\\n",
    "S_1 & S_2 & S_3 \\\\\n",
    "S_2 & S_3 & S_4\n",
    "\\end{pmatrix}\n",
    "\\begin{pmatrix}\n",
    "\\alpha \\ \\beta \\ \\gamma\n",
    "\\end{pmatrix}\n",
    "=\n",
    "\\begin{pmatrix}\n",
    "T_0 \\ T_1 \\ T_2\n",
    "\\end{pmatrix}.\n",
    "$$\n",
    "\n",
    "$\n",
    "\\textbf{Step 3: Solving the System}\n",
    "$\n",
    "\n",
    "Solving the $3 \\times 3$ linear system for $\\alpha, \\beta, \\gamma$ gives us the least-squares solution."
   ]
  },
  {
   "cell_type": "code",
   "execution_count": null,
   "metadata": {},
   "outputs": [
    {
     "data": {
      "text/latex": [
       "$\\displaystyle \\text{Normal Equations: }\\left[\\begin{matrix}5 & 10 & 30\\\\10 & 30 & 100\\\\30 & 100 & 354\\end{matrix}\\right]\\begin{pmatrix}\\alpha \\\\ \\beta \\\\ \\gamma\\end{pmatrix} = \\left[\\begin{matrix}10\\\\28\\\\100\\end{matrix}\\right]$"
      ],
      "text/plain": [
       "<IPython.core.display.Math object>"
      ]
     },
     "metadata": {},
     "output_type": "display_data"
    },
    {
     "data": {
      "text/latex": [
       "$\\displaystyle \\alpha = \\frac{54}{35}, \\quad \\beta = - \\frac{52}{35}, \\quad \\gamma = \\frac{4}{7}$"
      ],
      "text/plain": [
       "<IPython.core.display.Math object>"
      ]
     },
     "metadata": {},
     "output_type": "display_data"
    }
   ],
   "source": [
    "# Given data points (t_j, y_j)\n",
    "data = [(0,1),(1,2),(2,0),(3,2),(4,5)]\n",
    "\n",
    "# Extract t_j and y_j arrays\n",
    "t_vals = [p[0] for p in data]\n",
    "y_vals = [p[1] for p in data]\n",
    "\n",
    "# Compute sums\n",
    "m = len(data)\n",
    "S0 = m\n",
    "S1 = sum(t_vals)\n",
    "S2 = sum(t**2 for t in t_vals)\n",
    "S3 = sum(t**3 for t in t_vals)\n",
    "S4 = sum(t**4 for t in t_vals)\n",
    "\n",
    "T0 = sum(y_vals)\n",
    "T1 = sum(t*y for t,y in data)\n",
    "T2 = sum((t**2)*y for t,y in data)\n",
    "\n",
    "# Construct the normal equation system\n",
    "A = Matrix([\n",
    "    [S0, S1, S2],\n",
    "    [S1, S2, S3],\n",
    "    [S2, S3, S4]\n",
    "])\n",
    "b = Matrix([T0, T1, T2])\n",
    "\n",
    "# Solve the system A*[alpha;beta;gamma]=b\n",
    "alpha, beta, gamma = symbols('alpha beta gamma', real=True)\n",
    "solution = A.LUsolve(b)\n",
    "\n",
    "alpha_sol, beta_sol, gamma_sol = solution\n",
    "\n",
    "# Display the normal equations and solution in LaTeX\n",
    "display(Math(r\"\\text{Normal Equations: }\" + \n",
    "             latex(A) + r\"\\begin{pmatrix}\\alpha \\\\ \\beta \\\\ \\gamma\\end{pmatrix} = \" + latex(b)))\n",
    "display(Math(r\"\\alpha = \" + latex(alpha_sol) + r\", \\quad \\beta = \" + latex(beta_sol) + r\", \\quad \\gamma = \" + latex(gamma_sol)))"
   ]
  },
  {
   "cell_type": "code",
   "execution_count": 36,
   "metadata": {},
   "outputs": [
    {
     "data": {
      "text/latex": [
       "$\\displaystyle \\text{Initial augmented matrix } [A|b] = \\left[\\begin{matrix}5 & 10 & 30 & 10\\\\10 & 30 & 100 & 28\\\\30 & 100 & 354 & 100\\end{matrix}\\right]$"
      ],
      "text/plain": [
       "<IPython.core.display.Math object>"
      ]
     },
     "metadata": {},
     "output_type": "display_data"
    },
    {
     "data": {
      "text/latex": [
       "$\\displaystyle \\text{Normalize first pivot row: }\\left[\\begin{matrix}1 & 2 & 6 & 2\\\\10 & 30 & 100 & 28\\\\30 & 100 & 354 & 100\\end{matrix}\\right]$"
      ],
      "text/plain": [
       "<IPython.core.display.Math object>"
      ]
     },
     "metadata": {},
     "output_type": "display_data"
    },
    {
     "data": {
      "text/latex": [
       "$\\displaystyle \\text{Eliminate first column below pivot: }\\left[\\begin{matrix}1 & 2 & 6 & 2\\\\0 & 10 & 40 & 8\\\\0 & 40 & 174 & 40\\end{matrix}\\right]$"
      ],
      "text/plain": [
       "<IPython.core.display.Math object>"
      ]
     },
     "metadata": {},
     "output_type": "display_data"
    },
    {
     "data": {
      "text/latex": [
       "$\\displaystyle \\text{Normalize second pivot row: }\\left[\\begin{matrix}1 & 2 & 6 & 2\\\\0 & 1 & 4 & \\frac{4}{5}\\\\0 & 40 & 174 & 40\\end{matrix}\\right]$"
      ],
      "text/plain": [
       "<IPython.core.display.Math object>"
      ]
     },
     "metadata": {},
     "output_type": "display_data"
    },
    {
     "data": {
      "text/latex": [
       "$\\displaystyle \\text{Eliminate entries below second pivot: }\\left[\\begin{matrix}1 & 2 & 6 & 2\\\\0 & 1 & 4 & \\frac{4}{5}\\\\0 & 0 & 14 & 8\\end{matrix}\\right]$"
      ],
      "text/plain": [
       "<IPython.core.display.Math object>"
      ]
     },
     "metadata": {},
     "output_type": "display_data"
    },
    {
     "data": {
      "text/latex": [
       "$\\displaystyle \\text{Normalize third pivot row: }\\left[\\begin{matrix}1 & 2 & 6 & 2\\\\0 & 1 & 4 & \\frac{4}{5}\\\\0 & 0 & 1 & \\frac{4}{7}\\end{matrix}\\right]$"
      ],
      "text/plain": [
       "<IPython.core.display.Math object>"
      ]
     },
     "metadata": {},
     "output_type": "display_data"
    },
    {
     "data": {
      "text/latex": [
       "$\\displaystyle \\text{Eliminate above third pivot: }\\left[\\begin{matrix}1 & 2 & 0 & - \\frac{10}{7}\\\\0 & 1 & 0 & - \\frac{52}{35}\\\\0 & 0 & 1 & \\frac{4}{7}\\end{matrix}\\right]$"
      ],
      "text/plain": [
       "<IPython.core.display.Math object>"
      ]
     },
     "metadata": {},
     "output_type": "display_data"
    },
    {
     "data": {
      "text/latex": [
       "$\\displaystyle \\text{Eliminate above second pivot: }\\left[\\begin{matrix}1 & 0 & 0 & \\frac{54}{35}\\\\0 & 1 & 0 & - \\frac{52}{35}\\\\0 & 0 & 1 & \\frac{4}{7}\\end{matrix}\\right]$"
      ],
      "text/plain": [
       "<IPython.core.display.Math object>"
      ]
     },
     "metadata": {},
     "output_type": "display_data"
    },
    {
     "data": {
      "text/latex": [
       "$\\displaystyle \\text{Final RREF: }\\left[\\begin{matrix}1 & 0 & 0 & \\frac{54}{35}\\\\0 & 1 & 0 & - \\frac{52}{35}\\\\0 & 0 & 1 & \\frac{4}{7}\\end{matrix}\\right]$"
      ],
      "text/plain": [
       "<IPython.core.display.Math object>"
      ]
     },
     "metadata": {},
     "output_type": "display_data"
    },
    {
     "data": {
      "text/latex": [
       "$\\displaystyle \\alpha = \\frac{54}{35},\\quad \\beta = - \\frac{52}{35},\\quad \\gamma = \\frac{4}{7}$"
      ],
      "text/plain": [
       "<IPython.core.display.Math object>"
      ]
     },
     "metadata": {},
     "output_type": "display_data"
    }
   ],
   "source": [
    "# Example data (as previously defined)\n",
    "data = [(0,1),(1,2),(2,0),(3,2),(4,5)]\n",
    "t_vals = [p[0] for p in data]\n",
    "y_vals = [p[1] for p in data]\n",
    "\n",
    "m = len(data)\n",
    "S0 = m\n",
    "S1 = sum(t_vals)\n",
    "S2 = sum(t**2 for t in t_vals)\n",
    "S3 = sum(t**3 for t in t_vals)\n",
    "S4 = sum(t**4 for t in t_vals)\n",
    "\n",
    "T0 = sum(y_vals)\n",
    "T1 = sum(t*y for t,y in data)\n",
    "T2 = sum((t**2)*y for t,y in data)\n",
    "\n",
    "A = Matrix([\n",
    "    [S0, S1, S2],\n",
    "    [S1, S2, S3],\n",
    "    [S2, S3, S4]\n",
    "])\n",
    "b = Matrix([T0, T1, T2])\n",
    "\n",
    "# Create the augmented matrix [A|b]\n",
    "aug = A.row_join(b)\n",
    "\n",
    "# Display the initial augmented matrix\n",
    "display(Math(r\"\\text{Initial augmented matrix } [A|b] = \" + latex(aug)))\n",
    "\n",
    "# Step-by-step Gaussian elimination\n",
    "# We will try to eliminate entries below the main diagonal to get an upper-triangular form.\n",
    "\n",
    "# 1. Ensure top-left pivot is nonzero (it should be nonzero in a well-posed system)\n",
    "pivot = aug[0,0]\n",
    "if pivot == 0:\n",
    "    # If pivot is zero, swap rows with a row below that has a nonzero element in that column\n",
    "    for i in range(1, aug.rows):\n",
    "        if aug[i,0] != 0:\n",
    "            aug.row_swap(0, i)\n",
    "            display(Math(r\"\\text{Swap rows to get a nonzero pivot: }\" + latex(aug)))\n",
    "            break\n",
    "\n",
    "# Normalize the first row by the pivot if desired (optional step for clarity)\n",
    "pivot = aug[0,0]\n",
    "aug.row_op(0, lambda v, j: v/pivot)\n",
    "display(Math(r\"\\text{Normalize first pivot row: }\" + latex(aug)))\n",
    "\n",
    "# Use the first pivot to eliminate the entries below it in the first column\n",
    "for i in range(1, aug.rows):\n",
    "    factor = aug[i,0]\n",
    "    aug.row_op(i, lambda v, j: v - factor*aug[0,j])\n",
    "display(Math(r\"\\text{Eliminate first column below pivot: }\" + latex(aug)))\n",
    "\n",
    "# Now we move to the second pivot at (1,1)\n",
    "pivot = aug[1,1]\n",
    "if pivot == 0:\n",
    "    # If pivot is zero, swap with lower row\n",
    "    for i in range(2, aug.rows):\n",
    "        if aug[i,1] != 0:\n",
    "            aug.row_swap(1, i)\n",
    "            display(Math(r\"\\text{Swap rows to fix zero pivot at second pivot: }\" + latex(aug)))\n",
    "            pivot = aug[1,1]\n",
    "            break\n",
    "\n",
    "# Normalize the second pivot row\n",
    "aug.row_op(1, lambda v, j: v/pivot)\n",
    "display(Math(r\"\\text{Normalize second pivot row: }\" + latex(aug)))\n",
    "\n",
    "# Eliminate below the second pivot\n",
    "for i in range(2, aug.rows):\n",
    "    factor = aug[i,1]\n",
    "    aug.row_op(i, lambda v, j: v - factor*aug[1,j])\n",
    "display(Math(r\"\\text{Eliminate entries below second pivot: }\" + latex(aug)))\n",
    "\n",
    "# Now we have upper-triangular form. Move to the last pivot at (2,2)\n",
    "pivot = aug[2,2]\n",
    "if pivot == 0:\n",
    "    # If pivot is zero, we must consider swapping or system might be degenerate\n",
    "    pass\n",
    "else:\n",
    "    # Normalize the last row\n",
    "    aug.row_op(2, lambda v, j: v/pivot)\n",
    "display(Math(r\"\\text{Normalize third pivot row: }\" + latex(aug)))\n",
    "\n",
    "# At this point, aug should be in (reduced) upper-triangular or even row-echelon form.\n",
    "# Perform back-substitution if needed, or continue with row operations to get full RREF.\n",
    "\n",
    "# We can continue to eliminate above the pivots to get RREF:\n",
    "# Eliminate above the third pivot\n",
    "for i in range(1, -1, -1):\n",
    "    factor = aug[i,2]\n",
    "    aug.row_op(i, lambda v, j: v - factor*aug[2,j])\n",
    "display(Math(r\"\\text{Eliminate above third pivot: }\" + latex(aug)))\n",
    "\n",
    "# Eliminate above the second pivot\n",
    "factor = aug[0,1]\n",
    "aug.row_op(0, lambda v, j: v - factor*aug[1,j])\n",
    "display(Math(r\"\\text{Eliminate above second pivot: }\" + latex(aug)))\n",
    "\n",
    "# The matrix aug should now be in RREF with solutions\n",
    "display(Math(r\"\\text{Final RREF: }\" + latex(aug)))\n",
    "\n",
    "# Extract the solution: [alpha; beta; gamma]\n",
    "alpha_sol = aug[0,3]\n",
    "beta_sol = aug[1,3]\n",
    "gamma_sol = aug[2,3]\n",
    "\n",
    "display(Math(r\"\\alpha = \" + latex(alpha_sol) + r\",\\quad \\beta = \" + latex(beta_sol) + r\",\\quad \\gamma = \" + latex(gamma_sol)))"
   ]
  },
  {
   "cell_type": "code",
   "execution_count": 37,
   "metadata": {},
   "outputs": [
    {
     "data": {
      "text/latex": [
       "$\\displaystyle \\text{Initial augmented matrix }[A|b]: \\left[\\begin{matrix}5 & 10 & 30 & 10\\\\10 & 30 & 100 & 28\\\\30 & 100 & 354 & 100\\end{matrix}\\right]$"
      ],
      "text/plain": [
       "<IPython.core.display.Math object>"
      ]
     },
     "metadata": {},
     "output_type": "display_data"
    },
    {
     "data": {
      "text/latex": [
       "$\\displaystyle \\text{Normalize pivot row: }\\left[\\begin{matrix}1 & 2 & 6 & 2\\\\10 & 30 & 100 & 28\\\\30 & 100 & 354 & 100\\end{matrix}\\right]$"
      ],
      "text/plain": [
       "<IPython.core.display.Math object>"
      ]
     },
     "metadata": {},
     "output_type": "display_data"
    },
    {
     "data": {
      "text/latex": [
       "$\\displaystyle \\text{Eliminate below pivot: }\\left[\\begin{matrix}1 & 2 & 6 & 2\\\\0 & 10 & 40 & 8\\\\0 & 40 & 174 & 40\\end{matrix}\\right]$"
      ],
      "text/plain": [
       "<IPython.core.display.Math object>"
      ]
     },
     "metadata": {},
     "output_type": "display_data"
    },
    {
     "data": {
      "text/latex": [
       "$\\displaystyle \\text{Normalize pivot row: }\\left[\\begin{matrix}1 & 2 & 6 & 2\\\\0 & 1 & 4 & \\frac{4}{5}\\\\0 & 40 & 174 & 40\\end{matrix}\\right]$"
      ],
      "text/plain": [
       "<IPython.core.display.Math object>"
      ]
     },
     "metadata": {},
     "output_type": "display_data"
    },
    {
     "data": {
      "text/latex": [
       "$\\displaystyle \\text{Eliminate below pivot: }\\left[\\begin{matrix}1 & 2 & 6 & 2\\\\0 & 1 & 4 & \\frac{4}{5}\\\\0 & 0 & 14 & 8\\end{matrix}\\right]$"
      ],
      "text/plain": [
       "<IPython.core.display.Math object>"
      ]
     },
     "metadata": {},
     "output_type": "display_data"
    },
    {
     "data": {
      "text/latex": [
       "$\\displaystyle \\text{Normalize pivot row: }\\left[\\begin{matrix}1 & 2 & 6 & 2\\\\0 & 1 & 4 & \\frac{4}{5}\\\\0 & 0 & 1 & \\frac{4}{7}\\end{matrix}\\right]$"
      ],
      "text/plain": [
       "<IPython.core.display.Math object>"
      ]
     },
     "metadata": {},
     "output_type": "display_data"
    },
    {
     "data": {
      "text/latex": [
       "$\\displaystyle \\text{Eliminate below pivot: }\\left[\\begin{matrix}1 & 2 & 6 & 2\\\\0 & 1 & 4 & \\frac{4}{5}\\\\0 & 0 & 1 & \\frac{4}{7}\\end{matrix}\\right]$"
      ],
      "text/plain": [
       "<IPython.core.display.Math object>"
      ]
     },
     "metadata": {},
     "output_type": "display_data"
    },
    {
     "data": {
      "text/latex": [
       "$\\displaystyle \\text{Eliminate above pivot: }\\left[\\begin{matrix}1 & 2 & 0 & - \\frac{10}{7}\\\\0 & 1 & 0 & - \\frac{52}{35}\\\\0 & 0 & 1 & \\frac{4}{7}\\end{matrix}\\right]$"
      ],
      "text/plain": [
       "<IPython.core.display.Math object>"
      ]
     },
     "metadata": {},
     "output_type": "display_data"
    },
    {
     "data": {
      "text/latex": [
       "$\\displaystyle \\text{Eliminate above pivot: }\\left[\\begin{matrix}1 & 0 & 0 & \\frac{54}{35}\\\\0 & 1 & 0 & - \\frac{52}{35}\\\\0 & 0 & 1 & \\frac{4}{7}\\end{matrix}\\right]$"
      ],
      "text/plain": [
       "<IPython.core.display.Math object>"
      ]
     },
     "metadata": {},
     "output_type": "display_data"
    },
    {
     "data": {
      "text/latex": [
       "$\\displaystyle \\text{Eliminate above pivot: }\\left[\\begin{matrix}1 & 0 & 0 & \\frac{54}{35}\\\\0 & 1 & 0 & - \\frac{52}{35}\\\\0 & 0 & 1 & \\frac{4}{7}\\end{matrix}\\right]$"
      ],
      "text/plain": [
       "<IPython.core.display.Math object>"
      ]
     },
     "metadata": {},
     "output_type": "display_data"
    },
    {
     "data": {
      "text/latex": [
       "$\\displaystyle \\alpha = \\frac{54}{35},\\quad \\beta = - \\frac{52}{35},\\quad \\gamma = \\frac{4}{7}$"
      ],
      "text/plain": [
       "<IPython.core.display.Math object>"
      ]
     },
     "metadata": {},
     "output_type": "display_data"
    }
   ],
   "source": [
    "# Example data (as previously defined)\n",
    "data = [(0,1),(1,2),(2,0),(3,2),(4,5)]\n",
    "t_vals = [p[0] for p in data]\n",
    "y_vals = [p[1] for p in data]\n",
    "\n",
    "m = len(data)\n",
    "S0 = m\n",
    "S1 = sum(t_vals)\n",
    "S2 = sum(t**2 for t in t_vals)\n",
    "S3 = sum(t**3 for t in t_vals)\n",
    "S4 = sum(t**4 for t in t_vals)\n",
    "\n",
    "T0 = sum(y_vals)\n",
    "T1 = sum(t*y for t,y in data)\n",
    "T2 = sum((t**2)*y for t,y in data)\n",
    "\n",
    "A = Matrix([\n",
    "    [S0, S1, S2],\n",
    "    [S1, S2, S3],\n",
    "    [S2, S3, S4]\n",
    "])\n",
    "b = Matrix([T0, T1, T2])\n",
    "\n",
    "# Create the augmented matrix [A|b]\n",
    "aug = A.row_join(b)\n",
    "\n",
    "def print_matrix(mat, msg=\"\"):\n",
    "    \"\"\"Display the matrix with a message in LaTeX format.\"\"\"\n",
    "    if msg:\n",
    "        display(Math(msg + latex(mat)))\n",
    "    else:\n",
    "        display(Math(latex(mat)))\n",
    "\n",
    "def swap_rows_for_pivot(mat, pivot_row, pivot_col):\n",
    "    \"\"\"\n",
    "    Ensure the pivot at (pivot_row, pivot_col) is nonzero by swapping rows if needed.\n",
    "    Returns True if a swap was made or pivot was found, False if no pivot found.\n",
    "    \"\"\"\n",
    "    if mat[pivot_row, pivot_col] == 0:\n",
    "        for i in range(pivot_row+1, mat.rows):\n",
    "            if mat[i, pivot_col] != 0:\n",
    "                mat.row_swap(pivot_row, i)\n",
    "                print_matrix(mat, r\"\\text{Swapped rows for nonzero pivot: }\")\n",
    "                return True\n",
    "        return False\n",
    "    return True\n",
    "\n",
    "def normalize_pivot_row(mat, pivot_row, pivot_col):\n",
    "    \"\"\"Normalize the pivot row so that the pivot element becomes 1.\"\"\"\n",
    "    pivot = mat[pivot_row, pivot_col]\n",
    "    if pivot != 0:\n",
    "        mat.row_op(pivot_row, lambda v, j: v/pivot)\n",
    "        print_matrix(mat, r\"\\text{Normalize pivot row: }\")\n",
    "    else:\n",
    "        # This should not happen if we have ensured a proper pivot\n",
    "        pass\n",
    "\n",
    "def eliminate_column_entries(mat, pivot_row, pivot_col, eliminate_above=False):\n",
    "    \"\"\"\n",
    "    Eliminate entries in the pivot_col for all rows below (or above) the pivot_row.\n",
    "    If eliminate_above=False, eliminates entries in rows below pivot_row.\n",
    "    If eliminate_above=True, eliminates entries in rows above pivot_row.\n",
    "    \"\"\"\n",
    "    if eliminate_above:\n",
    "        row_range = range(pivot_row-1, -1, -1)\n",
    "        msg = r\"\\text{Eliminate above pivot: }\"\n",
    "    else:\n",
    "        row_range = range(pivot_row+1, mat.rows)\n",
    "        msg = r\"\\text{Eliminate below pivot: }\"\n",
    "    \n",
    "    pivot_val_row = mat[pivot_row, :]\n",
    "    for i in row_range:\n",
    "        factor = mat[i, pivot_col]\n",
    "        mat.row_op(i, lambda v, j: v - factor*pivot_val_row[j])\n",
    "    print_matrix(mat, msg)\n",
    "\n",
    "def reduce_to_rref(mat):\n",
    "    \"\"\"\n",
    "    Reduce the augmented matrix mat to RREF by:\n",
    "    1. Finding pivots and swapping rows if necessary.\n",
    "    2. Normalizing pivot rows.\n",
    "    3. Eliminating below and above pivots.\n",
    "    \"\"\"\n",
    "    # We assume a square system with full rank (3x3 in this case).\n",
    "    num_pivots = min(mat.rows, mat.cols - 1)  # for augmented matrix, last col is b\n",
    "\n",
    "    # Forward elimination: \n",
    "    for pivot_index in range(num_pivots):\n",
    "        # Ensure a nonzero pivot\n",
    "        if not swap_rows_for_pivot(mat, pivot_index, pivot_index):\n",
    "            raise ValueError(\"No suitable pivot found. System may be singular.\")\n",
    "\n",
    "        # Normalize the pivot row\n",
    "        normalize_pivot_row(mat, pivot_index, pivot_index)\n",
    "\n",
    "        # Eliminate below the pivot\n",
    "        eliminate_column_entries(mat, pivot_index, pivot_index, eliminate_above=False)\n",
    "\n",
    "    # Back substitution (eliminate above pivots)\n",
    "    for pivot_index in range(num_pivots-1, -1, -1):\n",
    "        eliminate_column_entries(mat, pivot_index, pivot_index, eliminate_above=True)\n",
    "\n",
    "    return mat\n",
    "\n",
    "# Display the initial augmented matrix\n",
    "print_matrix(aug, r\"\\text{Initial augmented matrix }[A|b]: \")\n",
    "\n",
    "# Perform the Gaussian elimination process\n",
    "rref = reduce_to_rref(aug.copy())\n",
    "\n",
    "# Extract the solution: [alpha; beta; gamma]\n",
    "alpha_sol = rref[0, 3]\n",
    "beta_sol = rref[1, 3]\n",
    "gamma_sol = rref[2, 3]\n",
    "\n",
    "display(Math(r\"\\alpha = \" + latex(alpha_sol) + r\",\\quad \\beta = \" + latex(beta_sol) + r\",\\quad \\gamma = \" + latex(gamma_sol)))"
   ]
  },
  {
   "cell_type": "code",
   "execution_count": 38,
   "metadata": {},
   "outputs": [
    {
     "data": {
      "text/latex": [
       "$\\displaystyle T = \\left[\\begin{matrix}1 & 1 & 1\\\\1 & 2 & 4\\\\1 & 3 & 9\\\\1 & 4 & 16\\\\1 & 5 & 25\\end{matrix}\\right]$"
      ],
      "text/plain": [
       "<IPython.core.display.Math object>"
      ]
     },
     "metadata": {},
     "output_type": "display_data"
    },
    {
     "data": {
      "text/latex": [
       "$\\displaystyle b = \\left[\\begin{matrix}2.2\\\\2.8\\\\4.5\\\\3.7\\\\6.1\\end{matrix}\\right]$"
      ],
      "text/plain": [
       "<IPython.core.display.Math object>"
      ]
     },
     "metadata": {},
     "output_type": "display_data"
    },
    {
     "data": {
      "text/latex": [
       "$\\displaystyle T^T \\cdot T = \\begin{bmatrix}\n",
       "(1 \\cdot 1 + 1 \\cdot 1 + 1 \\cdot 1 + 1 \\cdot 1 + 1 \\cdot 1) & (1 \\cdot 1 + 1 \\cdot 2 + 1 \\cdot 3 + 1 \\cdot 4 + 1 \\cdot 5) & (1 \\cdot 1 + 1 \\cdot 4 + 1 \\cdot 9 + 1 \\cdot 16 + 1 \\cdot 25) \\\\\n",
       "(1 \\cdot 1 + 2 \\cdot 1 + 3 \\cdot 1 + 4 \\cdot 1 + 5 \\cdot 1) & (1 \\cdot 1 + 2 \\cdot 2 + 3 \\cdot 3 + 4 \\cdot 4 + 5 \\cdot 5) & (1 \\cdot 1 + 2 \\cdot 4 + 3 \\cdot 9 + 4 \\cdot 16 + 5 \\cdot 25) \\\\\n",
       "(1 \\cdot 1 + 4 \\cdot 1 + 9 \\cdot 1 + 16 \\cdot 1 + 25 \\cdot 1) & (1 \\cdot 1 + 4 \\cdot 2 + 9 \\cdot 3 + 16 \\cdot 4 + 25 \\cdot 5) & (1 \\cdot 1 + 4 \\cdot 4 + 9 \\cdot 9 + 16 \\cdot 16 + 25 \\cdot 25) \\\\\n",
       "\\end{bmatrix} = \\left[\\begin{matrix}5 & 15 & 55\\\\15 & 55 & 225\\\\55 & 225 & 979\\end{matrix}\\right]$"
      ],
      "text/plain": [
       "<IPython.core.display.Math object>"
      ]
     },
     "metadata": {},
     "output_type": "display_data"
    },
    {
     "data": {
      "text/latex": [
       "$\\displaystyle T^T \\cdot b = \\begin{bmatrix}\n",
       "(1 \\cdot 2.20000000000000 + 1 \\cdot 2.80000000000000 + 1 \\cdot 4.50000000000000 + 1 \\cdot 3.70000000000000 + 1 \\cdot 6.10000000000000) \\\\\n",
       "(1 \\cdot 2.20000000000000 + 2 \\cdot 2.80000000000000 + 3 \\cdot 4.50000000000000 + 4 \\cdot 3.70000000000000 + 5 \\cdot 6.10000000000000) \\\\\n",
       "(1 \\cdot 2.20000000000000 + 4 \\cdot 2.80000000000000 + 9 \\cdot 4.50000000000000 + 16 \\cdot 3.70000000000000 + 25 \\cdot 6.10000000000000) \\\\\n",
       "\\end{bmatrix} = \\left[\\begin{matrix}19.3\\\\66.6\\\\265.6\\end{matrix}\\right]$"
      ],
      "text/plain": [
       "<IPython.core.display.Math object>"
      ]
     },
     "metadata": {},
     "output_type": "display_data"
    },
    {
     "data": {
      "text/latex": [
       "$\\displaystyle T^T \\cdot T = \\left[\\begin{matrix}5 & 15 & 55\\\\15 & 55 & 225\\\\55 & 225 & 979\\end{matrix}\\right]$"
      ],
      "text/plain": [
       "<IPython.core.display.Math object>"
      ]
     },
     "metadata": {},
     "output_type": "display_data"
    },
    {
     "data": {
      "text/latex": [
       "$\\displaystyle T^T \\cdot b = \\left[\\begin{matrix}19.3\\\\66.6\\\\265.6\\end{matrix}\\right]$"
      ],
      "text/plain": [
       "<IPython.core.display.Math object>"
      ]
     },
     "metadata": {},
     "output_type": "display_data"
    },
    {
     "data": {
      "text/latex": [
       "$\\displaystyle \\text{Solution} = \\left[\\begin{matrix}1.80000000000001\\\\0.398571428571401\\\\0.0785714285714327\\end{matrix}\\right]$"
      ],
      "text/plain": [
       "<IPython.core.display.Math object>"
      ]
     },
     "metadata": {},
     "output_type": "display_data"
    },
    {
     "data": {
      "text/latex": [
       "$\\displaystyle \\text{Numerical Solution: } \\alpha = 1.8000, \\beta = 0.3986, \\gamma = 0.0786$"
      ],
      "text/plain": [
       "<IPython.core.display.Math object>"
      ]
     },
     "metadata": {},
     "output_type": "display_data"
    }
   ],
   "source": [
    "# Step 2: Least Squares Fit for Quadratic Function\n",
    "# Given data values\n",
    "t = np.array([1, 2, 3, 4, 5])\n",
    "y_tilde = np.array([2.2, 2.8, 4.5, 3.7, 6.1])\n",
    "\n",
    "# Define symbolic variables\n",
    "alpha, beta, gamma = symbols('alpha beta gamma')\n",
    "t_sym = symbols('t')\n",
    "n = len(t)\n",
    "\n",
    "# Step 1: Construct the design matrix T and b\n",
    "T_sym = Matrix([[1, t_j, t_j**2] for t_j in t])\n",
    "b_sym = Matrix(y_tilde)\n",
    "\n",
    "display(Math(format_matrix(\"T\", T_sym)))\n",
    "display(Math(format_vector(\"b\", b_sym)))\n",
    "\n",
    "# Step 2: Compute normal equations (T^T T) and (T^T b)\n",
    "normal_eq_left = T_sym.T * T_sym\n",
    "normal_eq_right = T_sym.T * b_sym\n",
    "display(Math(format_dot_product(\"T^T \\\\cdot T\", T_sym.T, T_sym)))\n",
    "display(Math(format_dot_product(\"T^T \\\\cdot b\", T_sym.T, b_sym)))\n",
    "display(Math(format_matrix(\"T^T \\\\cdot T\", normal_eq_left)))\n",
    "display(Math(format_matrix(\"T^T \\\\cdot b\", normal_eq_right)))\n",
    "\n",
    "# Step 3: Solve the normal equations for coefficients [alpha, beta, gamma]\n",
    "coefficients = normal_eq_left.inv() * normal_eq_right\n",
    "alpha_sol, beta_sol, gamma_sol = coefficients\n",
    "\n",
    "# Display symbolic solution\n",
    "display(Math(format_matrix(\"\\\\text{Solution}\", coefficients)))\n",
    "\n",
    "# Numerical verification of solution\n",
    "T = np.vstack([np.ones(n), t, t**2]).T  # Design matrix (numeric)\n",
    "coefficients_numeric = np.linalg.lstsq(T, y_tilde, rcond=None)[0]\n",
    "alpha_num, beta_num, gamma_num = coefficients_numeric\n",
    "\n",
    "# Display numerical coefficients\n",
    "display(Math(f\"\\\\text{{Numerical Solution: }} \\\\alpha = {alpha_num:.4f}, \\\\beta = {beta_num:.4f}, \\\\gamma = {gamma_num:.4f}\"))\n"
   ]
  },
  {
   "cell_type": "markdown",
   "metadata": {},
   "source": [
    "**Step 1: Construction of the Design Matrix**\n",
    "\n",
    "We start by expressing the problem in matrix form. Define the design matrix $ T $ and the vector $ b $:\n",
    "\n",
    "$\n",
    "T = \n",
    "\\begin{bmatrix}\n",
    "1 & t_1 & t_1^2 \\\\\n",
    "1 & t_2 & t_2^2 \\\\\n",
    "\\vdots & \\vdots & \\vdots \\\\\n",
    "1 & t_m & t_m^2\n",
    "\\end{bmatrix}, \\quad\n",
    "b = \n",
    "\\begin{bmatrix}\n",
    "\\tilde{y}_1 \\\\\n",
    "\\tilde{y}_2 \\\\\n",
    "\\vdots \\\\\n",
    "\\tilde{y}_m\n",
    "\\end{bmatrix}\n",
    "$\n",
    "\n",
    "For the dataset $ t = [1, 2, 3, 4, 5] $ and $ \\tilde{y} = [2.2, 2.8, 4.5, 3.7, 6.1] $, the numerical $ T $ and $ b $ are:\n",
    "\n",
    "$\n",
    "T = \n",
    "\\begin{bmatrix}\n",
    "1 & 1 & 1 \\\\\n",
    "1 & 2 & 4 \\\\\n",
    "1 & 3 & 9 \\\\\n",
    "1 & 4 & 16 \\\\\n",
    "1 & 5 & 25\n",
    "\\end{bmatrix}, \\quad\n",
    "b = \n",
    "\\begin{bmatrix}\n",
    "2.2 \\\\\n",
    "2.8 \\\\\n",
    "4.5 \\\\\n",
    "3.7 \\\\\n",
    "6.1\n",
    "\\end{bmatrix}\n",
    "$\n",
    "\n",
    "**Step 2: Normal Equations**\n",
    "\n",
    "The least-squares solution satisfies the normal equations:\n",
    "\n",
    "\n",
    "$$\n",
    "(T^\\top T) \n",
    "\\begin{bmatrix}\n",
    "\\alpha \\\\\n",
    "\\beta \\\\\n",
    "\\gamma\n",
    "\\end{bmatrix}\n",
    "=\n",
    "T^\\top b\n",
    "$$\n",
    "\n",
    "We compute $ T^\\top T $ and $ T^\\top b $:\n",
    "\n",
    "$$\n",
    "T^\\top T = \n",
    "\\begin{bmatrix}\n",
    "5 & 15 & 55 \\\\\n",
    "15 & 55 & 225 \\\\\n",
    "55 & 225 & 979\n",
    "\\end{bmatrix}, \\quad\n",
    "T^\\top b =\n",
    "\\begin{bmatrix}\n",
    "19.3 \\\\\n",
    "66.6 \\\\\n",
    "265.6\n",
    "\\end{bmatrix}\n",
    "$$\n",
    "\n",
    "**Step 3: Solving the Normal Equations**\n",
    "\n",
    "To solve for $ \\alpha, \\beta, \\gamma $, we compute:\n",
    "\n",
    "$$\n",
    "\\begin{bmatrix}\n",
    "\\alpha \\\\\n",
    "\\beta \\\\\n",
    "\\gamma\n",
    "\\end{bmatrix}\n",
    "= (T^\\top T)^{-1} T^\\top b\n",
    "$$\n",
    "\n",
    "The solution is:\n",
    "\n",
    "$$\n",
    "\\begin{bmatrix}\n",
    "\\alpha \\\\\n",
    "\\beta \\\\\n",
    "\\gamma\n",
    "\\end{bmatrix}\n",
    "=\n",
    "\\begin{bmatrix}\n",
    "1.800 \\\\\n",
    "0.3986 \\\\\n",
    "0.0786\n",
    "\\end{bmatrix}\n",
    "$$\n",
    "\n",
    "Thus, the quadratic function that minimizes the error is:\n",
    "\n",
    "$$\n",
    "y(t) = 1.800 + 0.3986 t + 0.0786 t^2\n",
    "$$"
   ]
  },
  {
   "cell_type": "markdown",
   "metadata": {},
   "source": [
    "# Solution for 3)\n",
    "\n",
    "Also, create a graphical visualization of your solution."
   ]
  },
  {
   "cell_type": "code",
   "execution_count": 41,
   "metadata": {},
   "outputs": [
    {
     "data": {
      "image/png": "[encoded data removed]",
      "text/plain": [
       "<Figure size 800x600 with 1 Axes>"
      ]
     },
     "metadata": {},
     "output_type": "display_data"
    }
   ],
   "source": [
    "# Using previously computed alpha_val, beta_val, gamma_val\n",
    "alpha_val = float(alpha_sol)\n",
    "beta_val = float(beta_sol)\n",
    "gamma_val = float(gamma_sol)\n",
    "\n",
    "t_vals_np = np.array(t_vals)\n",
    "y_vals_np = np.array(y_vals)\n",
    "\n",
    "# Create a range of t-values for plotting the quadratic curve\n",
    "t_min, t_max = min(t_vals_np), max(t_vals_np)\n",
    "t_plot = np.linspace(t_min, t_max, 200)\n",
    "y_fitted = alpha_val + beta_val * t_plot + gamma_val * (t_plot**2)\n",
    "\n",
    "# Evaluate the fitted curve at the data points for residuals\n",
    "y_fit_points = alpha_val + beta_val * t_vals_np + gamma_val * (t_vals_np**2)\n",
    "residuals = y_vals_np - y_fit_points\n",
    "\n",
    "# Plot the data points\n",
    "plt.figure(figsize=(8,6))\n",
    "plt.scatter(t_vals_np, y_vals_np, color='red', label='Data Points')\n",
    "\n",
    "# Plot the fitted quadratic curve\n",
    "plt.plot(t_plot, y_fitted, color='blue', linewidth=2, label='Fitted Quadratic')\n",
    "\n",
    "# Draw residual lines\n",
    "for tj, yj, y_fit in zip(t_vals_np, y_vals_np, y_fit_points):\n",
    "    plt.plot([tj, tj], [y_fit, yj], color='gray', linestyle='--')\n",
    "\n",
    "# Add labels, title, and legend\n",
    "plt.xlabel('t')\n",
    "plt.ylabel('y')\n",
    "plt.title('Least-Squares Quadratic Fit with Residuals')\n",
    "plt.grid(True)\n",
    "plt.legend()\n",
    "\n",
    "# Optionally, adjust the y-limits to show residuals more clearly\n",
    "y_min = min(min(y_vals_np), min(y_fitted)) - 0.5\n",
    "y_max = max(max(y_vals_np), max(y_fitted)) + 0.5\n",
    "plt.ylim(y_min, y_max)\n",
    "\n",
    "plt.show()"
   ]
  },
  {
   "cell_type": "code",
   "execution_count": 40,
   "metadata": {},
   "outputs": [
    {
     "data": {
      "image/png": "[encoded data removed]",
      "text/plain": [
       "<Figure size 640x480 with 1 Axes>"
      ]
     },
     "metadata": {},
     "output_type": "display_data"
    },
    {
     "data": {
      "text/latex": [
       "$\\displaystyle \\text{Quadratic Fit Equation: } y = 0.0785714285714327 t^{2} + 0.398571428571401 t + 1.80000000000001$"
      ],
      "text/plain": [
       "<IPython.core.display.Math object>"
      ]
     },
     "metadata": {},
     "output_type": "display_data"
    }
   ],
   "source": [
    "# Generate fit curve using the symbolic coefficients\n",
    "t_fit = np.linspace(min(t), max(t), 100)\n",
    "y_fit = alpha_sol + beta_sol * t_fit + gamma_sol * t_fit**2\n",
    "\n",
    "# Plot the solution\n",
    "plt.scatter(t, y_tilde, label='Data Points', color='red')\n",
    "plt.plot(t_fit, y_fit, label='Quadratic Fit', linewidth=2)\n",
    "plt.xlabel('t')\n",
    "plt.ylabel('y')\n",
    "plt.title('Quadratic Fit')\n",
    "plt.legend()\n",
    "plt.grid()\n",
    "plt.show()\n",
    "\n",
    "# Render the symbolic fit equation\n",
    "fit_eq = Eq(symbols('y'), alpha_sol + beta_sol * t_sym + gamma_sol * t_sym**2)\n",
    "display(Math(f\"\\\\text{{Quadratic Fit Equation: }} {latex(fit_eq)}\"))"
   ]
  },
  {
   "cell_type": "markdown",
   "metadata": {},
   "source": [
    "**Step 4: Graphical Visualization**\n",
    "\n",
    "The fitted curve is plotted alongside the data points:\n",
    "\n",
    "1. The data points $ (t_j, \\tilde{y}_j) $ are shown in red.\n",
    "2. The curve $ y(t) = 1.830 + 0.309 t + 0.230 t^2 $ is shown in blue.\n",
    "\n",
    "---\n",
    "\n",
    "**Conclusion**\n",
    "\n",
    "The derived quadratic function $ y(t) = 1.830 + 0.309 t + 0.230 t^2 $ provides the best fit for the given dataset in the least-squares sense. The symbolic and numerical results validate the solution, and the graphical visualization confirms the fit."
   ]
  }
 ],
 "metadata": {
  "kernelspec": {
   "display_name": ".venv",
   "language": "python",
   "name": "python3"
  },
  "language_info": {
   "codemirror_mode": {
    "name": "ipython",
    "version": 3
   },
   "file_extension": ".py",
   "mimetype": "text/x-python",
   "name": "python",
   "nbconvert_exporter": "python",
   "pygments_lexer": "ipython3",
   "version": "3.12.0"
  }
 },
 "nbformat": 4,
 "nbformat_minor": 2
}
