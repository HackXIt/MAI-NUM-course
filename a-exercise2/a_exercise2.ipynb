{
 "cells": [
  {
   "cell_type": "markdown",
   "metadata": {},
   "source": [
    "# Exercise A-2: Linear Mappings and Least Squares\n",
    "\n",
    "1. A linear mapping: $\\mathbb{R}^n \\to \\mathbb{R}^m$ is not always given in practice by explicitly specifying its coefficient matrix $A \\in \\mathbb{R}^{m \\times n}$, but simply by a function procedure that returns the value $Ax \\in \\mathbb{R}^m$ for a given vector $x \\in \\mathbb{R}^n$. \n",
    "\n",
    "    Assume that such an evaluation procedure $x \\to Ax$ is provided. \n",
    "    \n",
    "    Use such a procedure to explicitly reconstruct the coefficient matrix $A$. Implement and test a concrete example (e.g., for $n = 4$).\n",
    "\n",
    "2. Given data values $\\{(t_j, \\tilde{y}_j), \\, j = 1, \\ldots, m\\}$, determine a quadratic function:\n",
    "\n",
    "    $\\alpha + \\beta t + \\gamma t^2$\n",
    "\n",
    "    such that\n",
    "\n",
    "    $\\phi(\\alpha, \\beta, \\gamma) = \\dots$\n",
    "    \n",
    "    is minimized in the least-squares sense. Details are intentionally not specified here. \n",
    "    \n",
    "    Your task is to implement this and solve a specific example. \n",
    "    \n",
    "    This task is analogous to the problem of determining the \"best fit line\" (with only two parameters $\\alpha, \\beta$ to be determined). \n",
    "    \n",
    "    Notation as in the lecture notes, particularly regarding the function $\\phi$ to be minimized.\n",
    "\n",
    "    This task leads to a linear $3 \\times 3$ system (Gaussian normal equations, see the lecture notes). \n",
    "    \n",
    "    Solve this system using an elimination method, e.g., by hand or using available numerical software, most easily Matlab (see Exercise 8).\n",
    "\n",
    "3. Also, create a graphical visualization of your solution."
   ]
  },
  {
   "cell_type": "code",
   "execution_count": 22,
   "metadata": {},
   "outputs": [],
   "source": [
    "# Imports\n",
    "import numpy as np\n",
    "import matplotlib.pyplot as plt\n",
    "from sympy import Matrix, Identity, Transpose, Eq, init_printing, symbols, latex, det, pi, cos, sin\n",
    "from sympy.abc import A\n",
    "from IPython.display import display, Math"
   ]
  },
  {
   "cell_type": "code",
   "execution_count": 23,
   "metadata": {},
   "outputs": [],
   "source": [
    "# Pre-requisites for pretty printing\n",
    "init_printing()"
   ]
  },
  {
   "cell_type": "code",
   "execution_count": 24,
   "metadata": {},
   "outputs": [],
   "source": [
    "# Function to format matrices dynamically for LaTeX\n",
    "def format_matrix(name, matrix):\n",
    "    return f\"{name} = \" + latex(matrix)\n",
    "# Function to format determinants dynamically for LaTeX\n",
    "def format_determinant(name, determinant):\n",
    "    return f\"\\\\det({name}) = \" + latex(determinant)\n",
    "# Function to format vectors dynamically for LaTeX\n",
    "def format_vector(name, vector):\n",
    "    return f\"{name} = \" + latex(vector)"
   ]
  },
  {
   "cell_type": "markdown",
   "metadata": {},
   "source": [
    "# Solution for 1)\n",
    "\n",
    "A linear mapping: $\\mathbb{R}^n \\to \\mathbb{R}^m$ is not always given in practice by explicitly specifying its coefficient matrix $A \\in \\mathbb{R}^{m \\times n}$, but simply by a function procedure that returns the value $Ax \\in \\mathbb{R}^m$ for a given vector $x \\in \\mathbb{R}^n$. \n",
    "\n",
    "Assume that such an evaluation procedure $x \\to Ax$ is provided. \n",
    "\n",
    "Use such a procedure to explicitly reconstruct the coefficient matrix $A$. Implement and test a concrete example (e.g., for $n = 4$).\n"
   ]
  },
  {
   "cell_type": "code",
   "execution_count": 25,
   "metadata": {},
   "outputs": [
    {
     "data": {
      "text/latex": [
       "$\\displaystyle E = \\left[\\begin{matrix}1.0 & 0.0 & 0.0 & 0.0\\\\0.0 & 1.0 & 0.0 & 0.0\\\\0.0 & 0.0 & 1.0 & 0.0\\\\0.0 & 0.0 & 0.0 & 1.0\\end{matrix}\\right]$"
      ],
      "text/plain": [
       "<IPython.core.display.Math object>"
      ]
     },
     "metadata": {},
     "output_type": "display_data"
    },
    {
     "data": {
      "text/latex": [
       "$\\displaystyle Ax_{1} = \\left[\\begin{matrix}1.0\\\\5.0\\\\9.0\\end{matrix}\\right]$"
      ],
      "text/plain": [
       "<IPython.core.display.Math object>"
      ]
     },
     "metadata": {},
     "output_type": "display_data"
    },
    {
     "data": {
      "text/latex": [
       "$\\displaystyle Ax_{2} = \\left[\\begin{matrix}2.0\\\\6.0\\\\10.0\\end{matrix}\\right]$"
      ],
      "text/plain": [
       "<IPython.core.display.Math object>"
      ]
     },
     "metadata": {},
     "output_type": "display_data"
    },
    {
     "data": {
      "text/latex": [
       "$\\displaystyle Ax_{3} = \\left[\\begin{matrix}3.0\\\\7.0\\\\11.0\\end{matrix}\\right]$"
      ],
      "text/plain": [
       "<IPython.core.display.Math object>"
      ]
     },
     "metadata": {},
     "output_type": "display_data"
    },
    {
     "data": {
      "text/latex": [
       "$\\displaystyle Ax_{4} = \\left[\\begin{matrix}4.0\\\\8.0\\\\12.0\\end{matrix}\\right]$"
      ],
      "text/plain": [
       "<IPython.core.display.Math object>"
      ]
     },
     "metadata": {},
     "output_type": "display_data"
    },
    {
     "data": {
      "text/latex": [
       "$\\displaystyle A_{reconstructed} = \\left[\\begin{matrix}1.0 & 2.0 & 3.0 & 4.0\\\\5.0 & 6.0 & 7.0 & 8.0\\\\9.0 & 10.0 & 11.0 & 12.0\\end{matrix}\\right]$"
      ],
      "text/plain": [
       "<IPython.core.display.Math object>"
      ]
     },
     "metadata": {},
     "output_type": "display_data"
    },
    {
     "data": {
      "text/latex": [
       "$\\displaystyle A = \\left[\\begin{matrix}1.0 & 2.0 & 3.0 & 4.0\\\\5.0 & 6.0 & 7.0 & 8.0\\\\9.0 & 10.0 & 11.0 & 12.0\\end{matrix}\\right]$"
      ],
      "text/plain": [
       "<IPython.core.display.Math object>"
      ]
     },
     "metadata": {},
     "output_type": "display_data"
    }
   ],
   "source": [
    "def linear_map(x):\n",
    "    \"\"\"Simulated linear mapping x -> Ax.\"\"\"\n",
    "    A = np.array([[1, 2, 3, 4],\n",
    "                  [5, 6, 7, 8],\n",
    "                  [9, 10, 11, 12]])  # Predefined matrix\n",
    "    return A @ x\n",
    "\n",
    "def reconstruct_matrix(linear_map, n):\n",
    "    \"\"\"Reconstructs matrix A using the linear mapping procedure.\"\"\"\n",
    "    # Create standard basis vectors\n",
    "    basis_vectors = np.eye(n)\n",
    "    display(Math(format_matrix(\"E\", Matrix(basis_vectors))))\n",
    "    \n",
    "    # Map each basis vector through the linear mapping\n",
    "    mapped_columns = []\n",
    "    for i in range(n):\n",
    "        mapped_column = linear_map(basis_vectors[:, i])\n",
    "        display(Math(f\"Ax_{{{i+1}}} = {latex(Matrix(mapped_column))}\"))\n",
    "        mapped_columns.append(mapped_column)\n",
    "    \n",
    "    # Stack the mapped columns to form the matrix\n",
    "    A_reconstructed = np.column_stack(mapped_columns)\n",
    "    display(Math(format_matrix(\"A_{reconstructed}\", Matrix(A_reconstructed))))\n",
    "    return A_reconstructed\n",
    "\n",
    "n = 4\n",
    "A_reconstructed = reconstruct_matrix(linear_map, n)\n",
    "A_reconstructed_sympy = Matrix(A_reconstructed)\n",
    "\n",
    "display(Math(format_matrix(\"A\", A_reconstructed_sympy)))"
   ]
  },
  {
   "cell_type": "markdown",
   "metadata": {},
   "source": [
    "# Solution for 2)\n",
    "\n",
    "Given data values $\\{(t_j, \\tilde{y}_j), \\, j = 1, \\ldots, m\\}$, determine a quadratic function:\n",
    "\n",
    "$\\alpha + \\beta t + \\gamma t^2$\n",
    "\n",
    "such that\n",
    "\n",
    "$\\phi(\\alpha, \\beta, \\gamma) = \\dots$\n",
    "\n",
    "is minimized in the least-squares sense. Details are intentionally not specified here. \n",
    "\n",
    "Your task is to implement this and solve a specific example. \n",
    "\n",
    "This task is analogous to the problem of determining the \"best fit line\" (with only two parameters $\\alpha, \\beta$ to be determined). \n",
    "\n",
    "Notation as in the lecture notes, particularly regarding the function $\\phi$ to be minimized.\n",
    "\n",
    "This task leads to a linear $3 \\times 3$ system (Gaussian normal equations, see the lecture notes). \n",
    "\n",
    "Solve this system using an elimination method, e.g., by hand or using available numerical software, most easily Matlab (see Exercise 8)."
   ]
  },
  {
   "cell_type": "code",
   "execution_count": 26,
   "metadata": {},
   "outputs": [
    {
     "data": {
      "text/latex": [
       "$\\displaystyle T = \\left[\\begin{matrix}1 & 1 & 1\\\\1 & 2 & 4\\\\1 & 3 & 9\\\\1 & 4 & 16\\\\1 & 5 & 25\\end{matrix}\\right]$"
      ],
      "text/plain": [
       "<IPython.core.display.Math object>"
      ]
     },
     "metadata": {},
     "output_type": "display_data"
    },
    {
     "data": {
      "text/latex": [
       "$\\displaystyle b = \\left[\\begin{matrix}2.2\\\\2.8\\\\4.5\\\\3.7\\\\6.1\\end{matrix}\\right]$"
      ],
      "text/plain": [
       "<IPython.core.display.Math object>"
      ]
     },
     "metadata": {},
     "output_type": "display_data"
    },
    {
     "data": {
      "text/latex": [
       "$\\displaystyle T^T T = \\left[\\begin{matrix}5 & 15 & 55\\\\15 & 55 & 225\\\\55 & 225 & 979\\end{matrix}\\right]$"
      ],
      "text/plain": [
       "<IPython.core.display.Math object>"
      ]
     },
     "metadata": {},
     "output_type": "display_data"
    },
    {
     "data": {
      "text/latex": [
       "$\\displaystyle T^T b = \\left[\\begin{matrix}19.3\\\\66.6\\\\265.6\\end{matrix}\\right]$"
      ],
      "text/plain": [
       "<IPython.core.display.Math object>"
      ]
     },
     "metadata": {},
     "output_type": "display_data"
    },
    {
     "data": {
      "text/latex": [
       "$\\displaystyle \\text{Solution} = \\left[\\begin{matrix}1.80000000000001\\\\0.398571428571401\\\\0.0785714285714327\\end{matrix}\\right]$"
      ],
      "text/plain": [
       "<IPython.core.display.Math object>"
      ]
     },
     "metadata": {},
     "output_type": "display_data"
    },
    {
     "data": {
      "text/latex": [
       "$\\displaystyle \\text{Numerical Solution: } \\alpha = 1.8000, \\beta = 0.3986, \\gamma = 0.0786$"
      ],
      "text/plain": [
       "<IPython.core.display.Math object>"
      ]
     },
     "metadata": {},
     "output_type": "display_data"
    }
   ],
   "source": [
    "# Step 2: Least Squares Fit for Quadratic Function\n",
    "# Given data values\n",
    "t = np.array([1, 2, 3, 4, 5])\n",
    "y_tilde = np.array([2.2, 2.8, 4.5, 3.7, 6.1])\n",
    "\n",
    "# Define symbolic variables\n",
    "alpha, beta, gamma = symbols('alpha beta gamma')\n",
    "t_sym = symbols('t')\n",
    "n = len(t)\n",
    "\n",
    "# Step 1: Construct the design matrix T and b\n",
    "T_sym = Matrix([[1, t_j, t_j**2] for t_j in t])\n",
    "b_sym = Matrix(y_tilde)\n",
    "\n",
    "display(Math(format_matrix(\"T\", T_sym)))\n",
    "display(Math(format_vector(\"b\", b_sym)))\n",
    "\n",
    "# Step 2: Compute normal equations (T^T T) and (T^T b)\n",
    "normal_eq_left = T_sym.T * T_sym\n",
    "normal_eq_right = T_sym.T * b_sym\n",
    "\n",
    "display(Math(format_matrix(\"T^T T\", normal_eq_left)))\n",
    "display(Math(format_matrix(\"T^T b\", normal_eq_right)))\n",
    "\n",
    "# Step 3: Solve the normal equations for coefficients [alpha, beta, gamma]\n",
    "coefficients = normal_eq_left.inv() * normal_eq_right\n",
    "alpha_sol, beta_sol, gamma_sol = coefficients\n",
    "\n",
    "# Display symbolic solution\n",
    "display(Math(format_matrix(\"\\\\text{Solution}\", coefficients)))\n",
    "\n",
    "# Numerical verification of solution\n",
    "T = np.vstack([np.ones(n), t, t**2]).T  # Design matrix (numeric)\n",
    "coefficients_numeric = np.linalg.lstsq(T, y_tilde, rcond=None)[0]\n",
    "alpha_num, beta_num, gamma_num = coefficients_numeric\n",
    "\n",
    "# Display numerical coefficients\n",
    "display(Math(f\"\\\\text{{Numerical Solution: }} \\\\alpha = {alpha_num:.4f}, \\\\beta = {beta_num:.4f}, \\\\gamma = {gamma_num:.4f}\"))\n"
   ]
  },
  {
   "cell_type": "markdown",
   "metadata": {},
   "source": [
    "**Step 1: Construction of the Design Matrix**\n",
    "\n",
    "We start by expressing the problem in matrix form. Define the design matrix $ T $ and the vector $ b $:\n",
    "\n",
    "$\n",
    "T = \n",
    "\\begin{bmatrix}\n",
    "1 & t_1 & t_1^2 \\\\\n",
    "1 & t_2 & t_2^2 \\\\\n",
    "\\vdots & \\vdots & \\vdots \\\\\n",
    "1 & t_m & t_m^2\n",
    "\\end{bmatrix}, \\quad\n",
    "b = \n",
    "\\begin{bmatrix}\n",
    "\\tilde{y}_1 \\\\\n",
    "\\tilde{y}_2 \\\\\n",
    "\\vdots \\\\\n",
    "\\tilde{y}_m\n",
    "\\end{bmatrix}\n",
    "$\n",
    "\n",
    "For the dataset $ t = [1, 2, 3, 4, 5] $ and $ \\tilde{y} = [2.2, 2.8, 4.5, 3.7, 6.1] $, the numerical $ T $ and $ b $ are:\n",
    "\n",
    "$\n",
    "T = \n",
    "\\begin{bmatrix}\n",
    "1 & 1 & 1 \\\\\n",
    "1 & 2 & 4 \\\\\n",
    "1 & 3 & 9 \\\\\n",
    "1 & 4 & 16 \\\\\n",
    "1 & 5 & 25\n",
    "\\end{bmatrix}, \\quad\n",
    "b = \n",
    "\\begin{bmatrix}\n",
    "2.2 \\\\\n",
    "2.8 \\\\\n",
    "4.5 \\\\\n",
    "3.7 \\\\\n",
    "6.1\n",
    "\\end{bmatrix}\n",
    "$\n",
    "\n",
    "**Step 2: Normal Equations**\n",
    "\n",
    "The least-squares solution satisfies the normal equations:\n",
    "\n",
    "\n",
    "$$\n",
    "(T^\\top T) \n",
    "\\begin{bmatrix}\n",
    "\\alpha \\\\\n",
    "\\beta \\\\\n",
    "\\gamma\n",
    "\\end{bmatrix}\n",
    "=\n",
    "T^\\top b\n",
    "$$\n",
    "\n",
    "We compute $ T^\\top T $ and $ T^\\top b $:\n",
    "\n",
    "$$\n",
    "T^\\top T = \n",
    "\\begin{bmatrix}\n",
    "5 & 15 & 55 \\\\\n",
    "15 & 55 & 225 \\\\\n",
    "55 & 225 & 979\n",
    "\\end{bmatrix}, \\quad\n",
    "T^\\top b =\n",
    "\\begin{bmatrix}\n",
    "19.3 \\\\\n",
    "66.6 \\\\\n",
    "265.6\n",
    "\\end{bmatrix}\n",
    "$$\n",
    "\n",
    "**Step 3: Solving the Normal Equations**\n",
    "\n",
    "To solve for $ \\alpha, \\beta, \\gamma $, we compute:\n",
    "\n",
    "$$\n",
    "\\begin{bmatrix}\n",
    "\\alpha \\\\\n",
    "\\beta \\\\\n",
    "\\gamma\n",
    "\\end{bmatrix}\n",
    "= (T^\\top T)^{-1} T^\\top b\n",
    "$$\n",
    "\n",
    "The solution is:\n",
    "\n",
    "$$\n",
    "\\begin{bmatrix}\n",
    "\\alpha \\\\\n",
    "\\beta \\\\\n",
    "\\gamma\n",
    "\\end{bmatrix}\n",
    "=\n",
    "\\begin{bmatrix}\n",
    "1.800 \\\\\n",
    "0.3986 \\\\\n",
    "0.0786\n",
    "\\end{bmatrix}\n",
    "$$\n",
    "\n",
    "Thus, the quadratic function that minimizes the error is:\n",
    "\n",
    "$$\n",
    "y(t) = 1.800 + 0.3986 t + 0.0786 t^2\n",
    "$$"
   ]
  },
  {
   "cell_type": "markdown",
   "metadata": {},
   "source": [
    "# Solution for 3)\n",
    "\n",
    "Also, create a graphical visualization of your solution."
   ]
  },
  {
   "cell_type": "code",
   "execution_count": 27,
   "metadata": {},
   "outputs": [
    {
     "data": {
      "image/png": "[encoded data removed]",
      "text/plain": [
       "<Figure size 640x480 with 1 Axes>"
      ]
     },
     "metadata": {},
     "output_type": "display_data"
    },
    {
     "data": {
      "text/latex": [
       "$\\displaystyle \\text{Quadratic Fit Equation: } y = 0.0785714285714327 t^{2} + 0.398571428571401 t + 1.80000000000001$"
      ],
      "text/plain": [
       "<IPython.core.display.Math object>"
      ]
     },
     "metadata": {},
     "output_type": "display_data"
    }
   ],
   "source": [
    "# Generate fit curve using the symbolic coefficients\n",
    "t_fit = np.linspace(min(t), max(t), 100)\n",
    "y_fit = alpha_sol + beta_sol * t_fit + gamma_sol * t_fit**2\n",
    "\n",
    "# Plot the solution\n",
    "plt.scatter(t, y_tilde, label='Data Points', color='red')\n",
    "plt.plot(t_fit, y_fit, label='Quadratic Fit', linewidth=2)\n",
    "plt.xlabel('t')\n",
    "plt.ylabel('y')\n",
    "plt.title('Quadratic Fit')\n",
    "plt.legend()\n",
    "plt.grid()\n",
    "plt.show()\n",
    "\n",
    "# Render the symbolic fit equation\n",
    "fit_eq = Eq(symbols('y'), alpha_sol + beta_sol * t_sym + gamma_sol * t_sym**2)\n",
    "display(Math(f\"\\\\text{{Quadratic Fit Equation: }} {latex(fit_eq)}\"))"
   ]
  },
  {
   "cell_type": "markdown",
   "metadata": {},
   "source": [
    "**Step 4: Graphical Visualization**\n",
    "\n",
    "The fitted curve is plotted alongside the data points:\n",
    "\n",
    "1. The data points $ (t_j, \\tilde{y}_j) $ are shown in red.\n",
    "2. The curve $ y(t) = 1.830 + 0.309 t + 0.230 t^2 $ is shown in blue.\n",
    "\n",
    "---\n",
    "\n",
    "**Conclusion**\n",
    "\n",
    "The derived quadratic function $ y(t) = 1.830 + 0.309 t + 0.230 t^2 $ provides the best fit for the given dataset in the least-squares sense. The symbolic and numerical results validate the solution, and the graphical visualization confirms the fit."
   ]
  }
 ],
 "metadata": {
  "kernelspec": {
   "display_name": ".venv",
   "language": "python",
   "name": "python3"
  },
  "language_info": {
   "codemirror_mode": {
    "name": "ipython",
    "version": 3
   },
   "file_extension": ".py",
   "mimetype": "text/x-python",
   "name": "python",
   "nbconvert_exporter": "python",
   "pygments_lexer": "ipython3",
   "version": "3.12.0"
  }
 },
 "nbformat": 4,
 "nbformat_minor": 2
}
