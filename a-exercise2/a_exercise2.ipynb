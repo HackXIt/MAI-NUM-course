{
 "cells": [
  {
   "cell_type": "markdown",
   "metadata": {},
   "source": [
    "# Exercise A-2: Linear Mappings and Least Squares\n",
    "\n",
    "1. A linear mapping: $\\mathbb{R}^n \\to \\mathbb{R}^m$ is not always given in practice by explicitly specifying its coefficient matrix $A \\in \\mathbb{R}^{m \\times n}$, but simply by a function procedure that returns the value $Ax \\in \\mathbb{R}^m$ for a given vector $x \\in \\mathbb{R}^n$. \n",
    "\n",
    "    Assume that such an evaluation procedure $x \\to Ax$ is provided. \n",
    "    \n",
    "    Use such a procedure to explicitly reconstruct the coefficient matrix $A$. Implement and test a concrete example (e.g., for $n = 4$).\n",
    "\n",
    "2. Given data values $\\{(t_j, \\tilde{y}_j), \\, j = 1, \\ldots, m\\}$, determine a quadratic function:\n",
    "\n",
    "    $\\alpha + \\beta t + \\gamma t^2$\n",
    "\n",
    "    such that\n",
    "\n",
    "    $\\phi(\\alpha, \\beta, \\gamma) = \\dots$\n",
    "    \n",
    "    is minimized in the least-squares sense. Details are intentionally not specified here. \n",
    "    \n",
    "    Your task is to implement this and solve a specific example. \n",
    "    \n",
    "    This task is analogous to the problem of determining the \"best fit line\" (with only two parameters $\\alpha, \\beta$ to be determined). \n",
    "    \n",
    "    Notation as in the lecture notes, particularly regarding the function $\\phi$ to be minimized.\n",
    "\n",
    "    This task leads to a linear $3 \\times 3$ system (Gaussian normal equations, see the lecture notes). \n",
    "    \n",
    "    Solve this system using an elimination method, e.g., by hand or using available numerical software, most easily Matlab (see Exercise 8).\n",
    "\n",
    "3. Also, create a graphical visualization of your solution."
   ]
  },
  {
   "cell_type": "code",
   "execution_count": 1,
   "metadata": {},
   "outputs": [],
   "source": [
    "# Imports\n",
    "import numpy as np\n",
    "import matplotlib.pyplot as plt\n",
    "from sympy import Matrix, Identity, init_printing, symbols, latex, lambdify\n",
    "from sympy.abc import A\n",
    "from IPython.display import display, Math"
   ]
  },
  {
   "cell_type": "code",
   "execution_count": 2,
   "metadata": {},
   "outputs": [],
   "source": [
    "# Pre-requisites for pretty printing\n",
    "init_printing()"
   ]
  },
  {
   "cell_type": "code",
   "execution_count": 3,
   "metadata": {},
   "outputs": [],
   "source": [
    "# Function to format matrices dynamically for LaTeX\n",
    "def format_matrix(name, matrix):\n",
    "    return f\"{name} = \" + latex(matrix)\n",
    "# Function to format determinants dynamically for LaTeX\n",
    "def format_determinant(name, determinant):\n",
    "    return f\"\\\\det({name}) = \" + latex(determinant)\n",
    "# Function to format vectors dynamically for LaTeX\n",
    "def format_vector(name, vector):\n",
    "    return f\"{name} = \" + latex(vector)\n",
    "def format_dot_product(name, matrix1: Matrix, matrix2: Matrix):\n",
    "    result = matrix1 * matrix2\n",
    "    # Start LaTeX formatting\n",
    "    latex_str = f\"{name} = \\\\begin{{bmatrix}}\\n\"\n",
    "    # Iterate over the result matrix to format each cell\n",
    "    for i in range(result.rows):\n",
    "        row_operations = []\n",
    "        for j in range(result.cols):\n",
    "            terms = []\n",
    "            for k in range(matrix1.cols):\n",
    "                terms.append(f\"{matrix1[i, k]} \\\\cdot {matrix2[k, j] if matrix2.shape[1] > 1 else matrix2[k]}\")\n",
    "            operation = \" + \".join(terms)\n",
    "            row_operations.append(f\"({operation})\")\n",
    "        latex_str += \" & \".join(row_operations) + \" \\\\\\\\\\n\"\n",
    "\n",
    "    latex_str += \"\\\\end{bmatrix} = \" + latex(result)\n",
    "    return latex_str"
   ]
  },
  {
   "cell_type": "markdown",
   "metadata": {},
   "source": [
    "# Solution for 1)\n",
    "\n",
    "A linear mapping: $\\mathbb{R}^n \\to \\mathbb{R}^m$ is not always given in practice by explicitly specifying its coefficient matrix $A \\in \\mathbb{R}^{m \\times n}$, but simply by a function procedure that returns the value $Ax \\in \\mathbb{R}^m$ for a given vector $x \\in \\mathbb{R}^n$. \n",
    "\n",
    "Assume that such an evaluation procedure $x \\to Ax$ is provided. \n",
    "\n",
    "Use such a procedure to explicitly reconstruct the coefficient matrix $A$. Implement and test a concrete example (e.g., for $n = 4$).\n"
   ]
  },
  {
   "cell_type": "markdown",
   "metadata": {},
   "source": [
    "$\n",
    "\\textbf{Step 1: Setup}\n",
    "$\n",
    "\n",
    "Assume we have a linear mapping\n",
    "$\n",
    "f: \\mathbb{R}^n \\to \\mathbb{R}^m,\n",
    "$\n",
    "and that for any $ x \\in \\mathbb{R}^n $, we can compute $ f(x) \\in \\mathbb{R}^m $. \n",
    "\n",
    "We know $ f $ is linear, i.e.,\n",
    "$\n",
    "f(x+y) = f(x) + f(y), \\quad f(\\alpha x) = \\alpha f(x), \\quad \\forall x,y \\in \\mathbb{R}^n,, \\alpha \\in \\mathbb{R}.\n",
    "$\n",
    "\n",
    "There exists a matrix $ A \\in \\mathbb{R}^{m \\times n} $ such that\n",
    "$\n",
    "f(x) = A x.\n",
    "$\n",
    "\n",
    "$\n",
    "\\textbf{Step 2: Standard Basis and Matrix Reconstruction}\n",
    "$\n",
    "\n",
    "Let $ { e_1, e_2, \\dots, e_n } $ denote the standard basis of $\\mathbb{R}^n$, where\n",
    "$\n",
    "e_j = (0, \\dots, 0, 1, 0, \\dots, 0)^T,\n",
    "$\n",
    "with the $1$ in the $j$-th position and zeros elsewhere.\n",
    "\n",
    "Since $ f $ is linear and $ f(x) = A x $, we have\n",
    "$\n",
    "f(e_j) = A e_j.\n",
    "$\n",
    "\n",
    "But the matrix-vector product $ A e_j $ simply extracts the $ j $-th column of $ A $.\n",
    "\n",
    "Thus, if we evaluate $ f $ at each of the standard basis vectors, we obtain all the columns of $ A $:\n",
    "$\n",
    "A = \\bigl[ f(e_1) \\mid f(e_2) \\mid \\cdots \\mid f(e_n) \\bigr].\n",
    "$\n",
    "\n",
    "$\n",
    "\\textbf{Step 3: Implementation Details}\n",
    "$\n",
    "\n",
    "1. Define a function that given $ x \\in \\mathbb{R}^n $, returns $ f(x) \\in \\mathbb{R}^m $.\n",
    "2. Construct the standard basis vectors $ e_1, e_2, \\dots, e_n $.\n",
    "3. Evaluate $ f(e_j) $ for each $ j = 1, 2, \\dots, n $.\n",
    "4. Assemble the results into the columns of a matrix $ A $.\n",
    "\n",
    "$\n",
    "\\textbf{Example: } n = 4, m = 3\n",
    "$\n",
    "\n",
    "For example, let\n",
    "$\n",
    "A = \\begin{pmatrix}\n",
    "1 & 2 & 3 & 4 \\\\\n",
    "0 & -1 & 5 & 2 \\\\\n",
    "2 & 1 & 0 & 7\n",
    "\\end{pmatrix}.\n",
    "$\n",
    "\n",
    "If the only access we have to $ A $ is through a function $ f(x) = A x $, then by evaluating:\n",
    "$\n",
    "f(e_1) = \\begin{pmatrix} 1 \\\\ 0 \\\\ 2 \\end{pmatrix}, \\quad\n",
    "f(e_2) = \\begin{pmatrix} 2 \\\\ {-1} \\\\ 1 \\end{pmatrix}, \\quad\n",
    "f(e_3) = \\begin{pmatrix} 3 \\\\ 5 \\\\ 0 \\end{pmatrix}, \\quad\n",
    "f(e_4) = \\begin{pmatrix} 4 \\\\ 2 \\\\ 7 \\end{pmatrix}.\n",
    "$\n",
    "\n",
    "Thus, reconstructing $ A $:\n",
    "$\n",
    "A = \\bigl[f(e_1) \\mid f(e_2) \\mid f(e_3) \\mid f(e_4)\\bigr]\n",
    "= \\begin{pmatrix}\n",
    "1 & 2 & 3 & 4 \\\\\n",
    "0 & -1 & 5 & 2 \\\\\n",
    "2 & 1 & 0 & 7\n",
    "\\end{pmatrix}.\n",
    "$\n"
   ]
  },
  {
   "cell_type": "code",
   "execution_count": null,
   "metadata": {},
   "outputs": [
    {
     "name": "stderr",
     "output_type": "stream",
     "text": [
      "<>:28: SyntaxWarning: invalid escape sequence '\\R'\n",
      "<>:28: SyntaxWarning: invalid escape sequence '\\R'\n",
      "C:\\Users\\rini\\AppData\\Local\\Temp\\ipykernel_53428\\717103957.py:28: SyntaxWarning: invalid escape sequence '\\R'\n",
      "  display(Math(latex(Identity(4)) + r\"= \" + latex(Matrix.eye(4)) + \"\\Rightarrow \" + \",\".join(e_vectors_str)))\n"
     ]
    },
    {
     "data": {
      "text/latex": [
       "$\\displaystyle A = \\left[\\begin{matrix}1 & 2 & 3 & 4\\\\0 & -1 & 5 & 2\\\\2 & 1 & 0 & 7\\end{matrix}\\right]\\text{(unknown matrix)}$"
      ],
      "text/plain": [
       "<IPython.core.display.Math object>"
      ]
     },
     "metadata": {},
     "output_type": "display_data"
    },
    {
     "data": {
      "text/latex": [
       "$\\displaystyle \\mathbb{I}= \\left[\\begin{matrix}1 & 0 & 0 & 0\\\\0 & 1 & 0 & 0\\\\0 & 0 & 1 & 0\\\\0 & 0 & 0 & 1\\end{matrix}\\right]\\Rightarrow e_{j} = \\left[\\begin{matrix}1\\\\0\\\\0\\\\0\\end{matrix}\\right],e_{j} = \\left[\\begin{matrix}0\\\\1\\\\0\\\\0\\end{matrix}\\right],e_{j} = \\left[\\begin{matrix}0\\\\0\\\\1\\\\0\\end{matrix}\\right],e_{j} = \\left[\\begin{matrix}0\\\\0\\\\0\\\\1\\end{matrix}\\right]$"
      ],
      "text/plain": [
       "<IPython.core.display.Math object>"
      ]
     },
     "metadata": {},
     "output_type": "display_data"
    },
    {
     "data": {
      "text/latex": [
       "$\\displaystyle f(e_{1}) = A e_{1} = \\left[\\begin{matrix}1\\\\0\\\\2\\end{matrix}\\right]$"
      ],
      "text/plain": [
       "<IPython.core.display.Math object>"
      ]
     },
     "metadata": {},
     "output_type": "display_data"
    },
    {
     "data": {
      "text/latex": [
       "$\\displaystyle f(e_{2}) = A e_{2} = \\left[\\begin{matrix}2\\\\-1\\\\1\\end{matrix}\\right]$"
      ],
      "text/plain": [
       "<IPython.core.display.Math object>"
      ]
     },
     "metadata": {},
     "output_type": "display_data"
    },
    {
     "data": {
      "text/latex": [
       "$\\displaystyle f(e_{3}) = A e_{3} = \\left[\\begin{matrix}3\\\\5\\\\0\\end{matrix}\\right]$"
      ],
      "text/plain": [
       "<IPython.core.display.Math object>"
      ]
     },
     "metadata": {},
     "output_type": "display_data"
    },
    {
     "data": {
      "text/latex": [
       "$\\displaystyle f(e_{4}) = A e_{4} = \\left[\\begin{matrix}4\\\\2\\\\7\\end{matrix}\\right]$"
      ],
      "text/plain": [
       "<IPython.core.display.Math object>"
      ]
     },
     "metadata": {},
     "output_type": "display_data"
    },
    {
     "data": {
      "text/latex": [
       "$\\displaystyle A = \\left[\\begin{matrix}1 & 2 & 3 & 4\\\\0 & -1 & 5 & 2\\\\2 & 1 & 0 & 7\\end{matrix}\\right]\\text{(reconstructed)}$"
      ],
      "text/plain": [
       "<IPython.core.display.Math object>"
      ]
     },
     "metadata": {},
     "output_type": "display_data"
    }
   ],
   "source": [
    "# Define dimensions\n",
    "m, n = 3, 4  # for example\n",
    "\n",
    "# Define a specific matrix A (which we pretend we do not know explicitly in practice)\n",
    "A = Matrix([\n",
    "    [1,   2,  3,  4],\n",
    "    [0,  -1,  5,  2],\n",
    "    [2,   1,  0,  7]\n",
    "])\n",
    "\n",
    "# Define the linear mapping f: R^n -> R^m as f(x) = A*x\n",
    "def f(x):\n",
    "    # x is assumed to be an n-dimensional column vector (Sympy Matrix)\n",
    "    return A*x\n",
    "\n",
    "# Display the original A for reference\n",
    "display(Math(r\"A = \" + latex(A) + r\"\\text{(unknown matrix)}\"))\n",
    "\n",
    "# Step-by-step reconstruction:\n",
    "# 1. Construct standard basis vectors e_1, e_2, ..., e_n in R^n\n",
    "e_vectors = []\n",
    "e_vectors_str = []\n",
    "for j in range(n):\n",
    "    # Create a vector of length n with a 1 in the j-th position and 0 elsewhere\n",
    "    e = Matrix([1 if i == j else 0 for i in range(n)])\n",
    "    e_vectors.append(e)\n",
    "    e_vectors_str.append(\"e_{j} = \" + latex(e))\n",
    "display(Math(latex(Identity(4)) + r\"= \" + latex(Matrix.eye(4)) + r\"\\Rightarrow \" + \",\".join(e_vectors_str)))\n",
    "\n",
    "# 2. Apply f to each standard basis vector to get columns of A\n",
    "reconstructed_cols = []\n",
    "for j, e in enumerate(e_vectors, start=1):\n",
    "    fe = f(e)\n",
    "    # Display the calculation: f(e_j)\n",
    "    display(Math(r\"f(e_{%d}) = A e_{%d} = \" % (j, j) + latex(fe)))\n",
    "    reconstructed_cols.append(fe)\n",
    "\n",
    "# 3. Form the reconstructed matrix\n",
    "A_reconstructed = Matrix.hstack(*reconstructed_cols)\n",
    "\n",
    "# Display the reconstructed matrix\n",
    "display(Math(r\"A = \" + latex(A_reconstructed) + r\"\\text{(reconstructed)}\"))"
   ]
  },
  {
   "cell_type": "markdown",
   "metadata": {},
   "source": [
    "# Solution for 2)\n",
    "\n",
    "Given data values $\\{(t_j, \\tilde{y}_j), \\, j = 1, \\ldots, m\\}$, determine a quadratic function:\n",
    "\n",
    "$\\alpha + \\beta t + \\gamma t^2$\n",
    "\n",
    "such that\n",
    "\n",
    "$\\phi(\\alpha, \\beta, \\gamma) = \\dots$\n",
    "\n",
    "is minimized in the least-squares sense. Details are intentionally not specified here. \n",
    "\n",
    "Your task is to implement this and solve a specific example. \n",
    "\n",
    "This task is analogous to the problem of determining the \"best fit line\" (with only two parameters $\\alpha, \\beta$ to be determined). \n",
    "\n",
    "Notation as in the lecture notes, particularly regarding the function $\\phi$ to be minimized.\n",
    "\n",
    "This task leads to a linear $3 \\times 3$ system (Gaussian normal equations, see the lecture notes). \n",
    "\n",
    "Solve this system using an elimination method, e.g., by hand or using available numerical software, most easily Matlab (see Exercise 8)."
   ]
  },
  {
   "cell_type": "markdown",
   "metadata": {},
   "source": [
    "$\n",
    "\\textbf{Step 1: Problem Setup}\n",
    "$\n",
    "\n",
    "We are given data points $(t_j, \\tilde{y}_j)$ for $j = 1, \\ldots, m$.\n",
    "\n",
    "We seek parameters $\\alpha, \\beta, \\gamma \\in \\mathbb{R}$ such that the quadratic model\n",
    "$$\n",
    "y(t) = \\alpha + \\beta t + \\gamma t^2\n",
    "$$\n",
    "best fits the data in a least-squares sense. This means minimizing the objective function:\n",
    "$$\n",
    "\\phi(\\alpha, \\beta, \\gamma) = \\sum_{j=1}^m \\bigl(\\tilde{y}_j - (\\alpha + \\beta t_j + \\gamma t_j^2)\\bigr)^2.\n",
    "$$\n",
    "\n",
    "$\n",
    "\\textbf{Step 2: Matrix Representation}\n",
    "$\n",
    "\n",
    "The quadratic model for the $j$-th data point can be expressed as:\n",
    "$$\n",
    "\\tilde{y}_j = \\alpha + \\beta t_j + \\gamma t_j^2.\n",
    "$$\n",
    "\n",
    "Writing this for all data points, we obtain the system of equations:\n",
    "$$\n",
    "\\begin{aligned}\n",
    "\\tilde{y}_1 &= \\alpha + \\beta t_1 + \\gamma t_1^2, \\\\\n",
    "\\tilde{y}_2 &= \\alpha + \\beta t_2 + \\gamma t_2^2, \\\\\n",
    "&\\vdots \\\\\n",
    "\\tilde{y}_m &= \\alpha + \\beta t_m + \\gamma t_m^2.\n",
    "\\end{aligned}\n",
    "$$\n",
    "\n",
    "Rewriting this system in matrix form, we define:\n",
    "$$\n",
    "A =\n",
    "\\begin{pmatrix}\n",
    "1 & t_1 & t_1^2 \\\\\n",
    "1 & t_2 & t_2^2 \\\\\n",
    "\\vdots & \\vdots & \\vdots \\\\\n",
    "1 & t_m & t_m^2\n",
    "\\end{pmatrix} \\in \\mathbb{R}^{m \\times 3},\n",
    "\\quad\n",
    "x =\n",
    "\\begin{pmatrix}\n",
    "\\alpha \\\\\n",
    "\\beta \\\\\n",
    "\\gamma\n",
    "\\end{pmatrix},\n",
    "\\quad\n",
    "\\tilde{y} =\n",
    "\\begin{pmatrix}\n",
    "\\tilde{y}_1 \\\\\n",
    "\\tilde{y}_2 \\\\\n",
    "\\vdots \\\\\n",
    "\\tilde{y}_m\n",
    "\\end{pmatrix}.\n",
    "$$\n",
    "\n",
    "This gives the linear system:\n",
    "$$\n",
    "A x = \\tilde{y}.\n",
    "$$\n",
    "\n",
    "$\n",
    "\\textbf{Step 3: Least Squares Solution}\n",
    "$\n",
    "\n",
    "To find the best-fit parameters $\\alpha, \\beta, \\gamma$, we minimize the residual:\n",
    "$$\n",
    "r = \\tilde{y} - A x,\n",
    "$$\n",
    "and the least-squares objective function:\n",
    "$$\n",
    "\\phi(x) = \\|r\\|^2 = \\| \\tilde{y} - A x \\|^2.\n",
    "$$\n",
    "\n",
    "The solution is obtained by solving the **normal equations**:\n",
    "$$\n",
    "A^T A x = A^T \\tilde{y}.\n",
    "$$\n",
    "\n",
    "This is a system of three linear equations in three unknowns, which can be solved using standard methods such as Gaussian elimination.\n",
    "\n",
    "$\n",
    "\\textbf{Step 4: Normal Equations in Matrix Form}\n",
    "$\n",
    "\n",
    "In matrix form, let:\n",
    "$$\n",
    "S_0 = \\sum_{j=1}^m 1 = m,\\quad\n",
    "S_1 = \\sum_{j=1}^m t_j,\\quad\n",
    "S_2 = \\sum_{j=1}^m t_j^2,\\quad\n",
    "S_3 = \\sum_{j=1}^m t_j^3,\\quad\n",
    "S_4 = \\sum_{j=1}^m t_j^4,\n",
    "$$\n",
    "\n",
    "and\n",
    "$$\n",
    "T_0 = \\sum_{j=1}^m \\tilde{y}*j,\\quad\n",
    "T_1 = \\sum*{j=1}^m t_j \\tilde{y}*j,\\quad\n",
    "T_2 = \\sum*{j=1}^m t_j^2 \\tilde{y}_j.\n",
    "$$\n",
    "\n",
    "The matrix $A^T A$ is:\n",
    "$$\n",
    "A^T A =\n",
    "\\begin{pmatrix}\n",
    "S_0 & S_1 & S_2 \\\\\n",
    "S_1 & S_2 & S_3 \\\\\n",
    "S_2 & S_3 & S_4\n",
    "\\end{pmatrix}\n",
    "=\n",
    "\\begin{pmatrix}\n",
    "m & \\sum_{j=1}^m t_j & \\sum_{j=1}^m t_j^2 \\\\\n",
    "\\sum_{j=1}^m t_j & \\sum_{j=1}^m t_j^2 & \\sum_{j=1}^m t_j^3 \\\\\n",
    "\\sum_{j=1}^m t_j^2 & \\sum_{j=1}^m t_j^3 & \\sum_{j=1}^m t_j^4\n",
    "\\end{pmatrix}.\n",
    "$$\n",
    "\n",
    "The right-hand side $A^T \\tilde{y}$ is:\n",
    "$$\n",
    "A^T \\tilde{y} =\n",
    "\\begin{pmatrix}\n",
    "T_0 \\\\ T_1 \\\\ T_2\n",
    "\\end{pmatrix}\n",
    "=\n",
    "\\begin{pmatrix}\n",
    "\\sum_{j=1}^m \\tilde{y}_j \\\\\n",
    "\\sum_{j=1}^m t_j \\tilde{y}_j \\\\\n",
    "\\sum_{j=1}^m t_j^2 \\tilde{y}_j\n",
    "\\end{pmatrix}.\n",
    "$$\n",
    "\n",
    "This gives the normal equations in full:\n",
    "$$\n",
    "\\begin{pmatrix}\n",
    "S_0 & S_1 & S_2 \\\\\n",
    "S_1 & S_2 & S_3 \\\\\n",
    "S_2 & S_3 & S_4\n",
    "\\end{pmatrix}\n",
    "\\begin{pmatrix}\n",
    "\\alpha \\\\ \\beta \\\\ \\gamma\n",
    "\\end{pmatrix}\n",
    "=\n",
    "\\begin{pmatrix}\n",
    "T_0 \\\\ T_1 \\\\ T_2\n",
    "\\end{pmatrix}\n",
    "\\Rightarrow\n",
    "\\begin{pmatrix}\n",
    "\\sum_{j=1}^m 1 & \\sum_{j=1}^m t_j & \\sum_{j=1}^m t_j^2 \\\\\n",
    "\\sum_{j=1}^m t_j & \\sum_{j=1}^m t_j^2 & \\sum_{j=1}^m t_j^3 \\\\\n",
    "\\sum_{j=1}^m t_j^2 & \\sum_{j=1}^m t_j^3 & \\sum_{j=1}^m t_j^4\n",
    "\\end{pmatrix}\n",
    "\\begin{pmatrix}\n",
    "\\alpha \\\\\n",
    "\\beta \\\\\n",
    "\\gamma\n",
    "\\end{pmatrix}\n",
    "=\n",
    "\\begin{pmatrix}\n",
    "\\sum_{j=1}^m \\tilde{y}_j \\\\\n",
    "\\sum_{j=1}^m t_j \\tilde{y}_j \\\\\n",
    "\\sum_{j=1}^m t_j^2 \\tilde{y}_j\n",
    "\\end{pmatrix}.\n",
    "$$\n",
    "\n",
    "$\n",
    "\\textbf{Step 5: Solution}\n",
    "$\n",
    "\n",
    "By solving this system, we obtain the parameters $\\alpha, \\beta, \\gamma$ that best fit the given data points in the least-squares sense."
   ]
  },
  {
   "cell_type": "markdown",
   "metadata": {},
   "source": [
    "----\n",
    "\n",
    "# Solution for 2) (continued)\n",
    "\n",
    "Moving on, we will look at the implementation of the above formula in Python, given the data points $(t_j, \\tilde{y}_j)$."
   ]
  },
  {
   "cell_type": "code",
   "execution_count": 5,
   "metadata": {},
   "outputs": [
    {
     "data": {
      "text/latex": [
       "$\\displaystyle \\text{Data: }\\left[\\begin{matrix}0 & 1\\\\1 & 2\\\\2 & 0\\\\3 & 2\\\\4 & 5\\end{matrix}\\right]$"
      ],
      "text/plain": [
       "<IPython.core.display.Math object>"
      ]
     },
     "metadata": {},
     "output_type": "display_data"
    },
    {
     "data": {
      "text/latex": [
       "$\\displaystyle \\text{Sums: }\\left[\\begin{matrix}S_{0} & S_{1} & S_{2}\\\\S_{1} & S_{2} & S_{3}\\\\S_{2} & S_{3} & S_{4}\\end{matrix}\\right]=\\left[\\begin{matrix}5 & 10 & 30\\\\10 & 30 & 100\\\\30 & 100 & 354\\end{matrix}\\right]\\text{ and }\\left[\\begin{matrix}T_{0}\\\\T_{1}\\\\T_{2}\\end{matrix}\\right]=\\left[\\begin{matrix}10\\\\28\\\\100\\end{matrix}\\right]$"
      ],
      "text/plain": [
       "<IPython.core.display.Math object>"
      ]
     },
     "metadata": {},
     "output_type": "display_data"
    },
    {
     "data": {
      "text/latex": [
       "$\\displaystyle \\text{Normal Equations: }\\left[\\begin{matrix}5 & 10 & 30\\\\10 & 30 & 100\\\\30 & 100 & 354\\end{matrix}\\right]\\cdot\\left[\\begin{matrix}\\alpha\\\\\\beta\\\\\\gamma\\end{matrix}\\right]=\\left[\\begin{matrix}10\\\\28\\\\100\\end{matrix}\\right]$"
      ],
      "text/plain": [
       "<IPython.core.display.Math object>"
      ]
     },
     "metadata": {},
     "output_type": "display_data"
    },
    {
     "data": {
      "text/latex": [
       "$\\displaystyle A^T A\\text{ augmented with }A^T\\tilde{y}:\\left[\\begin{matrix}5 & 10 & 30 & 10\\\\10 & 30 & 100 & 28\\\\30 & 100 & 354 & 100\\end{matrix}\\right]$"
      ],
      "text/plain": [
       "<IPython.core.display.Math object>"
      ]
     },
     "metadata": {},
     "output_type": "display_data"
    }
   ],
   "source": [
    "# Given data points (t_j, y_j)\n",
    "data = [(0,1),(1,2),(2,0),(3,2),(4,5)]\n",
    "\n",
    "# Extract t_j and y_j arrays\n",
    "t_vals = [p[0] for p in data]\n",
    "y_vals = [p[1] for p in data]\n",
    "\n",
    "# Compute sums\n",
    "m = len(data)\n",
    "S0 = m\n",
    "S1 = sum(t_vals)\n",
    "S2 = sum(t**2 for t in t_vals)\n",
    "S3 = sum(t**3 for t in t_vals)\n",
    "S4 = sum(t**4 for t in t_vals)\n",
    "\n",
    "T0 = sum(y_vals)\n",
    "T1 = sum(t*y for t,y in data)\n",
    "T2 = sum((t**2)*y for t,y in data)\n",
    "\n",
    "# Construct the normal equation system\n",
    "S_0, S_1, S_2, S_3, S_4 = symbols('S_0 S_1 S_2 S_3 S_4', real=True)\n",
    "T_0, T_1, T_2 = symbols('T_0 T_1 T_2', real=True)\n",
    "A_sym = Matrix([\n",
    "    [S_0, S_1, S_2],\n",
    "    [S_1, S_2, S_3],\n",
    "    [S_2, S_3, S_4]\n",
    "])\n",
    "b_sym = Matrix([T_0, T_1, T_2])\n",
    "A = Matrix([\n",
    "    [S0, S1, S2],\n",
    "    [S1, S2, S3],\n",
    "    [S2, S3, S4]\n",
    "])\n",
    "b = Matrix([T0, T1, T2])\n",
    "A_augmented = A.row_join(b)\n",
    "# Solve the system A*[alpha;beta;gamma]=b\n",
    "alpha, beta, gamma = symbols('alpha beta gamma', real=True)\n",
    "unknowns = Matrix([alpha, beta, gamma])\n",
    "\n",
    "# Display the normal equations and solution in LaTeX\n",
    "display(Math(r\"\\text{Data: }\" + latex(Matrix(data))))\n",
    "display(Math(r\"\\text{Sums: }\" + latex(A_sym) + \"=\" + latex(A) + r\"\\text{ and }\" + latex(b_sym) + \"=\" + latex(b)))\n",
    "display(Math(r\"\\text{Normal Equations: }\" + \n",
    "             latex(A) + r\"\\cdot\" + latex(unknowns) + \"=\" + latex(b)))\n",
    "display(Math(r\"A^T A\\text{ augmented with }A^T\\tilde{y}:\" + latex(A_augmented)))"
   ]
  },
  {
   "cell_type": "code",
   "execution_count": 6,
   "metadata": {},
   "outputs": [
    {
     "data": {
      "text/latex": [
       "$\\displaystyle \\text{Expected Solution: }\\left[\\begin{matrix}\\alpha\\\\\\beta\\\\\\gamma\\end{matrix}\\right]=\\left[\\begin{matrix}\\frac{54}{35}\\\\- \\frac{52}{35}\\\\\\frac{4}{7}\\end{matrix}\\right]$"
      ],
      "text/plain": [
       "<IPython.core.display.Math object>"
      ]
     },
     "metadata": {},
     "output_type": "display_data"
    }
   ],
   "source": [
    "# Library solution\n",
    "expected_solution = A.LUsolve(b)\n",
    "alpha_sol, beta_sol, gamma_sol = expected_solution\n",
    "display(Math(r\"\\text{Expected Solution: }\" + latex(unknowns) + \"=\" + latex(expected_solution)))"
   ]
  },
  {
   "cell_type": "code",
   "execution_count": 7,
   "metadata": {},
   "outputs": [],
   "source": [
    "def print_matrix(mat_before, mat_after, operation=\"\", calculations=\"\", explanation=\"\"):\n",
    "    \"\"\"Display the matrix with detailed operation messages in LaTeX format.\"\"\"\n",
    "    msg = r\" \\begin{aligned}\"\n",
    "    if explanation:\n",
    "        msg += r\"& \\text\" + f\"{{{explanation}}}\" + r\" \\\\\"\n",
    "    msg += r\"A &= \" + latex(mat_before) + r\"\\Rightarrow\" + latex(mat_after) + r\"\\\\\"\n",
    "    if operation:\n",
    "        msg += r\" \\text{Operation } & \" + operation + r\" \\\\\"\n",
    "    if calculations:\n",
    "        msg += r\" \\text{Calculation: } & \" + calculations + r\" \\\\\"\n",
    "    msg += r\" \\end{aligned} \"\n",
    "    display(Math(msg))\n",
    "\n",
    "def swap_rows_for_pivot(mat, pivot_row, pivot_col):\n",
    "    \"\"\"\n",
    "    Ensure the pivot at (pivot_row, pivot_col) is nonzero by swapping rows if needed.\n",
    "\n",
    "    Returns True if a swap was made or pivot was found, False if no pivot found.\n",
    "    \"\"\"\n",
    "    mat_before = mat.copy()\n",
    "    if mat[pivot_row, pivot_col] == 0:\n",
    "        for i in range(pivot_row + 1, mat.rows):\n",
    "            if mat[i, pivot_col] != 0:\n",
    "                mat.row_swap(pivot_row, i)\n",
    "                print_matrix(mat_before, mat, f\"R_{pivot_row + 1} \\\\leftrightarrow R_{i + 1}\", \n",
    "                             f\"Swap rows {pivot_row + 1} and {i + 1}\", \n",
    "                             \"Swapping rows to ensure a nonzero pivot.\")\n",
    "                return True\n",
    "        return False\n",
    "    return True\n",
    "\n",
    "def normalize_pivot_row(mat, pivot_row, pivot_col):\n",
    "    \"\"\"Normalize the pivot row so that the pivot element becomes 1.\"\"\"\n",
    "    pivot = mat[pivot_row, pivot_col]\n",
    "    mat_before = mat.copy()\n",
    "    if pivot != 0:\n",
    "        calculations = f\"R_{pivot_row + 1} : \" r\"\\frac{R_\" + f\"{pivot_row + 1}\" + r\"}\" + r\"{\" +latex(pivot) + r\"}\"\n",
    "        cell_calculations = [f\"\\\\frac{{{latex(cell)}}}{{{pivot}}} = {latex(cell / pivot)}\" for cell in mat.row(pivot_row)]\n",
    "        cell_calculations = \"; \".join(cell_calculations)\n",
    "        mat.row_op(pivot_row, lambda v, j: v / pivot)\n",
    "        print_matrix(mat_before, mat, calculations, \n",
    "                     cell_calculations, \n",
    "                     \"Normalize pivot row.\")\n",
    "    else:\n",
    "        raise ValueError(\"Pivot is zero; cannot normalize.\")\n",
    "\n",
    "def eliminate_column_entries(mat, pivot_row, pivot_col, eliminate_above=False):\n",
    "    \"\"\"\n",
    "    Eliminate entries in the pivot_col for all rows below (or above) the pivot_row.\n",
    "    If eliminate_above=False, eliminates entries in rows below pivot_row.\n",
    "    If eliminate_above=True, eliminates entries in rows above pivot_row.\n",
    "    \"\"\"\n",
    "    direction = \"above\" if eliminate_above else \"below\"\n",
    "    row_range = range(pivot_row - 1, -1, -1) if eliminate_above else range(pivot_row + 1, mat.rows)\n",
    "    mat_before = mat.copy()\n",
    "    for i in row_range:\n",
    "        factor = mat[i, pivot_col]\n",
    "        original_row = mat.row(i).copy()\n",
    "        mat.row_op(i, lambda v, j: v - factor * mat[pivot_row, j])\n",
    "        modified_row = mat.row(i)\n",
    "        calculations = f\"R_{i + 1} : (R_{i + 1} - ({latex(factor)} \\\\cdot R_{pivot_row + 1})\"\n",
    "        \n",
    "        cell_calculations = []\n",
    "        for j in range(mat.cols):\n",
    "            cell_calculations.append(f\"{latex(original_row[j])} - {factor} \\\\cdot {latex(mat[pivot_row, j])} = {latex(modified_row[j])}\")\n",
    "        \n",
    "        cell_explanation = \"; \".join([f\"({calc})\" for calc in cell_calculations])\n",
    "        print_matrix(mat_before, mat, calculations, cell_explanation, f\"Eliminating entries {direction} the pivot.\")\n",
    "        \n",
    "def reduce_to_rref(mat):\n",
    "    \"\"\"Reduce the augmented matrix mat to RREF (reduced-row-echelon-form) by:\n",
    "    \n",
    "    1. Finding pivots and swapping rows if necessary.\n",
    "    2. Normalizing pivot rows.\n",
    "    3. Eliminating below and above pivots.\"\"\"\n",
    "    num_pivots = min(mat.rows, mat.cols - 1)  # for augmented matrix, last col is b\n",
    "\n",
    "    # Forward elimination\n",
    "    for pivot_index in range(num_pivots):\n",
    "        # Ensure a nonzero pivot\n",
    "        if not swap_rows_for_pivot(mat, pivot_index, pivot_index):\n",
    "            raise ValueError(\"No suitable pivot found. System may be singular.\")\n",
    "        \n",
    "        # Normalize the pivot row\n",
    "        normalize_pivot_row(mat, pivot_index, pivot_index)\n",
    "        \n",
    "        # Eliminate below the pivot\n",
    "        eliminate_column_entries(mat, pivot_index, pivot_index, eliminate_above=False)\n",
    "    \n",
    "    # Back substitution (eliminate above pivots)\n",
    "    for pivot_index in range(num_pivots - 1, -1, -1):\n",
    "        eliminate_column_entries(mat, pivot_index, pivot_index, eliminate_above=True)\n",
    "\n",
    "    return mat"
   ]
  },
  {
   "cell_type": "code",
   "execution_count": 8,
   "metadata": {},
   "outputs": [
    {
     "data": {
      "text/latex": [
       "$\\displaystyle  \\begin{aligned}& \\text{Normalize pivot row.} \\\\A &= \\left[\\begin{matrix}5 & 10 & 30 & 10\\\\10 & 30 & 100 & 28\\\\30 & 100 & 354 & 100\\end{matrix}\\right]\\Rightarrow\\left[\\begin{matrix}1 & 2 & 6 & 2\\\\10 & 30 & 100 & 28\\\\30 & 100 & 354 & 100\\end{matrix}\\right]\\\\ \\text{Operation } & R_1 : \\frac{R_1}{5} \\\\ \\text{Calculation: } & \\frac{5}{5} = 1; \\frac{10}{5} = 2; \\frac{30}{5} = 6; \\frac{10}{5} = 2 \\\\ \\end{aligned} $"
      ],
      "text/plain": [
       "<IPython.core.display.Math object>"
      ]
     },
     "metadata": {},
     "output_type": "display_data"
    },
    {
     "data": {
      "text/latex": [
       "$\\displaystyle  \\begin{aligned}& \\text{Eliminating entries below the pivot.} \\\\A &= \\left[\\begin{matrix}1 & 2 & 6 & 2\\\\10 & 30 & 100 & 28\\\\30 & 100 & 354 & 100\\end{matrix}\\right]\\Rightarrow\\left[\\begin{matrix}1 & 2 & 6 & 2\\\\0 & 10 & 40 & 8\\\\30 & 100 & 354 & 100\\end{matrix}\\right]\\\\ \\text{Operation } & R_2 : (R_2 - (10 \\cdot R_1) \\\\ \\text{Calculation: } & (10 - 10 \\cdot 1 = 0); (30 - 10 \\cdot 2 = 10); (100 - 10 \\cdot 6 = 40); (28 - 10 \\cdot 2 = 8) \\\\ \\end{aligned} $"
      ],
      "text/plain": [
       "<IPython.core.display.Math object>"
      ]
     },
     "metadata": {},
     "output_type": "display_data"
    },
    {
     "data": {
      "text/latex": [
       "$\\displaystyle  \\begin{aligned}& \\text{Eliminating entries below the pivot.} \\\\A &= \\left[\\begin{matrix}1 & 2 & 6 & 2\\\\10 & 30 & 100 & 28\\\\30 & 100 & 354 & 100\\end{matrix}\\right]\\Rightarrow\\left[\\begin{matrix}1 & 2 & 6 & 2\\\\0 & 10 & 40 & 8\\\\0 & 40 & 174 & 40\\end{matrix}\\right]\\\\ \\text{Operation } & R_3 : (R_3 - (30 \\cdot R_1) \\\\ \\text{Calculation: } & (30 - 30 \\cdot 1 = 0); (100 - 30 \\cdot 2 = 40); (354 - 30 \\cdot 6 = 174); (100 - 30 \\cdot 2 = 40) \\\\ \\end{aligned} $"
      ],
      "text/plain": [
       "<IPython.core.display.Math object>"
      ]
     },
     "metadata": {},
     "output_type": "display_data"
    },
    {
     "data": {
      "text/latex": [
       "$\\displaystyle  \\begin{aligned}& \\text{Normalize pivot row.} \\\\A &= \\left[\\begin{matrix}1 & 2 & 6 & 2\\\\0 & 10 & 40 & 8\\\\0 & 40 & 174 & 40\\end{matrix}\\right]\\Rightarrow\\left[\\begin{matrix}1 & 2 & 6 & 2\\\\0 & 1 & 4 & \\frac{4}{5}\\\\0 & 40 & 174 & 40\\end{matrix}\\right]\\\\ \\text{Operation } & R_2 : \\frac{R_2}{10} \\\\ \\text{Calculation: } & \\frac{0}{10} = 0; \\frac{10}{10} = 1; \\frac{40}{10} = 4; \\frac{8}{10} = \\frac{4}{5} \\\\ \\end{aligned} $"
      ],
      "text/plain": [
       "<IPython.core.display.Math object>"
      ]
     },
     "metadata": {},
     "output_type": "display_data"
    },
    {
     "data": {
      "text/latex": [
       "$\\displaystyle  \\begin{aligned}& \\text{Eliminating entries below the pivot.} \\\\A &= \\left[\\begin{matrix}1 & 2 & 6 & 2\\\\0 & 1 & 4 & \\frac{4}{5}\\\\0 & 40 & 174 & 40\\end{matrix}\\right]\\Rightarrow\\left[\\begin{matrix}1 & 2 & 6 & 2\\\\0 & 1 & 4 & \\frac{4}{5}\\\\0 & 0 & 14 & 8\\end{matrix}\\right]\\\\ \\text{Operation } & R_3 : (R_3 - (40 \\cdot R_2) \\\\ \\text{Calculation: } & (0 - 40 \\cdot 0 = 0); (40 - 40 \\cdot 1 = 0); (174 - 40 \\cdot 4 = 14); (40 - 40 \\cdot \\frac{4}{5} = 8) \\\\ \\end{aligned} $"
      ],
      "text/plain": [
       "<IPython.core.display.Math object>"
      ]
     },
     "metadata": {},
     "output_type": "display_data"
    },
    {
     "data": {
      "text/latex": [
       "$\\displaystyle  \\begin{aligned}& \\text{Normalize pivot row.} \\\\A &= \\left[\\begin{matrix}1 & 2 & 6 & 2\\\\0 & 1 & 4 & \\frac{4}{5}\\\\0 & 0 & 14 & 8\\end{matrix}\\right]\\Rightarrow\\left[\\begin{matrix}1 & 2 & 6 & 2\\\\0 & 1 & 4 & \\frac{4}{5}\\\\0 & 0 & 1 & \\frac{4}{7}\\end{matrix}\\right]\\\\ \\text{Operation } & R_3 : \\frac{R_3}{14} \\\\ \\text{Calculation: } & \\frac{0}{14} = 0; \\frac{0}{14} = 0; \\frac{14}{14} = 1; \\frac{8}{14} = \\frac{4}{7} \\\\ \\end{aligned} $"
      ],
      "text/plain": [
       "<IPython.core.display.Math object>"
      ]
     },
     "metadata": {},
     "output_type": "display_data"
    },
    {
     "data": {
      "text/latex": [
       "$\\displaystyle  \\begin{aligned}& \\text{Eliminating entries above the pivot.} \\\\A &= \\left[\\begin{matrix}1 & 2 & 6 & 2\\\\0 & 1 & 4 & \\frac{4}{5}\\\\0 & 0 & 1 & \\frac{4}{7}\\end{matrix}\\right]\\Rightarrow\\left[\\begin{matrix}1 & 2 & 6 & 2\\\\0 & 1 & 0 & - \\frac{52}{35}\\\\0 & 0 & 1 & \\frac{4}{7}\\end{matrix}\\right]\\\\ \\text{Operation } & R_2 : (R_2 - (4 \\cdot R_3) \\\\ \\text{Calculation: } & (0 - 4 \\cdot 0 = 0); (1 - 4 \\cdot 0 = 1); (4 - 4 \\cdot 1 = 0); (\\frac{4}{5} - 4 \\cdot \\frac{4}{7} = - \\frac{52}{35}) \\\\ \\end{aligned} $"
      ],
      "text/plain": [
       "<IPython.core.display.Math object>"
      ]
     },
     "metadata": {},
     "output_type": "display_data"
    },
    {
     "data": {
      "text/latex": [
       "$\\displaystyle  \\begin{aligned}& \\text{Eliminating entries above the pivot.} \\\\A &= \\left[\\begin{matrix}1 & 2 & 6 & 2\\\\0 & 1 & 4 & \\frac{4}{5}\\\\0 & 0 & 1 & \\frac{4}{7}\\end{matrix}\\right]\\Rightarrow\\left[\\begin{matrix}1 & 2 & 0 & - \\frac{10}{7}\\\\0 & 1 & 0 & - \\frac{52}{35}\\\\0 & 0 & 1 & \\frac{4}{7}\\end{matrix}\\right]\\\\ \\text{Operation } & R_1 : (R_1 - (6 \\cdot R_3) \\\\ \\text{Calculation: } & (1 - 6 \\cdot 0 = 1); (2 - 6 \\cdot 0 = 2); (6 - 6 \\cdot 1 = 0); (2 - 6 \\cdot \\frac{4}{7} = - \\frac{10}{7}) \\\\ \\end{aligned} $"
      ],
      "text/plain": [
       "<IPython.core.display.Math object>"
      ]
     },
     "metadata": {},
     "output_type": "display_data"
    },
    {
     "data": {
      "text/latex": [
       "$\\displaystyle  \\begin{aligned}& \\text{Eliminating entries above the pivot.} \\\\A &= \\left[\\begin{matrix}1 & 2 & 0 & - \\frac{10}{7}\\\\0 & 1 & 0 & - \\frac{52}{35}\\\\0 & 0 & 1 & \\frac{4}{7}\\end{matrix}\\right]\\Rightarrow\\left[\\begin{matrix}1 & 0 & 0 & \\frac{54}{35}\\\\0 & 1 & 0 & - \\frac{52}{35}\\\\0 & 0 & 1 & \\frac{4}{7}\\end{matrix}\\right]\\\\ \\text{Operation } & R_1 : (R_1 - (2 \\cdot R_2) \\\\ \\text{Calculation: } & (1 - 2 \\cdot 0 = 1); (2 - 2 \\cdot 1 = 0); (0 - 2 \\cdot 0 = 0); (- \\frac{10}{7} - 2 \\cdot - \\frac{52}{35} = \\frac{54}{35}) \\\\ \\end{aligned} $"
      ],
      "text/plain": [
       "<IPython.core.display.Math object>"
      ]
     },
     "metadata": {},
     "output_type": "display_data"
    },
    {
     "data": {
      "text/latex": [
       "$\\displaystyle \\Rightarrow \\alpha = \\frac{54}{35}\\approx1.54285714285714, \\quad \\beta = - \\frac{52}{35}\\approx-1.48571428571429, \\quad \\gamma = \\frac{4}{7}\\approx0.571428571428571$"
      ],
      "text/plain": [
       "<IPython.core.display.Math object>"
      ]
     },
     "metadata": {},
     "output_type": "display_data"
    }
   ],
   "source": [
    "# Perform the Gaussian elimination process\n",
    "rref = reduce_to_rref(A_augmented.copy())\n",
    "\n",
    "# Extract the solution: [alpha; beta; gamma]\n",
    "alpha_sol = rref[0, 3]\n",
    "beta_sol = rref[1, 3]\n",
    "gamma_sol = rref[2, 3]\n",
    "display(Math(r\"\\Rightarrow \\alpha = \" + latex(alpha_sol) + f\"\\\\approx{alpha_sol.evalf()}\" \n",
    "             + r\", \\quad \\beta = \" + latex(beta_sol) + f\"\\\\approx{beta_sol.evalf()}\" \n",
    "             + r\", \\quad \\gamma = \" + latex(gamma_sol) + f\"\\\\approx{gamma_sol.evalf()}\"))"
   ]
  },
  {
   "cell_type": "markdown",
   "metadata": {},
   "source": [
    "# Solution for 3)\n",
    "\n",
    "Also, create a graphical visualization of your solution."
   ]
  },
  {
   "cell_type": "code",
   "execution_count": 9,
   "metadata": {},
   "outputs": [
    {
     "data": {
      "image/png": "[encoded data removed]",
      "text/plain": [
       "<Figure size 640x480 with 1 Axes>"
      ]
     },
     "metadata": {},
     "output_type": "display_data"
    }
   ],
   "source": [
    "# Define the quadratic function using the solved coefficients\n",
    "t = symbols('t')\n",
    "quadratic_func = alpha_sol + beta_sol * t + gamma_sol * t**2\n",
    "\n",
    "# Convert the sympy expression to a Python function for plotting\n",
    "quadratic_func_lambdified = lambdify(t, quadratic_func, 'numpy')\n",
    "\n",
    "# Generate data for the quadratic function\n",
    "t_vals_plot = np.linspace(min(t_vals) - 1, max(t_vals) + 1, 500)  # Create a range for t\n",
    "y_vals_plot = quadratic_func_lambdified(t_vals_plot)  # Evaluate the quadratic function\n",
    "\n",
    "# Plot the original data points\n",
    "plt.scatter(t_vals, y_vals, color='red', label='Original Data Points', zorder=5)\n",
    "\n",
    "# Plot the quadratic function\n",
    "plt.plot(t_vals_plot, y_vals_plot, color='blue', label=f'Quadratic Fit: $y = {latex(quadratic_func)}$')\n",
    "\n",
    "# Add labels, legend, and title\n",
    "plt.xlabel('t')\n",
    "plt.ylabel('y')\n",
    "plt.title('Quadratic Fit vs Original Data')\n",
    "plt.legend()\n",
    "plt.grid(True)\n",
    "\n",
    "# Show the plot\n",
    "plt.show()\n"
   ]
  }
 ],
 "metadata": {
  "kernelspec": {
   "display_name": ".venv",
   "language": "python",
   "name": "python3"
  },
  "language_info": {
   "codemirror_mode": {
    "name": "ipython",
    "version": 3
   },
   "file_extension": ".py",
   "mimetype": "text/x-python",
   "name": "python",
   "nbconvert_exporter": "python",
   "pygments_lexer": "ipython3",
   "version": "3.12.0"
  }
 },
 "nbformat": 4,
 "nbformat_minor": 2
}
