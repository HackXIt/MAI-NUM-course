{
 "cells": [
  {
   "cell_type": "markdown",
   "metadata": {},
   "source": [
    "# Exercise A-5: Incomplete data\n",
    "\n",
    "In applications such as machine learning, the task often involves filling in incomplete (missing) entries in a data matrix in such a way that certain desired properties are obtained. \n",
    "\n",
    "Here, we consider a simpler problem: \n",
    "\n",
    "Let a vector \n",
    "\n",
    "$$\n",
    "[\n",
    "\\mathbf{x} = (x_1, x_2, \\ldots, x_n)^T \\in \\mathbb{R}^n\n",
    "]\n",
    "$$\n",
    "\n",
    "be given. The components $(x_1)$ and $(x_n)$ are numerically provided, but some $(m)$ of the remaining coefficients $(x_2, \\ldots, x_{n-1})$ are unknown (where $(1 \\leq m \\leq n - 2)$).\n",
    "\n",
    "We now aim to determine these remaining coefficients so that the vector $(\\mathbf{x})$ appears as \"smooth\" as possible, i.e., the expression \n",
    "\n",
    "$$\n",
    "[\n",
    "\\sum_{j=2}^{n-1} \\left(x_{j-1} - 2x_j + x_{j+1}\\right)^2\n",
    "]\n",
    "$$\n",
    "\n",
    "should be as small as possible. (The terms $(x_{j-1} - 2x_j + x_{j+1})$ correspond to a discrete approximation to the second derivative.)\n",
    "\n",
    "If $(m)$ coefficients $(x_j)$ are unknown, then this expression is a function of the corresponding $(m)$ variables.\n",
    "\n",
    "The necessary condition for minimizing this expression is that the partial derivatives with respect to all these variables must be zero.\n",
    "\n",
    "### Sub-Tasks:\n",
    "\n",
    "1. **Show:** This condition leads to a linear system of equations for the corresponding variables ($(m)$ equations with $(m)$ unknowns).\n",
    "\n",
    "(It can be shown that the solution of this system of equations indeed yields the minimum.)\n",
    "\n",
    "What form does this system of equations have?\n",
    "\n",
    "2. **Assume** $(m = n - 2)$ (all internal coefficients are unknown).\n",
    "\n",
    "Find out (without computing) what the solution looks like in this case.\n",
    "\n",
    "3. **Implement** the solution to this system of equations, for simplicity assuming $(n)$ is odd and the unknown coefficients are $(x_2, x_4, \\ldots, x_{n-1})$ (the other coefficients are known and numerically provided).\n",
    "\n",
    "4. **Document** your approach, including some specific test cases with visualization of the solution profile.\n"
   ]
  },
  {
   "cell_type": "code",
   "execution_count": 23,
   "metadata": {},
   "outputs": [],
   "source": [
    "# Imports\n",
    "import numpy as np\n",
    "import matplotlib.pyplot as plt\n",
    "from sympy import Matrix, init_printing, symbols, latex, det, Function, Sum, diff, Eq, simplify, solve\n",
    "from sympy.abc import A\n",
    "from IPython.display import display, Math"
   ]
  },
  {
   "cell_type": "code",
   "execution_count": 24,
   "metadata": {},
   "outputs": [],
   "source": [
    "# Pre-requisites for pretty printing\n",
    "init_printing()"
   ]
  },
  {
   "cell_type": "code",
   "execution_count": 25,
   "metadata": {},
   "outputs": [],
   "source": [
    "# Function to format matrices dynamically for LaTeX\n",
    "def format_matrix(name, matrix):\n",
    "    return f\"{name} = \" + latex(matrix)\n",
    "# Function to format determinants dynamically for LaTeX\n",
    "def format_determinant(name, determinant):\n",
    "    return f\"\\\\det({name}) = \" + latex(determinant)\n",
    "# Function to format vectors dynamically for LaTeX\n",
    "def format_vector(name, vector):\n",
    "    return f\"{name} = \" + latex(vector)"
   ]
  },
  {
   "cell_type": "markdown",
   "metadata": {},
   "source": [
    "# Solution for 1)\n",
    "\n",
    "**Show:** This condition leads to a linear system of equations for the corresponding variables ($(m)$ equations with $(m)$ unknowns).\n",
    "\n",
    "(It can be shown that the solution of this system of equations indeed yields the minimum.)\n",
    "\n",
    "What form does this system of equations have?"
   ]
  },
  {
   "cell_type": "code",
   "execution_count": 26,
   "metadata": {},
   "outputs": [
    {
     "data": {
      "text/latex": [
       "$\\displaystyle S(x) = \\sum_{j=2}^{n - 1} \\left(- 2 x{\\left(j \\right)} + x{\\left(j - 1 \\right)} + x{\\left(j + 1 \\right)}\\right)^{2}$"
      ],
      "text/plain": [
       "<IPython.core.display.Math object>"
      ]
     },
     "metadata": {},
     "output_type": "display_data"
    },
    {
     "data": {
      "text/latex": [
       "$\\displaystyle \\frac{\\partial S}{\\partial x_j} = 4 \\sum_{j=2}^{n - 1} \\left(2 x{\\left(j \\right)} - x{\\left(j - 1 \\right)} - x{\\left(j + 1 \\right)}\\right)$"
      ],
      "text/plain": [
       "<IPython.core.display.Math object>"
      ]
     },
     "metadata": {},
     "output_type": "display_data"
    },
    {
     "data": {
      "text/latex": [
       "$\\displaystyle \\text{Condition for minimization: } 4 \\sum_{j=2}^{n - 1} \\left(2 x{\\left(j \\right)} - x{\\left(j - 1 \\right)} - x{\\left(j + 1 \\right)}\\right) = 0$"
      ],
      "text/plain": [
       "<IPython.core.display.Math object>"
      ]
     },
     "metadata": {},
     "output_type": "display_data"
    },
    {
     "data": {
      "text/latex": [
       "$\\displaystyle \\text{Tridiagonal equation: } - 2 x{\\left(j \\right)} + x{\\left(j - 1 \\right)} + x{\\left(j + 1 \\right)} = 0$"
      ],
      "text/plain": [
       "<IPython.core.display.Math object>"
      ]
     },
     "metadata": {},
     "output_type": "display_data"
    },
    {
     "data": {
      "text/latex": [
       "$\\displaystyle A = \\left[\\begin{matrix}-2 & 1 & 0\\\\1 & -2 & 1\\\\0 & 1 & -2\\end{matrix}\\right]$"
      ],
      "text/plain": [
       "<IPython.core.display.Math object>"
      ]
     },
     "metadata": {},
     "output_type": "display_data"
    },
    {
     "data": {
      "text/latex": [
       "$\\displaystyle b = \\left[\\begin{matrix}- x{\\left(1 \\right)}\\\\0\\\\- x{\\left(n \\right)}\\end{matrix}\\right]$"
      ],
      "text/plain": [
       "<IPython.core.display.Math object>"
      ]
     },
     "metadata": {},
     "output_type": "display_data"
    },
    {
     "data": {
      "text/latex": [
       "$\\displaystyle \\text{Linear system: } A \\mathbf{x} = \\mathbf{b}$"
      ],
      "text/plain": [
       "<IPython.core.display.Math object>"
      ]
     },
     "metadata": {},
     "output_type": "display_data"
    }
   ],
   "source": [
    "# Define the variables and function\n",
    "n = symbols('n', integer=True, positive=True)\n",
    "x = Function('x')  # Symbolic function x(j)\n",
    "j = symbols('j', integer=True)\n",
    "\n",
    "# Define the smoothness criterion\n",
    "smoothness_expr = Sum((x(j - 1) - 2 * x(j) + x(j + 1))**2, (j, 2, n - 1))\n",
    "display(Math(f\"S(x) = {latex(smoothness_expr)}\"))\n",
    "\n",
    "# Partial derivative with respect to x(j)\n",
    "partial_deriv = diff(smoothness_expr, x(j))\n",
    "display(Math(f\"\\\\frac{{\\\\partial S}}{{\\\\partial x_j}} = {latex(simplify(partial_deriv))}\"))\n",
    "\n",
    "# The necessary condition for minimization:\n",
    "condition = Eq(simplify(partial_deriv), 0)\n",
    "display(Math(f\"\\\\text{{Condition for minimization: }} {latex(condition)}\"))\n",
    "\n",
    "# General tridiagonal equation\n",
    "tridiagonal_eq = Eq(x(j - 1) - 2 * x(j) + x(j + 1), 0)\n",
    "display(Math(f\"\\\\text{{Tridiagonal equation: }} {latex(tridiagonal_eq)}\"))\n",
    "\n",
    "# Matrix formulation (symbolic example)\n",
    "A_example = Matrix([\n",
    "    [-2, 1, 0],\n",
    "    [1, -2, 1],\n",
    "    [0, 1, -2]\n",
    "])\n",
    "b_example = Matrix([-x(1), 0, -x(n)])  # Assuming boundary conditions are x(1) and x(n)\n",
    "display(Math(format_matrix(\"A\", A_example)))\n",
    "display(Math(format_vector(\"b\", b_example)))\n",
    "display(Math(f\"\\\\text{{Linear system: }} A \\\\mathbf{{x}} = \\\\mathbf{{b}}\"))"
   ]
  },
  {
   "cell_type": "markdown",
   "metadata": {},
   "source": [
    "# Solution for 2)\n",
    "\n",
    "**Assume** $(m = n - 2)$ (all internal coefficients are unknown).\n",
    "\n",
    "Find out (without computing) what the solution looks like in this case."
   ]
  },
  {
   "cell_type": "code",
   "execution_count": 31,
   "metadata": {},
   "outputs": [
    {
     "data": {
      "text/latex": [
       "$\\displaystyle x_j = a j^{2} + b j + c$"
      ],
      "text/plain": [
       "<IPython.core.display.Math object>"
      ]
     },
     "metadata": {},
     "output_type": "display_data"
    },
    {
     "data": {
      "text/latex": [
       "$\\displaystyle \\text{Boundary conditions: } a + b + c = x_{1}, 121 a + 11 b + c = x_{n}$"
      ],
      "text/plain": [
       "<IPython.core.display.Math object>"
      ]
     },
     "metadata": {},
     "output_type": "display_data"
    },
    {
     "data": {
      "text/latex": [
       "$\\displaystyle \\text{Smoothness condition: } 2 a = 0$"
      ],
      "text/plain": [
       "<IPython.core.display.Math object>"
      ]
     },
     "metadata": {},
     "output_type": "display_data"
    },
    {
     "data": {
      "text/latex": [
       "$\\displaystyle \\text{Solved coefficients: } a = 0, b = - \\frac{x_{1}}{10} + \\frac{x_{n}}{10}, c = \\frac{11 x_{1}}{10} - \\frac{x_{n}}{10}$"
      ],
      "text/plain": [
       "<IPython.core.display.Math object>"
      ]
     },
     "metadata": {},
     "output_type": "display_data"
    },
    {
     "data": {
      "text/latex": [
       "$\\displaystyle \\text{Final quadratic solution: } x_j = j \\left(- \\frac{x_{1}}{10} + \\frac{x_{n}}{10}\\right) + \\frac{11 x_{1}}{10} - \\frac{x_{n}}{10}$"
      ],
      "text/plain": [
       "<IPython.core.display.Math object>"
      ]
     },
     "metadata": {},
     "output_type": "display_data"
    }
   ],
   "source": [
    "# Define coefficients a, b, and c for a general quadratic solution\n",
    "a, b, c = symbols('a b c')\n",
    "\n",
    "# Define the general quadratic solution\n",
    "j = symbols('j', integer=True)\n",
    "general_solution = a * j**2 + b * j + c\n",
    "display(Math(f\"x_j = {latex(general_solution)}\"))\n",
    "\n",
    "# Boundary conditions\n",
    "x1, xn = symbols('x_1 x_n')  # Boundary values\n",
    "bc1 = Eq(general_solution.subs(j, 1), x1)  # At j = 1, x_1 is given\n",
    "bc2 = Eq(general_solution.subs(j, n), xn)  # At j = n, x_n is given\n",
    "display(Math(f\"\\\\text{{Boundary conditions: }} {latex(bc1)}, {latex(bc2)}\"))\n",
    "\n",
    "# Intermediate point condition\n",
    "# For smoothness, the quadratic should interpolate smoothly at any j.\n",
    "smooth_condition = Eq(general_solution.diff(j, 2), 0)\n",
    "display(Math(f\"\\\\text{{Smoothness condition: }} {latex(smooth_condition)}\"))\n",
    "\n",
    "# Solve for coefficients a, b, and c\n",
    "coefficients = solve([bc1, bc2, smooth_condition], [a, b, c])\n",
    "display(Math(f\"\\\\text{{Solved coefficients: }} a = {latex(coefficients[a])}, b = {latex(coefficients[b])}, c = {latex(coefficients[c])}\"))\n",
    "\n",
    "# Construct the full quadratic solution\n",
    "quadratic_solution = general_solution.subs(coefficients)\n",
    "display(Math(f\"\\\\text{{Final quadratic solution: }} x_j = {latex(quadratic_solution)}\"))"
   ]
  },
  {
   "cell_type": "markdown",
   "metadata": {},
   "source": [
    "1. We assumed that the smooth solution is a quadratic function of the form:\n",
    "   $$x_j = aj^2 + bj + c.$$\n",
    "2. Applied the boundary conditions $(x_1)$ and $(x_n)$ to solve for $(a, b, c)$:\n",
    "   - $(x(1) = x_1)$\n",
    "   - $(x(n) = x_n)$.\n",
    "3. Enforced the smoothness condition by setting the second derivative of the quadratic function to zero:\n",
    "   $$\\frac{d^2x_j}{dj^2} = 0.$$\n",
    "4. Solved the resulting system of equations to find the coefficients $(a, b, c)$.\n",
    "5. Substituted these coefficients back into the quadratic form to construct the final solution:\n",
    "   $$x_j = \\frac{x_n - x_1}{n - 1}(j - 1) + x_1.$$\n",
    "\n",
    "This represents a **linearly interpolated smooth solution** between $(x_1)$ and $(x_n)$."
   ]
  },
  {
   "cell_type": "markdown",
   "metadata": {},
   "source": [
    "# Solution for 3)\n",
    "\n",
    "**Implement** the solution to this system of equations, for simplicity assuming $(n)$ is odd and the unknown coefficients are $(x_2, x_4, \\ldots, x_{n-1})$ (the other coefficients are known and numerically provided)."
   ]
  },
  {
   "cell_type": "code",
   "execution_count": 28,
   "metadata": {},
   "outputs": [
    {
     "data": {
      "text/latex": [
       "$\\displaystyle \\text{Resulting coefficients: } [1.  1.4 1.8 2.2 2.6 3.  3.4 3.8 4.2 4.6 5. ]$"
      ],
      "text/plain": [
       "<IPython.core.display.Math object>"
      ]
     },
     "metadata": {},
     "output_type": "display_data"
    }
   ],
   "source": [
    "# Implementation of the solution\n",
    "def solve_tridiagonal(n, x1, xn):\n",
    "    \"\"\"Solve the tridiagonal system for smooth interpolation.\"\"\"\n",
    "    m = n - 2\n",
    "    # Construct the tridiagonal matrix\n",
    "    A = np.zeros((m, m))\n",
    "    for i in range(m):\n",
    "        A[i, i] = -2\n",
    "        if i > 0:\n",
    "            A[i, i - 1] = 1\n",
    "        if i < m - 1:\n",
    "            A[i, i + 1] = 1\n",
    "\n",
    "    # Right-hand side vector\n",
    "    b = np.zeros(m)\n",
    "    b[0] -= x1\n",
    "    b[-1] -= xn\n",
    "\n",
    "    # Solve the linear system\n",
    "    x_internal = np.linalg.solve(A, b)\n",
    "\n",
    "    # Combine known and unknown coefficients\n",
    "    x = np.zeros(n)\n",
    "    x[0] = x1\n",
    "    x[-1] = xn\n",
    "    x[1:-1] = x_internal\n",
    "\n",
    "    return x\n",
    "\n",
    "# Example test\n",
    "n = 11\n",
    "x1 = 1\n",
    "xn = 5\n",
    "result = solve_tridiagonal(n, x1, xn)\n",
    "display(Math(f\"\\\\text{{Resulting coefficients: }} {result}\"))"
   ]
  },
  {
   "cell_type": "code",
   "execution_count": 29,
   "metadata": {},
   "outputs": [
    {
     "data": {
      "text/latex": [
       "$\\displaystyle x_j = 0.4 j + 0.6$"
      ],
      "text/plain": [
       "<IPython.core.display.Math object>"
      ]
     },
     "metadata": {},
     "output_type": "display_data"
    },
    {
     "data": {
      "text/latex": [
       "$\\displaystyle \\text{Computed result for } n = 11, x_1 = 1, x_n = 5: [1.  1.4 1.8 2.2 2.6 3.  3.4 3.8 4.2 4.6 5. ]$"
      ],
      "text/plain": [
       "<IPython.core.display.Math object>"
      ]
     },
     "metadata": {},
     "output_type": "display_data"
    }
   ],
   "source": [
    "def solve_smooth_interpolation(n, x1, xn):\n",
    "    \"\"\"Compute the smooth interpolation for given n, x1, and xn.\"\"\"\n",
    "    j_values = np.arange(1, n + 1)  # Indices from 1 to n\n",
    "    solution = (xn - x1) / (n - 1) * (j_values - 1) + x1  # Quadratic interpolation\n",
    "    return solution\n",
    "\n",
    "# Example implementation for odd n\n",
    "n = 11  # Total size (odd)\n",
    "x1 = 1  # Boundary value\n",
    "xn = 5  # Boundary value\n",
    "result = solve_smooth_interpolation(n, x1, xn)\n",
    "\n",
    "# Display the result in LaTeX\n",
    "j = symbols('j', integer=True)\n",
    "x1_sym, xn_sym = symbols('x_1 x_n')\n",
    "solution_formula = simplify((xn - x1) / (n - 1) * (j - 1) + x1)\n",
    "display(Math(f\"x_j = {latex(solution_formula)}\"))\n",
    "display(Math(f\"\\\\text{{Computed result for }} n = {n}, {x1_sym} = {x1}, {xn_sym} = {xn}: {result}\"))"
   ]
  },
  {
   "cell_type": "markdown",
   "metadata": {},
   "source": [
    "# Solution for 4)\n",
    "\n",
    "**Document** your approach, including some specific test cases with visualization of the solution profile."
   ]
  },
  {
   "cell_type": "code",
   "execution_count": 30,
   "metadata": {},
   "outputs": [
    {
     "data": {
      "image/png": "[encoded data removed]",
      "text/plain": [
       "<Figure size 1000x500 with 1 Axes>"
      ]
     },
     "metadata": {},
     "output_type": "display_data"
    }
   ],
   "source": [
    "# Test Case 1: n = 11, x1 = 1, xn = 5\n",
    "n1, x1_1, xn_1 = 11, 1, 5\n",
    "result1 = solve_smooth_interpolation(n1, x1_1, xn_1)\n",
    "\n",
    "# Test Case 2: n = 7, x1 = 2, xn = 8\n",
    "n2, x1_2, xn_2 = 7, 2, 8\n",
    "result2 = solve_smooth_interpolation(n2, x1_2, xn_2)\n",
    "\n",
    "# Visualization\n",
    "plt.figure(figsize=(10, 5))\n",
    "plt.plot(range(1, n1 + 1), result1, marker='o', label=f\"n = {n1}, x1 = {x1_1}, xn = {xn_1}\")\n",
    "plt.plot(range(1, n2 + 1), result2, marker='x', label=f\"n = {n2}, x1 = {x1_2}, xn = {xn_2}\")\n",
    "plt.title(\"Smooth Interpolation Profiles\")\n",
    "plt.xlabel(\"Index (j)\")\n",
    "plt.ylabel(\"Value (x_j)\")\n",
    "plt.legend()\n",
    "plt.grid()\n",
    "plt.show()"
   ]
  }
 ],
 "metadata": {
  "kernelspec": {
   "display_name": ".venv",
   "language": "python",
   "name": "python3"
  },
  "language_info": {
   "codemirror_mode": {
    "name": "ipython",
    "version": 3
   },
   "file_extension": ".py",
   "mimetype": "text/x-python",
   "name": "python",
   "nbconvert_exporter": "python",
   "pygments_lexer": "ipython3",
   "version": "3.12.8"
  }
 },
 "nbformat": 4,
 "nbformat_minor": 2
}
